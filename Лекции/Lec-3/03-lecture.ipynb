{
 "cells": [
  {
   "cell_type": "markdown",
   "id": "prostate-observation",
   "metadata": {},
   "source": [
    "# Анализ данных осень 2021\n",
    "# Воспроизводимость и культура кода"
   ]
  },
  {
   "cell_type": "markdown",
   "id": "unique-cedar",
   "metadata": {},
   "source": [
    "### Почему Jupyter\n",
    "\n",
    "1. Интерактивность необхоидма для избежания долгого перезапуска скриптов\n",
    "1. Inline визуализация необходима для создания наглядных отчётов по аналитике\n",
    "1. Уже интегрирован в процессы разработки больших компаний и связан с другими инструментами (spark и субд)\n",
    "\n",
    "\n",
    "Почему не Google Colab\n",
    "\n",
    "1. Долгие загрузка и обработка файлов в облаке\n",
    "1. Лимит на длительность сессии\n",
    "1. Версионирование colab'ов намного сложнее\n",
    "\n",
    "\n",
    "Jupyter Lab\n",
    "\n",
    "[Установка](https://jupyterlab.readthedocs.io/en/stable/getting_started/installation.html#pip), [документация](https://jupyterlab.readthedocs.io/en/stable/user/interface.html)\n",
    "\n",
    "Различия с jupyter notebook:\n",
    "\n",
    "1. Дерево файлов\n",
    "1. Поддержка интерпретаторов других языков\n",
    "1. Интеграция расширений от сообщества\n",
    "\n",
    "\n",
    "Проблематика культуры кода в data science\n",
    "\n",
    "1. [В 2016 году](https://arxiv.org/pdf/2003.12206.pdf) более 70% of исследователей в области data science не смогли воспроизвести результаты статей, на которые ссылались. 50% не смогли воспроизвести свои же результаты"
   ]
  },
  {
   "cell_type": "markdown",
   "id": "objective-vision",
   "metadata": {},
   "source": [
    "---"
   ]
  },
  {
   "cell_type": "markdown",
   "id": "married-firewall",
   "metadata": {},
   "source": [
    "### Знакомая диаграмма \n",
    "\n",
    "<img src=\"pics/bi_process.png\" width=\"600\" height=\"600\" />"
   ]
  },
  {
   "cell_type": "markdown",
   "id": "positive-harvey",
   "metadata": {},
   "source": [
    "### Data Understanding\n",
    "\n",
    "Exploratory data analysis ([EDA](https://en.wikipedia.org/wiki/Exploratory_data_analysis)) - первый этап понимания данных. Визуализация датасета и изучение\n",
    "\n",
    "Проблемы:\n",
    "1. Версионирование файлов\n",
    "        raw, processed, production, experiments\n",
    "1. Невоспроизводимые notebook'и\n",
    "        отсутствующий код, непоследовательный запуск ячеек, отсутствие seed'ов\n",
    "1. Ленивые графики, отсутствие комментариев\n",
    "1. Процедурный код\n",
    "1. Код других стадий\n",
    "        моделирование и применение моделей в этом же ноутбуке"
   ]
  },
  {
   "cell_type": "markdown",
   "id": "sustained-archive",
   "metadata": {},
   "source": [
    "### Data Preparation\n",
    "\n",
    "Подготовка данных - создание новых признаков в данных, удаление выбросов, бесполезных и недостающих значений\n",
    "\n",
    "Проблемы:\n",
    "1. Модификация существующих ноутбуков под новые модели\n",
    "1. Все проблемы предыдущего этапа"
   ]
  },
  {
   "cell_type": "markdown",
   "id": "sustainable-burst",
   "metadata": {},
   "source": [
    "### Modeling\n",
    "\n",
    "Моделирование - создание статистических и предсказательных моделей, тренировка алгоритмов машинного обучения\n",
    "\n",
    "Проблемы:\n",
    "\n",
    "1. Код моделей в ноутбуке\n",
    "        Не выделенный в импортируемые модули код ведёт к дублированию кода, трудностям версионирования и ревью, невоспроизводимости\n",
    "1. Отсутствие записей об экспериментах\n",
    "        Невозможно восстановить ход мыслей, невозможно сравнить качество новых моделей с предыдущими, сложно восстановить конфиги моделей\n",
    "1. Отсутствие версионирования моделей\n",
    "1. Код на Python\n",
    "        Динамическая типизация, отсутствие статического анализа кода, конфликты зависимостей\n",
    "1. Снова все проблемы предыдущего этапа"
   ]
  },
  {
   "cell_type": "markdown",
   "id": "conventional-armenia",
   "metadata": {},
   "source": [
    "### Deployment\n",
    "\n",
    "Деплой - перевод модели в production окружение, использование на новых данных\n",
    "\n",
    "Проблемы:\n",
    "\n",
    "1. Отсутствие запускаемого кода\n",
    "        Оставшийся в ноутбуках код сложно переиспользовать\n",
    "1. Множество неупорядоченных ноутбуков\n",
    "1. И снова все проблемы предыдущего этапа"
   ]
  },
  {
   "cell_type": "markdown",
   "id": "religious-albuquerque",
   "metadata": {},
   "source": [
    "\\+ Пример дерева ужасного проекта по анализу данных"
   ]
  },
  {
   "cell_type": "markdown",
   "id": "reserved-thumbnail",
   "metadata": {},
   "source": [
    "---"
   ]
  },
  {
   "cell_type": "markdown",
   "id": "documented-dodge",
   "metadata": {},
   "source": [
    "## Способы решения проблем"
   ]
  },
  {
   "cell_type": "markdown",
   "id": "ready-light",
   "metadata": {},
   "source": [
    "### Хранение данных\n",
    "    - В идеале - отсутствие файлов\n",
    "    - Версионирование на уровне файловой системы\n",
    "    - Git LFS (Large File Storage)"
   ]
  },
  {
   "cell_type": "code",
   "execution_count": 8,
   "id": "soviet-brunei",
   "metadata": {},
   "outputs": [
    {
     "name": "stdout",
     "output_type": "stream",
     "text": [
      "\u001b[01;34m./examples/good_project/data/\u001b[00m\n",
      "├── \u001b[01;34mprocessed\u001b[00m\n",
      "│   ├── action2ix.pkl\n",
      "│   ├── action2ix_43scr_14d_1Mu.pkl\n",
      "│   ├── class_weights.pkl\n",
      "│   ├── class_weights_43scr_14d_1Mu.pkl\n",
      "│   ├── readme.md\n",
      "│   ├── sessions_df.csv\n",
      "│   └── sessions_w_time_df.csv\n",
      "└── \u001b[01;34mraw\u001b[00m\n",
      "    ├── \u001b[01;32mevents_43screens_14days_100k_users.csv\u001b[00m\n",
      "    ├── \u001b[01;32mevents_43screens_14days_1M_users.csv\u001b[00m\n",
      "    ├── \u001b[01;32mevents_43screens_14days_1M_users.csv.gz\u001b[00m\n",
      "    ├── \u001b[01;32mevents_62screens_1days_with_events.csv\u001b[00m\n",
      "    ├── \u001b[01;32mevents_62screens_1days_with_events.csv.gz\u001b[00m\n",
      "    ├── events_params.csv\n",
      "    ├── readme.md\n",
      "    └── \u001b[01;32msessions_1month.csv\u001b[00m\n",
      "\n",
      "2 directories, 15 files\n"
     ]
    }
   ],
   "source": [
    "# Пример версионирования на уровне файловой системы\n",
    "\n",
    "!tree ./examples/good_project/data/"
   ]
  },
  {
   "cell_type": "markdown",
   "id": "defensive-diving",
   "metadata": {},
   "source": [
    "### Невоспроизводимые notebook'и\n",
    "    - Вынесение кода в импортируемые модули\n",
    "    - Перезапуски ноутбуков при окончании работы с ними\n",
    "    - Фиксирование seed'ов"
   ]
  },
  {
   "cell_type": "code",
   "execution_count": 10,
   "id": "anonymous-mirror",
   "metadata": {},
   "outputs": [
    {
     "name": "stdout",
     "output_type": "stream",
     "text": [
      "\u001b[01;34m./examples/good_project/\u001b[00m\n",
      "├── 00-eda.ipynb\n",
      "├── 01-create_dataset.ipynb\n",
      "├── 02-tf_baseline.ipynb\n",
      "├── 02-train_ncsf.ipynb\n",
      "├── 02-train_sess_look-alike.ipynb\n",
      "├── Dockerfile\n",
      "├── Pipfile\n",
      "├── Pipfile.lock\n",
      "├── compose-dp-updater.yml\n",
      "├── \u001b[01;34mdata\u001b[00m\n",
      "│   ├── \u001b[01;34mprocessed\u001b[00m\n",
      "│   └── \u001b[01;34mraw\u001b[00m\n",
      "├── \u001b[01;34mdatasets\u001b[00m\n",
      "│   ├── __init__.py\n",
      "│   ├── autoencoder.py\n",
      "│   ├── filters.py\n",
      "│   ├── preprocessing.py\n",
      "│   └── pure.py\n",
      "├── \u001b[01;34mmodels\u001b[00m\n",
      "│   ├── __init__.py\n",
      "│   ├── \u001b[01;34mffncsf\u001b[00m\n",
      "│   ├── \u001b[01;34mmetrics\u001b[00m\n",
      "│   └── \u001b[01;34mncsf\u001b[00m\n",
      "├── \u001b[01;34mpyamplitude\u001b[00m\n",
      "│   ├── __init__.py\n",
      "│   ├── amplitude_exporter.py\n",
      "│   ├── amplitude_extractor.py\n",
      "│   ├── config.py\n",
      "│   ├── pg_saver.py\n",
      "│   ├── thread_export.py\n",
      "│   └── thread_extract.py\n",
      "└── run_parallel_db_updater.py\n",
      "\n",
      "9 directories, 23 files\n"
     ]
    }
   ],
   "source": [
    "# пример импортируемых модулей в проекте\n",
    "\n",
    "!tree -L 2 ./examples/good_project/"
   ]
  },
  {
   "cell_type": "code",
   "execution_count": 11,
   "id": "imperial-river",
   "metadata": {},
   "outputs": [],
   "source": [
    "# ./examples/good_project/02-tf_baseline.ipynb пример импортирования кода из модулей\n",
    "\n",
    "# ./examples/good_project/01-create_dataset.ipynb пример перезапущенных ячеек"
   ]
  },
  {
   "cell_type": "markdown",
   "id": "compatible-mapping",
   "metadata": {},
   "source": [
    "### Seed'ы\n",
    "\n",
    "    - Стоит фиксировать при любых случаных процессах\n",
    "    - Не стоит подбирать сиды для получения наилучших результатов\n",
    "\n",
    "### Ленивые графики, отсутствие комментариев\n",
    "    - Минимальное оформление графиков разобрано в прошлой лекции\n",
    "    - Резюмирование кода в ячейке\n",
    "\n",
    "### Процедурный код\n",
    "    - Вынесение кода в модули\n",
    "\n",
    "\n",
    "### Код других стадий\n",
    "    - Разделение ноутбуков\n",
    "    - Понимание процесса развития DS проекта"
   ]
  },
  {
   "cell_type": "markdown",
   "id": "furnished-peeing",
   "metadata": {},
   "source": [
    "### Код моделей в ноутбуке\n",
    "    - Вынесение кода в импортируемые модули, использование принципов ООП\n",
    "    - Вынесение конфигов в файлы"
   ]
  },
  {
   "cell_type": "code",
   "execution_count": 12,
   "id": "bottom-chemical",
   "metadata": {},
   "outputs": [],
   "source": [
    "# ./examples/good_project/test_settings.yml пример вынесения параметров в конфиг"
   ]
  },
  {
   "cell_type": "markdown",
   "id": "assumed-rider",
   "metadata": {},
   "source": [
    "### Отсутствие записей об экспериментах\n",
    "\n",
    "   - Учёт параметров и результатов экспериментов\n",
    "         \n",
    "   [Omniboard](https://github.com/vivekratnavel/omniboard), [tensorboard example](https://tensorboard.dev/experiment/FRbuxfG5SkaFPQQH4OcpYw/#scalars&runSelectionState=eyJlbnNlbWJsZV9wcmVkaWN0aW9uX2JuIjp0cnVlLCJlbnNlbWJsZV90cmFpbl9ibiI6dHJ1ZSwidGVtcF9zY2FsaW5nX3ByZWRpY3Rpb25fYm4iOnRydWUsInRlbXBfc2NhbGluZ190cmFpbl9ibiI6dHJ1ZSwidmFuaWxsYV9wcmVkaWN0aW9uX2JuIjp0cnVlLCJ2YW5pbGxhX3RyYWluX2JuIjp0cnVlfQ%3D%3D)\n",
    "\n",
    "   - Версионирование экспериментов"
   ]
  },
  {
   "cell_type": "code",
   "execution_count": 37,
   "id": "prospective-animal",
   "metadata": {},
   "outputs": [],
   "source": [
    "# Пример использования tensorboard\n",
    "\n",
    "from time import sleep\n",
    "import psutil\n",
    "from tensorboardX import SummaryWriter\n",
    "\n",
    "exp = 0"
   ]
  },
  {
   "cell_type": "code",
   "execution_count": 40,
   "id": "sized-sword",
   "metadata": {
    "collapsed": true,
    "jupyter": {
     "outputs_hidden": true
    },
    "tags": []
   },
   "outputs": [
    {
     "ename": "KeyboardInterrupt",
     "evalue": "",
     "output_type": "error",
     "traceback": [
      "\u001b[0;31m---------------------------------------------------------------------------\u001b[0m",
      "\u001b[0;31mKeyboardInterrupt\u001b[0m                         Traceback (most recent call last)",
      "\u001b[0;32m<ipython-input-40-ee44cc7bccec>\u001b[0m in \u001b[0;36m<module>\u001b[0;34m\u001b[0m\n\u001b[1;32m     16\u001b[0m     \u001b[0mt\u001b[0m \u001b[0;34m+=\u001b[0m \u001b[0;36m1\u001b[0m\u001b[0;34m\u001b[0m\u001b[0;34m\u001b[0m\u001b[0m\n\u001b[1;32m     17\u001b[0m \u001b[0;34m\u001b[0m\u001b[0m\n\u001b[0;32m---> 18\u001b[0;31m     \u001b[0msleep\u001b[0m\u001b[0;34m(\u001b[0m\u001b[0;36m0.5\u001b[0m\u001b[0;34m)\u001b[0m\u001b[0;34m\u001b[0m\u001b[0;34m\u001b[0m\u001b[0m\n\u001b[0m",
      "\u001b[0;31mKeyboardInterrupt\u001b[0m: "
     ]
    }
   ],
   "source": [
    "# Название эксперимента\n",
    "experiment_name = 'Exp {}'.format(exp)\n",
    "exp += 1\n",
    "\n",
    "# создание логгера\n",
    "logger = SummaryWriter(logdir='./examples/tensorboard_logs/' + experiment_name)\n",
    "\n",
    "# логгирование загруженности процессора и памяти\n",
    "t = 0\n",
    "while 1:\n",
    "    cpu_usage = psutil.cpu_percent()\n",
    "    memory_usage = psutil.virtual_memory().active / 1024**3\n",
    "    \n",
    "    logger.add_scalar(tag='Cpu usage', scalar_value=cpu_usage, global_step=t)\n",
    "    logger.add_scalar(tag='Memory usage', scalar_value=memory_usage, global_step=t)\n",
    "    t += 1\n",
    "    \n",
    "    sleep(0.5)"
   ]
  },
  {
   "cell_type": "markdown",
   "id": "surrounded-career",
   "metadata": {},
   "source": [
    "### Код на Python\n",
    "   - Использование псевдотипизации\n",
    "   - Использование статического анализатора [mypy](http://mypy-lang.org/)\n",
    "   - Использование виртуальных сред\n",
    "   - Использование другого языка внутри Python"
   ]
  },
  {
   "cell_type": "code",
   "execution_count": 47,
   "id": "featured-valentine",
   "metadata": {},
   "outputs": [
    {
     "name": "stdout",
     "output_type": "stream",
     "text": [
      "Функция без типовых аннотаций\n",
      "10 / 2 = 5.0\n",
      "2.5 / 2 = 1.25\n",
      "\n",
      "Функция c типовыми аннотациями\n",
      "10 / 2 = 5.0\n",
      "2.5 / 2 = 1.25\n"
     ]
    }
   ],
   "source": [
    "# Пример использования псевдотипизации\n",
    "\n",
    "def div2(a):\n",
    "    return a / 2\n",
    "\n",
    "print('Функция без типовых аннотаций')\n",
    "print('10 / 2 =', div2(10))\n",
    "print('2.5 / 2 =', div2(2.5))\n",
    "print()\n",
    "\n",
    "\n",
    "def div2_type_hints(a: int) -> float:\n",
    "    return a / 2\n",
    "\n",
    "print('Функция c типовыми аннотациями')\n",
    "print('10 / 2 =', div2_type_hints(10))\n",
    "print('2.5 / 2 =', div2_type_hints(2.5))"
   ]
  },
  {
   "cell_type": "code",
   "execution_count": 49,
   "id": "intended-humanity",
   "metadata": {},
   "outputs": [
    {
     "data": {
      "text/plain": [
       "[0.005, 0.505, 1.005, 1.505, 2.005, 2.505, 3.005, 3.505, 4.005, 4.505]"
      ]
     },
     "execution_count": 49,
     "metadata": {},
     "output_type": "execute_result"
    }
   ],
   "source": [
    "# Пример более сложной псевдотипизации\n",
    "from typing import List, Callable, Any\n",
    "\n",
    "def apply_f(array: List[int], func: Callable) -> List[Any]:\n",
    "    for i, item in enumerate(array):\n",
    "        array[i] = func(item)\n",
    "    return array\n",
    "\n",
    "eps = 0.01\n",
    "arr = [x + eps for x in range(10)]\n",
    "\n",
    "apply_f(arr, div2_type_hints)"
   ]
  },
  {
   "cell_type": "code",
   "execution_count": 51,
   "id": "retained-liechtenstein",
   "metadata": {},
   "outputs": [
    {
     "name": "stdout",
     "output_type": "stream",
     "text": [
      "[0.005, 0.505, 1.005, 1.505, 2.005, 2.505, 3.005, 3.505, 4.005, 4.505]\n"
     ]
    }
   ],
   "source": [
    "# Пример проверки статической типизации\n",
    "\n",
    "# запуск скрипта с помощью bash команды\n",
    "!python3 ./examples/python_type_hints.py"
   ]
  },
  {
   "cell_type": "code",
   "execution_count": 52,
   "id": "characteristic-leone",
   "metadata": {},
   "outputs": [
    {
     "name": "stdout",
     "output_type": "stream",
     "text": [
      "examples/python_type_hints.py:15: \u001b[1m\u001b[31merror:\u001b[m Argument 1 to \u001b[m\u001b[1m\"apply_f\"\u001b[m has incompatible type \u001b[m\u001b[1m\"List[float]\"\u001b[m; expected \u001b[m\u001b[1m\"List[int]\"\u001b[m\u001b[m\n",
      "\u001b[1m\u001b[31mFound 1 error in 1 file (checked 1 source file)\u001b[m\n"
     ]
    }
   ],
   "source": [
    "!mypy ./examples/python_type_hints.py"
   ]
  },
  {
   "cell_type": "markdown",
   "id": "fifty-television",
   "metadata": {},
   "source": [
    "# Пример использования С в питоне \n",
    "\n",
    "https://github.com/ultrajson/ultrajson/blob/main/python/"
   ]
  },
  {
   "cell_type": "markdown",
   "id": "imported-speaking",
   "metadata": {},
   "source": [
    "# Виртуальные среды\n",
    "\n",
    "Нужны для решения проблем с конфликтами зависимостей и зависимостью от окружения среды\n",
    "\n",
    "1. Package Installer for Python (PIP) - позволяет устанавливать пакеты из общего репозитория пакетов\n",
    "    Загрузка пакета репозиторий\n",
    "    \n",
    "    Пример команды \n",
    "    \n",
    "    `pip install package`\n",
    "\n",
    "1. Virtual Environment - устанавливает все пакеты в изолированную среду со своим python\n",
    "    Пример установки пакета\n",
    "    \n",
    "    `python3 -m venv env_name`\n",
    "    \n",
    "    `source env_name/bin/activate`\n",
    "    \n",
    "    `pip install package`\n",
    "\n",
    "1. Pipenv - устанавливает пакеты, контролирует конфликты зависимостей\n",
    "\n",
    "    Пример установки пакета\n",
    "    \n",
    "    `pipenv install package`"
   ]
  },
  {
   "cell_type": "code",
   "execution_count": 57,
   "id": "unusual-debut",
   "metadata": {},
   "outputs": [
    {
     "name": "stdout",
     "output_type": "stream",
     "text": [
      "\u001b[01;34m./examples/venv/\u001b[00m\n",
      "├── \u001b[01;34mbin\u001b[00m\n",
      "├── \u001b[01;34minclude\u001b[00m\n",
      "├── \u001b[01;34mlib\u001b[00m\n",
      "└── pyvenv.cfg\n",
      "\n",
      "3 directories, 1 file\n"
     ]
    }
   ],
   "source": [
    "# Пример Virtual Environment\n",
    "\n",
    "!tree -L 1 ./examples/venv/"
   ]
  },
  {
   "cell_type": "code",
   "execution_count": 61,
   "id": "medium-lease",
   "metadata": {},
   "outputs": [
    {
     "name": "stdout",
     "output_type": "stream",
     "text": [
      "-rw-r--r--  1 i.shamov  staff    269 16 сен 17:16 ./examples/good_project/Pipfile\n",
      "-rw-r--r--  1 i.shamov  staff  20161 16 сен 14:47 ./examples/good_project/Pipfile.lock\n"
     ]
    }
   ],
   "source": [
    "# Пример Pipenv\n",
    "\n",
    "!ls -l ./examples/good_project/*Pipfile*"
   ]
  },
  {
   "cell_type": "markdown",
   "id": "premium-barrier",
   "metadata": {},
   "source": [
    "### Множество неупорядоченных ноутбуков\n",
    "    - Использовать нумерацию в названиях файлов ноутбуков"
   ]
  },
  {
   "cell_type": "markdown",
   "id": "quiet-generic",
   "metadata": {},
   "source": [
    "---"
   ]
  },
  {
   "cell_type": "markdown",
   "id": "stable-personal",
   "metadata": {},
   "source": [
    "Короткое знакомство с [Kaggle](kaggle.com)"
   ]
  },
  {
   "cell_type": "code",
   "execution_count": null,
   "id": "incoming-surface",
   "metadata": {},
   "outputs": [],
   "source": []
  }
 ],
 "metadata": {
  "kernelspec": {
   "display_name": "Python 3",
   "language": "python",
   "name": "python3"
  },
  "language_info": {
   "codemirror_mode": {
    "name": "ipython",
    "version": 3
   },
   "file_extension": ".py",
   "mimetype": "text/x-python",
   "name": "python",
   "nbconvert_exporter": "python",
   "pygments_lexer": "ipython3",
   "version": "3.8.2"
  }
 },
 "nbformat": 4,
 "nbformat_minor": 5
}
