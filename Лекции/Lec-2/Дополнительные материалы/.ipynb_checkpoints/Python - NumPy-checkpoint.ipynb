{
 "cells": [
  {
   "cell_type": "markdown",
   "metadata": {},
   "source": [
    "# 2. Библиотеки анализа данных в Python. NumPy"
   ]
  },
  {
   "cell_type": "markdown",
   "metadata": {},
   "source": [
    "**Numpy** - это библиотека Python для вычислительно эффективных операций с многомерными массивами, предназначенная в основном для научных вычислений."
   ]
  },
  {
   "cell_type": "markdown",
   "metadata": {},
   "source": [
    "#### Библиотеку принято импортировать так"
   ]
  },
  {
   "cell_type": "code",
   "execution_count": 2,
   "metadata": {},
   "outputs": [],
   "source": [
    "import numpy as np"
   ]
  },
  {
   "cell_type": "markdown",
   "metadata": {},
   "source": [
    "Создадим массив чисел:"
   ]
  },
  {
   "cell_type": "code",
   "execution_count": 3,
   "metadata": {},
   "outputs": [
    {
     "data": {
      "text/plain": [
       "array([0, 1, 2, 3])"
      ]
     },
     "execution_count": 3,
     "metadata": {},
     "output_type": "execute_result"
    }
   ],
   "source": [
    "a = np.array([0, 1, 2, 3])\n",
    "a"
   ]
  },
  {
   "cell_type": "markdown",
   "metadata": {},
   "source": [
    "Такой массив может содержать:\n",
    "- значения физических величин в разые моменты времени при моделировании\n",
    "- значения сигнала, измеренного прибором\n",
    "- интенсивности пикселов \n",
    "- 3D координаты объектов, полученных, например, при МРТ\n",
    "- ...\n"
   ]
  },
  {
   "cell_type": "markdown",
   "metadata": {},
   "source": [
    "**Зачем NumPy?** \n",
    "Эффективность базовых операций "
   ]
  },
  {
   "cell_type": "code",
   "execution_count": 4,
   "metadata": {},
   "outputs": [],
   "source": [
    "L = range(1000)"
   ]
  },
  {
   "cell_type": "code",
   "execution_count": 5,
   "metadata": {},
   "outputs": [
    {
     "name": "stdout",
     "output_type": "stream",
     "text": [
      "220 µs ± 2.87 µs per loop (mean ± std. dev. of 7 runs, 1000 loops each)\n"
     ]
    }
   ],
   "source": [
    "%timeit [i**2 for i in L] # возведение каждого числа в квадрат"
   ]
  },
  {
   "cell_type": "code",
   "execution_count": 6,
   "metadata": {},
   "outputs": [],
   "source": [
    "a = np.arange(1000)"
   ]
  },
  {
   "cell_type": "code",
   "execution_count": 7,
   "metadata": {},
   "outputs": [
    {
     "name": "stdout",
     "output_type": "stream",
     "text": [
      "1.47 µs ± 39.5 ns per loop (mean ± std. dev. of 7 runs, 1000000 loops each)\n"
     ]
    }
   ],
   "source": [
    "%timeit a**2"
   ]
  },
  {
   "cell_type": "markdown",
   "metadata": {},
   "source": [
    "Интерактивная справка\n"
   ]
  },
  {
   "cell_type": "code",
   "execution_count": 8,
   "metadata": {},
   "outputs": [
    {
     "name": "stdout",
     "output_type": "stream",
     "text": [
      "Help on built-in function array in module numpy:\n",
      "\n",
      "array(...)\n",
      "    array(object, dtype=None, *, copy=True, order='K', subok=False, ndmin=0,\n",
      "          like=None)\n",
      "    \n",
      "    Create an array.\n",
      "    \n",
      "    Parameters\n",
      "    ----------\n",
      "    object : array_like\n",
      "        An array, any object exposing the array interface, an object whose\n",
      "        __array__ method returns an array, or any (nested) sequence.\n",
      "    dtype : data-type, optional\n",
      "        The desired data-type for the array.  If not given, then the type will\n",
      "        be determined as the minimum type required to hold the objects in the\n",
      "        sequence.\n",
      "    copy : bool, optional\n",
      "        If true (default), then the object is copied.  Otherwise, a copy will\n",
      "        only be made if __array__ returns a copy, if obj is a nested sequence,\n",
      "        or if a copy is needed to satisfy any of the other requirements\n",
      "        (`dtype`, `order`, etc.).\n",
      "    order : {'K', 'A', 'C', 'F'}, optional\n",
      "        Specify the memory layout of the array. If object is not an array, the\n",
      "        newly created array will be in C order (row major) unless 'F' is\n",
      "        specified, in which case it will be in Fortran order (column major).\n",
      "        If object is an array the following holds.\n",
      "    \n",
      "        ===== ========= ===================================================\n",
      "        order  no copy                     copy=True\n",
      "        ===== ========= ===================================================\n",
      "        'K'   unchanged F & C order preserved, otherwise most similar order\n",
      "        'A'   unchanged F order if input is F and not C, otherwise C order\n",
      "        'C'   C order   C order\n",
      "        'F'   F order   F order\n",
      "        ===== ========= ===================================================\n",
      "    \n",
      "        When ``copy=False`` and a copy is made for other reasons, the result is\n",
      "        the same as if ``copy=True``, with some exceptions for `A`, see the\n",
      "        Notes section. The default order is 'K'.\n",
      "    subok : bool, optional\n",
      "        If True, then sub-classes will be passed-through, otherwise\n",
      "        the returned array will be forced to be a base-class array (default).\n",
      "    ndmin : int, optional\n",
      "        Specifies the minimum number of dimensions that the resulting\n",
      "        array should have.  Ones will be pre-pended to the shape as\n",
      "        needed to meet this requirement.\n",
      "    like : array_like\n",
      "        Reference object to allow the creation of arrays which are not\n",
      "        NumPy arrays. If an array-like passed in as ``like`` supports\n",
      "        the ``__array_function__`` protocol, the result will be defined\n",
      "        by it. In this case, it ensures the creation of an array object\n",
      "        compatible with that passed in via this argument.\n",
      "    \n",
      "        .. note::\n",
      "            The ``like`` keyword is an experimental feature pending on\n",
      "            acceptance of :ref:`NEP 35 <NEP35>`.\n",
      "    \n",
      "        .. versionadded:: 1.20.0\n",
      "    \n",
      "    Returns\n",
      "    -------\n",
      "    out : ndarray\n",
      "        An array object satisfying the specified requirements.\n",
      "    \n",
      "    See Also\n",
      "    --------\n",
      "    empty_like : Return an empty array with shape and type of input.\n",
      "    ones_like : Return an array of ones with shape and type of input.\n",
      "    zeros_like : Return an array of zeros with shape and type of input.\n",
      "    full_like : Return a new array with shape of input filled with value.\n",
      "    empty : Return a new uninitialized array.\n",
      "    ones : Return a new array setting values to one.\n",
      "    zeros : Return a new array setting values to zero.\n",
      "    full : Return a new array of given shape filled with value.\n",
      "    \n",
      "    \n",
      "    Notes\n",
      "    -----\n",
      "    When order is 'A' and `object` is an array in neither 'C' nor 'F' order,\n",
      "    and a copy is forced by a change in dtype, then the order of the result is\n",
      "    not necessarily 'C' as expected. This is likely a bug.\n",
      "    \n",
      "    Examples\n",
      "    --------\n",
      "    >>> np.array([1, 2, 3])\n",
      "    array([1, 2, 3])\n",
      "    \n",
      "    Upcasting:\n",
      "    \n",
      "    >>> np.array([1, 2, 3.0])\n",
      "    array([ 1.,  2.,  3.])\n",
      "    \n",
      "    More than one dimension:\n",
      "    \n",
      "    >>> np.array([[1, 2], [3, 4]])\n",
      "    array([[1, 2],\n",
      "           [3, 4]])\n",
      "    \n",
      "    Minimum dimensions 2:\n",
      "    \n",
      "    >>> np.array([1, 2, 3], ndmin=2)\n",
      "    array([[1, 2, 3]])\n",
      "    \n",
      "    Type provided:\n",
      "    \n",
      "    >>> np.array([1, 2, 3], dtype=complex)\n",
      "    array([ 1.+0.j,  2.+0.j,  3.+0.j])\n",
      "    \n",
      "    Data-type consisting of more than one element:\n",
      "    \n",
      "    >>> x = np.array([(1,2),(3,4)],dtype=[('a','<i4'),('b','<i4')])\n",
      "    >>> x['a']\n",
      "    array([1, 3])\n",
      "    \n",
      "    Creating an array from sub-classes:\n",
      "    \n",
      "    >>> np.array(np.mat('1 2; 3 4'))\n",
      "    array([[1, 2],\n",
      "           [3, 4]])\n",
      "    \n",
      "    >>> np.array(np.mat('1 2; 3 4'), subok=True)\n",
      "    matrix([[1, 2],\n",
      "            [3, 4]])\n",
      "\n"
     ]
    }
   ],
   "source": [
    "help(np.array)"
   ]
  },
  {
   "cell_type": "markdown",
   "metadata": {},
   "source": [
    "поиск в документации\n"
   ]
  },
  {
   "cell_type": "code",
   "execution_count": 9,
   "metadata": {},
   "outputs": [
    {
     "name": "stdout",
     "output_type": "stream",
     "text": [
      "Search results for 'create array'\n",
      "---------------------------------\n",
      "numpy.memmap\n",
      "    Create a memory-map to an array stored in a *binary* file on disk.\n",
      "numpy.diagflat\n",
      "    Create a two-dimensional array with the flattened input as a diagonal.\n",
      "numpy.fromiter\n",
      "    Create a new 1-dimensional array from an iterable object.\n",
      "numpy.partition\n",
      "    Return a partitioned copy of an array.\n",
      "numpy.ctypeslib.as_array\n",
      "    Create a numpy array from a ctypes array or POINTER.\n",
      "numpy.ma.diagflat\n",
      "    Create a two-dimensional array with the flattened input as a diagonal.\n",
      "numpy.ma.make_mask\n",
      "    Create a boolean mask from an array.\n",
      "numpy.lib.Arrayterator\n",
      "    Buffered iterator for big arrays.\n",
      "numpy.ctypeslib.as_ctypes\n",
      "    Create and return a ctypes object from a numpy array.  Actually\n",
      "numpy.ma.mrecords.fromarrays\n",
      "    Creates a mrecarray from a (flat) list of masked arrays.\n",
      "numpy.ma.mvoid.__new__\n",
      "    Create a new masked array from scratch.\n",
      "numpy.ma.MaskedArray.__new__\n",
      "    Create a new masked array from scratch.\n",
      "numpy.ma.mrecords.fromtextfile\n",
      "    Creates a mrecarray from data stored in the file `filename`.\n",
      "numpy.array\n",
      "    array(object, dtype=None, *, copy=True, order='K', subok=False, ndmin=0,\n",
      "numpy.asarray\n",
      "    Convert the input to an array.\n",
      "numpy.ndarray\n",
      "    ndarray(shape, dtype=float, buffer=None, offset=0,\n",
      "numpy.recarray\n",
      "    Construct an ndarray that allows field access using attributes.\n",
      "numpy.chararray\n",
      "    chararray(shape, itemsize=1, unicode=False, buffer=None, offset=0,\n",
      "numpy.exp\n",
      "    Calculate the exponential of all elements in the input array.\n",
      "numpy.pad\n",
      "    Pad an array.\n",
      "numpy.asanyarray\n",
      "    Convert the input to an ndarray, but pass ndarray subclasses through.\n",
      "numpy.cbrt\n",
      "    Return the cube-root of an array, element-wise.\n",
      "numpy.copy\n",
      "    Return an array copy of the given object.\n",
      "numpy.diag\n",
      "    Extract a diagonal or construct a diagonal array.\n",
      "numpy.exp2\n",
      "    Calculate `2**p` for all `p` in the input array.\n",
      "numpy.fmax\n",
      "    Element-wise maximum of array elements.\n",
      "numpy.fmin\n",
      "    Element-wise minimum of array elements.\n",
      "numpy.load\n",
      "    Load arrays or pickled objects from ``.npy``, ``.npz`` or pickled files.\n",
      "numpy.modf\n",
      "    Return the fractional and integral parts of an array, element-wise.\n",
      "numpy.rint\n",
      "    Round elements of the array to the nearest integer.\n",
      "numpy.sort\n",
      "    Return a sorted copy of an array.\n",
      "numpy.sqrt\n",
      "    Return the non-negative square-root of an array, element-wise.\n",
      "numpy.array_equiv\n",
      "    Returns True if input arrays are shape consistent and all elements equal.\n",
      "numpy.expm1\n",
      "    Calculate ``exp(x) - 1`` for all elements in the array.\n",
      "numpy.isnan\n",
      "    Test element-wise for NaN and return result as a boolean array.\n",
      "numpy.isnat\n",
      "    Test element-wise for NaT (not a time) and return result as a boolean array.\n",
      "numpy.log10\n",
      "    Return the base 10 logarithm of the input array, element-wise.\n",
      "numpy.log1p\n",
      "    Return the natural logarithm of one plus the input array, element-wise.\n",
      "numpy.power\n",
      "    First array elements raised to powers from second array, element-wise.\n",
      "numpy.ufunc\n",
      "    Functions that operate element by element on whole arrays.\n",
      "numpy.choose\n",
      "    Construct an array from an index array and a set of arrays to choose from.\n",
      "numpy.nditer\n",
      "    Efficient multi-dimensional iterator object to iterate over arrays.\n",
      "numpy.maximum\n",
      "    Element-wise maximum of array elements.\n",
      "numpy.minimum\n",
      "    Element-wise minimum of array elements.\n",
      "numpy.swapaxes\n",
      "    Interchange two axes of an array.\n",
      "numpy.full_like\n",
      "    Return a full array with the same shape and type as a given array.\n",
      "numpy.ones_like\n",
      "    Return an array of ones with the same shape and type as a given array.\n",
      "numpy.bitwise_or\n",
      "    Compute the bit-wise OR of two arrays element-wise.\n",
      "numpy.empty_like\n",
      "    Return a new array with the same shape and type as a given array.\n",
      "numpy.zeros_like\n",
      "    Return an array of zeros with the same shape and type as a given array.\n",
      "numpy.asarray_chkfinite\n",
      "    Convert the input to an array, checking for NaNs or Infs.\n",
      "numpy.bitwise_and\n",
      "    Compute the bit-wise AND of two arrays element-wise.\n",
      "numpy.bitwise_xor\n",
      "    Compute the bit-wise XOR of two arrays element-wise.\n",
      "numpy.float_power\n",
      "    First array elements raised to powers from second array, element-wise.\n",
      "numpy.ma.exp\n",
      "    Calculate the exponential of all elements in the input array.\n",
      "numpy.diag_indices\n",
      "    Return the indices to access the main diagonal of an array.\n",
      "numpy.nested_iters\n",
      "    Create nditers for use in nested loops\n",
      "numpy.ma.sqrt\n",
      "    Return the non-negative square-root of an array, element-wise.\n",
      "numpy.ma.log10\n",
      "    Return the base 10 logarithm of the input array, element-wise.\n",
      "numpy.chararray.tolist\n",
      "    a.tolist()\n",
      "numpy.put_along_axis\n",
      "    Put values into the destination array by matching 1d index and data slices.\n",
      "numpy.ma.choose\n",
      "    Use an index array to construct a new array from a set of choices.\n",
      "numpy.ma.mrecords.MaskedRecords.__new__\n",
      "    Create a new masked array from scratch.\n",
      "numpy.ma.maximum\n",
      "    Element-wise maximum of array elements.\n",
      "numpy.ma.minimum\n",
      "    Element-wise minimum of array elements.\n",
      "numpy.savez_compressed\n",
      "    Save several arrays into a single file in compressed ``.npz`` format.\n",
      "numpy.matlib.rand\n",
      "    Return a matrix of random values with given shape.\n",
      "numpy.datetime_as_string\n",
      "    Convert an array of datetimes into an array of strings.\n",
      "numpy.ma.bitwise_or\n",
      "    Compute the bit-wise OR of two arrays element-wise.\n",
      "numpy.ma.bitwise_and\n",
      "    Compute the bit-wise AND of two arrays element-wise.\n",
      "numpy.ma.bitwise_xor\n",
      "    Compute the bit-wise XOR of two arrays element-wise.\n",
      "numpy.ma.make_mask_none\n",
      "    Return a boolean mask of the given shape, filled with False.\n",
      "numpy.ma.tests.test_subclassing.MSubArray.__new__\n",
      "    Create a new masked array from scratch.\n",
      "numpy.core._multiarray_umath.clip\n",
      "    Clip (limit) the values in an array.\n",
      "numpy.core.tests.test_overrides._new_duck_type_and_implements\n",
      "    Create a duck array type and implements functions.\n",
      "numpy.ma.tests.test_subclassing.SubMaskedArray.__new__\n",
      "    Create a new masked array from scratch.\n",
      "numpy.ma.mrecords.fromrecords\n",
      "    Creates a MaskedRecords from a list of records.\n",
      "numpy.core._multiarray_umath.empty_like\n",
      "    Return a new array with the same shape and type as a given array.\n",
      "numpy.f2py.tests.test_array_from_pyobj.Array.has_shared_memory\n",
      "    Check that created array shares data with input array.\n",
      "numpy.core._dtype._construction_repr\n",
      "    Creates a string repr of the dtype, excluding the 'dtype()' part\n",
      "numpy.abs\n",
      "    Calculate the absolute value element-wise.\n",
      "numpy.add\n",
      "    Add arguments element-wise.\n",
      "numpy.cos\n",
      "    Cosine element-wise.\n",
      "numpy.lib.recfunctions.require_fields\n",
      "    Casts a structured array to a new dtype using assignment by field-name.\n",
      "numpy.log\n",
      "    Natural logarithm, element-wise.\n",
      "numpy.mod\n",
      "    Return element-wise remainder of division.\n",
      "numpy.sin\n",
      "    Trigonometric sine, element-wise.\n",
      "numpy.tan\n",
      "    Compute tangent element-wise.\n",
      "numpy.ceil\n",
      "    Return the ceiling of the input, element-wise.\n",
      "numpy.conj\n",
      "    Return the complex conjugate, element-wise.\n",
      "numpy.cosh\n",
      "    Hyperbolic cosine, element-wise.\n",
      "numpy.fabs\n",
      "    Compute the absolute values element-wise.\n",
      "numpy.fmod\n",
      "    Return the element-wise remainder of division.\n",
      "numpy.less\n",
      "    Return the truth value of (x1 < x2) element-wise.\n",
      "numpy.log2\n",
      "    Base-2 logarithm of `x`.\n",
      "numpy.sign\n",
      "    Returns an element-wise indication of the sign of a number.\n",
      "numpy.sinh\n",
      "    Hyperbolic sine, element-wise.\n",
      "numpy.tanh\n",
      "    Compute hyperbolic tangent element-wise.\n",
      "numpy.equal\n",
      "    Return (x1 == x2) element-wise.\n",
      "numpy.core._multiarray_umath.datetime_as_string\n",
      "    Convert an array of datetimes into an array of strings.\n",
      "numpy.floor\n",
      "    Return the floor of the input, element-wise.\n",
      "numpy.frexp\n",
      "    Decompose the elements of x into mantissa and twos exponent.\n",
      "numpy.hypot\n",
      "    Given the \"legs\" of a right triangle, return its hypotenuse.\n",
      "numpy.isinf\n",
      "    Test element-wise for positive or negative infinity.\n",
      "numpy.ldexp\n",
      "    Returns x1 * 2**x2, element-wise.\n",
      "numpy.trunc\n",
      "    Return the truncated value of the input, element-wise.\n",
      "numpy.arccos\n",
      "    Trigonometric inverse cosine, element-wise.\n",
      "numpy.arcsin\n",
      "    Inverse sine, element-wise.\n",
      "numpy.arctan\n",
      "    Trigonometric inverse tangent, element-wise.\n",
      "numpy.around\n",
      "    Evenly round to the given number of decimals.\n",
      "numpy.divide\n",
      "    Returns a true division of the inputs, element-wise.\n",
      "numpy.divmod\n",
      "    Return element-wise quotient and remainder simultaneously.\n",
      "numpy.source\n",
      "    Print or write to a file the source code for a NumPy object.\n",
      "numpy.square\n",
      "    Return the element-wise square of the input.\n",
      "numpy.arccosh\n",
      "    Inverse hyperbolic cosine, element-wise.\n",
      "numpy.arcsinh\n",
      "    Inverse hyperbolic sine element-wise.\n",
      "numpy.arctan2\n",
      "    Element-wise arc tangent of ``x1/x2`` choosing the quadrant correctly.\n",
      "numpy.arctanh\n",
      "    Inverse hyperbolic tangent element-wise.\n",
      "numpy.deg2rad\n",
      "    Convert angles from degrees to radians.\n",
      "numpy.degrees\n",
      "    Convert angles from radians to degrees.\n",
      "numpy.greater\n",
      "    Return the truth value of (x1 > x2) element-wise.\n",
      "numpy.rad2deg\n",
      "    Convert angles from radians to degrees.\n",
      "numpy.radians\n",
      "    Convert angles from degrees to radians.\n",
      "numpy.signbit\n",
      "    Returns element-wise True where signbit is set (less than zero).\n",
      "numpy.spacing\n",
      "    Return the distance between x and the nearest adjacent number.\n",
      "numpy.copysign\n",
      "    Change the sign of x1 to that of x2, element-wise.\n",
      "numpy.diagonal\n",
      "    Return specified diagonals.\n",
      "numpy.isfinite\n",
      "    Test element-wise for finiteness (not infinity or not Not a Number).\n",
      "numpy.multiply\n",
      "    Multiply arguments element-wise.\n",
      "numpy.negative\n",
      "    Numerical negative, element-wise.\n",
      "numpy.subtract\n",
      "    Subtract arguments, element-wise.\n",
      "numpy.heaviside\n",
      "    Compute the Heaviside step function.\n",
      "numpy.logaddexp\n",
      "    Logarithm of the sum of exponentiations of the inputs.\n",
      "numpy.nextafter\n",
      "    Return the next floating-point value after x1 towards x2, element-wise.\n",
      "numpy.not_equal\n",
      "    Return (x1 != x2) element-wise.\n",
      "numpy.left_shift\n",
      "    Shift the bits of an integer to the left.\n",
      "numpy.less_equal\n",
      "    Return the truth value of (x1 <= x2) element-wise.\n",
      "numpy.logaddexp2\n",
      "    Logarithm of the sum of exponentiations of the inputs in base-2.\n",
      "numpy.logical_or\n",
      "    Compute the truth value of x1 OR x2 element-wise.\n",
      "numpy.nan_to_num\n",
      "    Replace NaN with zero and infinity with large finite numbers (default\n",
      "numpy.reciprocal\n",
      "    Return the reciprocal of the argument, element-wise.\n",
      "numpy.bitwise_not\n",
      "    Compute bit-wise inversion, or bit-wise NOT, element-wise.\n",
      "numpy.einsum_path\n",
      "    Evaluates the lowest cost contraction order for an einsum expression by\n",
      "numpy.histogram2d\n",
      "    Compute the bi-dimensional histogram of two data samples.\n",
      "numpy.logical_and\n",
      "    Compute the truth value of x1 AND x2 element-wise.\n",
      "numpy.logical_not\n",
      "    Compute the truth value of NOT x element-wise.\n",
      "numpy.logical_xor\n",
      "    Compute the truth value of x1 XOR x2, element-wise.\n",
      "numpy.right_shift\n",
      "    Shift the bits of an integer to the right.\n",
      "numpy.ma.abs\n",
      "    Calculate the absolute value element-wise.\n",
      "numpy.ma.add\n",
      "    Add arguments element-wise.\n",
      "numpy.ma.cos\n",
      "    Cosine element-wise.\n",
      "numpy.ma.log\n",
      "    Natural logarithm, element-wise.\n",
      "numpy.ma.mod\n",
      "    Return element-wise remainder of division.\n",
      "numpy.floor_divide\n",
      "    Return the largest integer smaller or equal to the division of the inputs.\n",
      "numpy.ma.sin\n",
      "    Trigonometric sine, element-wise.\n",
      "numpy.ma.tan\n",
      "    Compute tangent element-wise.\n",
      "numpy.ma.ceil\n",
      "    Return the ceiling of the input, element-wise.\n",
      "numpy.ma.cosh\n",
      "    Hyperbolic cosine, element-wise.\n",
      "numpy.fft.ifft\n",
      "    Compute the one-dimensional inverse discrete Fourier Transform.\n",
      "numpy.ma.fabs\n",
      "    Compute the absolute values element-wise.\n",
      "numpy.ma.fmod\n",
      "    Return the element-wise remainder of division.\n",
      "numpy.ma.less\n",
      "    Return the truth value of (x1 < x2) element-wise.\n",
      "numpy.ma.log2\n",
      "    Base-2 logarithm of `x`.\n",
      "numpy.greater_equal\n",
      "    Return the truth value of (x1 >= x2) element-wise.\n",
      "numpy.ma.sinh\n",
      "    Hyperbolic sine, element-wise.\n",
      "numpy.ma.tanh\n",
      "    Compute hyperbolic tangent element-wise.\n",
      "numpy.busdaycalendar\n",
      "    A business day calendar object that efficiently stores information\n",
      "numpy.fft.ifftn\n",
      "    Compute the N-dimensional inverse discrete Fourier Transform.\n",
      "numpy.ma.equal\n",
      "    Return (x1 == x2) element-wise.\n",
      "numpy.ma.floor\n",
      "    Return the floor of the input, element-wise.\n",
      "numpy.ma.hypot\n",
      "    Given the \"legs\" of a right triangle, return its hypotenuse.\n",
      "numpy.ma.arccos\n",
      "    Trigonometric inverse cosine, element-wise.\n",
      "numpy.ma.arcsin\n",
      "    Inverse sine, element-wise.\n",
      "numpy.ma.arctan\n",
      "    Trigonometric inverse tangent, element-wise.\n",
      "numpy.ma.divide\n",
      "    Returns a true division of the inputs, element-wise.\n",
      "numpy.lib.recfunctions.unstructured_to_structured\n",
      "    Converts an n-D unstructured array into an (n-1)-D structured array.\n",
      "numpy.ma.arccosh\n",
      "    Inverse hyperbolic cosine, element-wise.\n",
      "numpy.ma.arcsinh\n",
      "    Inverse hyperbolic sine element-wise.\n",
      "numpy.ma.arctan2\n",
      "    Element-wise arc tangent of ``x1/x2`` choosing the quadrant correctly.\n",
      "numpy.ma.arctanh\n",
      "    Inverse hyperbolic tangent element-wise.\n",
      "numpy.ma.greater\n",
      "    Return the truth value of (x1 > x2) element-wise.\n",
      "numpy.ma.tests.test_subclassing.SubArray\n",
      "    ndarray(shape, dtype=float, buffer=None, offset=0,\n",
      "numpy.ma.multiply\n",
      "    Multiply arguments element-wise.\n",
      "numpy.ma.negative\n",
      "    Numerical negative, element-wise.\n",
      "numpy.ma.subtract\n",
      "    Subtract arguments, element-wise.\n",
      "numpy.ma.conjugate\n",
      "    Return the complex conjugate, element-wise.\n",
      "numpy.ma.not_equal\n",
      "    Return (x1 != x2) element-wise.\n",
      "numpy.ma.remainder\n",
      "    Return element-wise remainder of division.\n",
      "numpy.ma.empty_like\n",
      "    empty_like(prototype, dtype=None, order='K', subok=True, shape=None)\n",
      "numpy.ma.less_equal\n",
      "    Return the truth value of (x1 <= x2) element-wise.\n",
      "numpy.ma.logical_or\n",
      "    Compute the truth value of x1 OR x2 element-wise.\n",
      "numpy.ma.logical_and\n",
      "    Compute the truth value of x1 AND x2 element-wise.\n",
      "numpy.ma.logical_not\n",
      "    Compute the truth value of NOT x element-wise.\n",
      "numpy.ma.logical_xor\n",
      "    Compute the truth value of x1 XOR x2, element-wise.\n",
      "numpy.ma.true_divide\n",
      "    Returns a true division of the inputs, element-wise.\n",
      "numpy.ma.floor_divide\n",
      "    Return the largest integer smaller or equal to the division of the inputs.\n",
      "numpy.ma.greater_equal\n",
      "    Return the truth value of (x1 >= x2) element-wise.\n",
      "numpy.core.tests.test_function_base.PhysicalQuantity2\n",
      "    ndarray(shape, dtype=float, buffer=None, offset=0,\n",
      "numpy.lib.tests.test_stride_tricks.SimpleSubClass\n",
      "    ndarray(shape, dtype=float, buffer=None, offset=0,\n",
      "numpy.ma.tests.test_subclassing.ComplicatedSubArray\n",
      "    ndarray(shape, dtype=float, buffer=None, offset=0,\n",
      "numpy.lib.tests.test_stride_tricks.VerySimpleSubClass\n",
      "    ndarray(shape, dtype=float, buffer=None, offset=0,\n",
      "numpy.core.tests.test_multiarray.TestArrayPriority.Foo\n",
      "    ndarray(shape, dtype=float, buffer=None, offset=0,\n",
      "numpy.core.tests.test_multiarray.TestArrayPriority.Bar\n",
      "    ndarray(shape, dtype=float, buffer=None, offset=0,\n",
      "numpy.testing._gen_alignment_data\n",
      "    generator producing data with different alignment and offsets\n",
      "numpy.random.RandomState.rand\n",
      "    Random values in a given shape.\n",
      "numpy.random.Generator.permuted\n",
      "    Randomly permute `x` along axis `axis`."
     ]
    }
   ],
   "source": [
    "np.lookfor('create array') "
   ]
  },
  {
   "cell_type": "code",
   "execution_count": 10,
   "metadata": {},
   "outputs": [],
   "source": [
    "np.con*?"
   ]
  },
  {
   "cell_type": "markdown",
   "metadata": {},
   "source": [
    "### Создание массивов"
   ]
  },
  {
   "cell_type": "markdown",
   "metadata": {},
   "source": [
    "* **1-D**:\n"
   ]
  },
  {
   "cell_type": "code",
   "execution_count": 11,
   "metadata": {},
   "outputs": [
    {
     "data": {
      "text/plain": [
       "array([0, 1, 2, 3])"
      ]
     },
     "execution_count": 11,
     "metadata": {},
     "output_type": "execute_result"
    }
   ],
   "source": [
    "a = np.array([0, 1, 2, 3])\n",
    "a"
   ]
  },
  {
   "cell_type": "code",
   "execution_count": 12,
   "metadata": {},
   "outputs": [
    {
     "data": {
      "text/plain": [
       "1"
      ]
     },
     "execution_count": 12,
     "metadata": {},
     "output_type": "execute_result"
    }
   ],
   "source": [
    "a.ndim"
   ]
  },
  {
   "cell_type": "code",
   "execution_count": 13,
   "metadata": {},
   "outputs": [
    {
     "data": {
      "text/plain": [
       "(4,)"
      ]
     },
     "execution_count": 13,
     "metadata": {},
     "output_type": "execute_result"
    }
   ],
   "source": [
    "a.shape"
   ]
  },
  {
   "cell_type": "code",
   "execution_count": 14,
   "metadata": {},
   "outputs": [
    {
     "data": {
      "text/plain": [
       "4"
      ]
     },
     "execution_count": 14,
     "metadata": {},
     "output_type": "execute_result"
    }
   ],
   "source": [
    "len(a)"
   ]
  },
  {
   "cell_type": "markdown",
   "metadata": {},
   "source": [
    "* **2-D, 3-D, ...**:\n"
   ]
  },
  {
   "cell_type": "code",
   "execution_count": 15,
   "metadata": {},
   "outputs": [
    {
     "data": {
      "text/plain": [
       "array([[0, 1, 2],\n",
       "       [3, 4, 5]])"
      ]
     },
     "execution_count": 15,
     "metadata": {},
     "output_type": "execute_result"
    }
   ],
   "source": [
    "b = np.array([[0, 1, 2], [3, 4, 5]])    # 2 x 3 массив\n",
    "b"
   ]
  },
  {
   "cell_type": "code",
   "execution_count": 16,
   "metadata": {},
   "outputs": [
    {
     "data": {
      "text/plain": [
       "2"
      ]
     },
     "execution_count": 16,
     "metadata": {},
     "output_type": "execute_result"
    }
   ],
   "source": [
    "b.ndim"
   ]
  },
  {
   "cell_type": "code",
   "execution_count": 17,
   "metadata": {},
   "outputs": [
    {
     "data": {
      "text/plain": [
       "(2, 3)"
      ]
     },
     "execution_count": 17,
     "metadata": {},
     "output_type": "execute_result"
    }
   ],
   "source": [
    "b.shape"
   ]
  },
  {
   "cell_type": "code",
   "execution_count": 18,
   "metadata": {},
   "outputs": [
    {
     "data": {
      "text/plain": [
       "2"
      ]
     },
     "execution_count": 18,
     "metadata": {},
     "output_type": "execute_result"
    }
   ],
   "source": [
    "len(b)     # возвращает \"длину\" первой размерности"
   ]
  },
  {
   "cell_type": "code",
   "execution_count": 19,
   "metadata": {},
   "outputs": [
    {
     "data": {
      "text/plain": [
       "array([[[1],\n",
       "        [2]],\n",
       "\n",
       "       [[3],\n",
       "        [4]]])"
      ]
     },
     "execution_count": 19,
     "metadata": {},
     "output_type": "execute_result"
    }
   ],
   "source": [
    "c = np.array([[[1], [2]], [[3], [4]]])\n",
    "c"
   ]
  },
  {
   "cell_type": "code",
   "execution_count": 20,
   "metadata": {},
   "outputs": [
    {
     "data": {
      "text/plain": [
       "(2, 2, 1)"
      ]
     },
     "execution_count": 20,
     "metadata": {},
     "output_type": "execute_result"
    }
   ],
   "source": [
    "c.shape"
   ]
  },
  {
   "cell_type": "markdown",
   "metadata": {},
   "source": [
    "### Методы для создания массивов"
   ]
  },
  {
   "cell_type": "markdown",
   "metadata": {},
   "source": [
    "На практике мы редко добавляем элементы по одному\n"
   ]
  },
  {
   "cell_type": "markdown",
   "metadata": {},
   "source": [
    "- Равномерно распределенные элементы:\n"
   ]
  },
  {
   "cell_type": "code",
   "execution_count": 21,
   "metadata": {},
   "outputs": [
    {
     "data": {
      "text/plain": [
       "array([0, 1, 2, 3, 4, 5, 6, 7, 8, 9])"
      ]
     },
     "execution_count": 21,
     "metadata": {},
     "output_type": "execute_result"
    }
   ],
   "source": [
    "a = np.arange(10) # 0 .. n-1  (!)\n",
    "a"
   ]
  },
  {
   "cell_type": "code",
   "execution_count": 22,
   "metadata": {},
   "outputs": [
    {
     "data": {
      "text/plain": [
       "array([1, 3, 5, 7])"
      ]
     },
     "execution_count": 22,
     "metadata": {},
     "output_type": "execute_result"
    }
   ],
   "source": [
    "b = np.arange(1, 9, 2) # start, end (exclusive), step\n",
    "b"
   ]
  },
  {
   "cell_type": "markdown",
   "metadata": {},
   "source": [
    "- по числу элементов:\n"
   ]
  },
  {
   "cell_type": "code",
   "execution_count": 23,
   "metadata": {},
   "outputs": [
    {
     "data": {
      "text/plain": [
       "array([0. , 0.2, 0.4, 0.6, 0.8, 1. ])"
      ]
     },
     "execution_count": 23,
     "metadata": {},
     "output_type": "execute_result"
    }
   ],
   "source": [
    "c = np.linspace(0, 1, 6)   # start, end, num-points\n",
    "c"
   ]
  },
  {
   "cell_type": "code",
   "execution_count": 24,
   "metadata": {},
   "outputs": [
    {
     "data": {
      "text/plain": [
       "array([0. , 0.2, 0.4, 0.6, 0.8])"
      ]
     },
     "execution_count": 24,
     "metadata": {},
     "output_type": "execute_result"
    }
   ],
   "source": [
    "d = np.linspace(0, 1, 5, endpoint=False)\n",
    "d"
   ]
  },
  {
   "cell_type": "markdown",
   "metadata": {},
   "source": [
    "- Часто встречающиеся массивы:\n"
   ]
  },
  {
   "cell_type": "code",
   "execution_count": 25,
   "metadata": {},
   "outputs": [
    {
     "data": {
      "text/plain": [
       "array([[1., 1., 1.],\n",
       "       [1., 1., 1.],\n",
       "       [1., 1., 1.]])"
      ]
     },
     "execution_count": 25,
     "metadata": {},
     "output_type": "execute_result"
    }
   ],
   "source": [
    "a = np.ones((3, 3))  # reminder: (3, 3) is a tuple\n",
    "a"
   ]
  },
  {
   "cell_type": "code",
   "execution_count": 26,
   "metadata": {},
   "outputs": [
    {
     "data": {
      "text/plain": [
       "array([[0., 0.],\n",
       "       [0., 0.]])"
      ]
     },
     "execution_count": 26,
     "metadata": {},
     "output_type": "execute_result"
    }
   ],
   "source": [
    "b = np.zeros((2, 2))\n",
    "b"
   ]
  },
  {
   "cell_type": "code",
   "execution_count": 27,
   "metadata": {},
   "outputs": [
    {
     "data": {
      "text/plain": [
       "array([[1., 0., 0.],\n",
       "       [0., 1., 0.],\n",
       "       [0., 0., 1.]])"
      ]
     },
     "execution_count": 27,
     "metadata": {},
     "output_type": "execute_result"
    }
   ],
   "source": [
    "c = np.eye(3)\n",
    "c"
   ]
  },
  {
   "cell_type": "code",
   "execution_count": 28,
   "metadata": {},
   "outputs": [
    {
     "data": {
      "text/plain": [
       "array([[1, 0, 0, 0],\n",
       "       [0, 2, 0, 0],\n",
       "       [0, 0, 3, 0],\n",
       "       [0, 0, 0, 4]])"
      ]
     },
     "execution_count": 28,
     "metadata": {},
     "output_type": "execute_result"
    }
   ],
   "source": [
    "d = np.diag(np.array([1, 2, 3, 4]))\n",
    "d"
   ]
  },
  {
   "cell_type": "markdown",
   "metadata": {},
   "source": [
    "* `np.random` генерация случайных чисел (Mersenne Twister PRNG):"
   ]
  },
  {
   "cell_type": "code",
   "execution_count": 29,
   "metadata": {},
   "outputs": [
    {
     "data": {
      "text/plain": [
       "array([0.50755507, 0.0211933 , 0.43352176, 0.44631306])"
      ]
     },
     "execution_count": 29,
     "metadata": {},
     "output_type": "execute_result"
    }
   ],
   "source": [
    "a = np.random.rand(4)       # uniform in [0, 1]\n",
    "a  "
   ]
  },
  {
   "cell_type": "code",
   "execution_count": 30,
   "metadata": {},
   "outputs": [
    {
     "data": {
      "text/plain": [
       "array([ 0.65034618, -0.51433646,  0.53942869,  1.52676162])"
      ]
     },
     "execution_count": 30,
     "metadata": {},
     "output_type": "execute_result"
    }
   ],
   "source": [
    "b = np.random.randn(4)      # Gaussian\n",
    "b  "
   ]
  },
  {
   "cell_type": "code",
   "execution_count": 31,
   "metadata": {},
   "outputs": [],
   "source": [
    "np.random.seed(1234)        # Setting the random seed"
   ]
  },
  {
   "cell_type": "markdown",
   "metadata": {},
   "source": [
    "### Основные типы данных NumPy"
   ]
  },
  {
   "cell_type": "markdown",
   "metadata": {},
   "source": [
    "Точка после числа означает, что это тип данных `float64`\n"
   ]
  },
  {
   "cell_type": "code",
   "execution_count": 32,
   "metadata": {},
   "outputs": [
    {
     "data": {
      "text/plain": [
       "dtype('int32')"
      ]
     },
     "execution_count": 32,
     "metadata": {},
     "output_type": "execute_result"
    }
   ],
   "source": [
    "a = np.array([1, 2, 3])\n",
    "a.dtype"
   ]
  },
  {
   "cell_type": "code",
   "execution_count": 33,
   "metadata": {},
   "outputs": [
    {
     "data": {
      "text/plain": [
       "dtype('float64')"
      ]
     },
     "execution_count": 33,
     "metadata": {},
     "output_type": "execute_result"
    }
   ],
   "source": [
    "b = np.array([1., 2., 3.])\n",
    "b.dtype"
   ]
  },
  {
   "cell_type": "markdown",
   "metadata": {},
   "source": [
    "Можно задать тип данных явно. По умолчанию - `float64`"
   ]
  },
  {
   "cell_type": "code",
   "execution_count": 34,
   "metadata": {},
   "outputs": [
    {
     "data": {
      "text/plain": [
       "dtype('float64')"
      ]
     },
     "execution_count": 34,
     "metadata": {},
     "output_type": "execute_result"
    }
   ],
   "source": [
    "c = np.array([1, 2, 3], dtype=float)\n",
    "c.dtype"
   ]
  },
  {
   "cell_type": "code",
   "execution_count": 35,
   "metadata": {},
   "outputs": [
    {
     "data": {
      "text/plain": [
       "dtype('float64')"
      ]
     },
     "execution_count": 35,
     "metadata": {},
     "output_type": "execute_result"
    }
   ],
   "source": [
    "a = np.ones((3, 3))\n",
    "a.dtype"
   ]
  },
  {
   "cell_type": "markdown",
   "metadata": {},
   "source": [
    "Прочие типы данных:"
   ]
  },
  {
   "cell_type": "markdown",
   "metadata": {},
   "source": [
    "- Комплексные числа\n"
   ]
  },
  {
   "cell_type": "code",
   "execution_count": 36,
   "metadata": {},
   "outputs": [
    {
     "data": {
      "text/plain": [
       "dtype('complex128')"
      ]
     },
     "execution_count": 36,
     "metadata": {},
     "output_type": "execute_result"
    }
   ],
   "source": [
    "d = np.array([1+2j, 3+4j, 5+6*1j])\n",
    "d.dtype"
   ]
  },
  {
   "cell_type": "markdown",
   "metadata": {},
   "source": [
    " - Bool\n"
   ]
  },
  {
   "cell_type": "code",
   "execution_count": 37,
   "metadata": {},
   "outputs": [
    {
     "data": {
      "text/plain": [
       "dtype('bool')"
      ]
     },
     "execution_count": 37,
     "metadata": {},
     "output_type": "execute_result"
    }
   ],
   "source": [
    "e = np.array([True, False, False, True])\n",
    "e.dtype"
   ]
  },
  {
   "cell_type": "markdown",
   "metadata": {},
   "source": [
    "- Строки\n",
    "\n",
    "На строки память выделяется \"жадно\" - по максимальному числу литер в строке. \n",
    "В этом примере на каждую строку выделяется по 7 литер, и тип данных - 'S7'"
   ]
  },
  {
   "cell_type": "code",
   "execution_count": 38,
   "metadata": {},
   "outputs": [
    {
     "data": {
      "text/plain": [
       "dtype('<U7')"
      ]
     },
     "execution_count": 38,
     "metadata": {},
     "output_type": "execute_result"
    }
   ],
   "source": [
    "f = np.array(['Bonjour', 'Hello', 'Hallo',])\n",
    "f.dtype     # <--- strings containing max. 7 letters"
   ]
  },
  {
   "cell_type": "markdown",
   "metadata": {},
   "source": [
    "### Индексирование массивов и срезы"
   ]
  },
  {
   "cell_type": "markdown",
   "metadata": {},
   "source": [
    "В целом так же, как со встроенными последовательностями Python (например, как со списками).\n"
   ]
  },
  {
   "cell_type": "code",
   "execution_count": 39,
   "metadata": {},
   "outputs": [
    {
     "data": {
      "text/plain": [
       "array([0, 1, 2, 3, 4, 5, 6, 7, 8, 9])"
      ]
     },
     "execution_count": 39,
     "metadata": {},
     "output_type": "execute_result"
    }
   ],
   "source": [
    "a = np.arange(10)\n",
    "a"
   ]
  },
  {
   "cell_type": "code",
   "execution_count": 40,
   "metadata": {},
   "outputs": [
    {
     "data": {
      "text/plain": [
       "(0, 2, 9)"
      ]
     },
     "execution_count": 40,
     "metadata": {},
     "output_type": "execute_result"
    }
   ],
   "source": [
    "a[0], a[2], a[-1]"
   ]
  },
  {
   "cell_type": "markdown",
   "metadata": {},
   "source": [
    "Работает и популярный в Python способ отражения массива:\n"
   ]
  },
  {
   "cell_type": "code",
   "execution_count": 41,
   "metadata": {},
   "outputs": [
    {
     "data": {
      "text/plain": [
       "array([9, 8, 7, 6, 5, 4, 3, 2, 1, 0])"
      ]
     },
     "execution_count": 41,
     "metadata": {},
     "output_type": "execute_result"
    }
   ],
   "source": [
    "a[::-1]"
   ]
  },
  {
   "cell_type": "markdown",
   "metadata": {},
   "source": [
    "Для многомерных массивов индексы - это кортежи целых чисел\n"
   ]
  },
  {
   "cell_type": "code",
   "execution_count": 42,
   "metadata": {},
   "outputs": [
    {
     "data": {
      "text/plain": [
       "array([[0, 0, 0],\n",
       "       [0, 1, 0],\n",
       "       [0, 0, 2]])"
      ]
     },
     "execution_count": 42,
     "metadata": {},
     "output_type": "execute_result"
    }
   ],
   "source": [
    "a = np.diag(np.arange(3))\n",
    "a"
   ]
  },
  {
   "cell_type": "code",
   "execution_count": 43,
   "metadata": {},
   "outputs": [
    {
     "data": {
      "text/plain": [
       "1"
      ]
     },
     "execution_count": 43,
     "metadata": {},
     "output_type": "execute_result"
    }
   ],
   "source": [
    "a[1, 1]"
   ]
  },
  {
   "cell_type": "code",
   "execution_count": 44,
   "metadata": {},
   "outputs": [
    {
     "data": {
      "text/plain": [
       "array([[ 0,  0,  0],\n",
       "       [ 0,  1,  0],\n",
       "       [ 0, 10,  2]])"
      ]
     },
     "execution_count": 44,
     "metadata": {},
     "output_type": "execute_result"
    }
   ],
   "source": [
    "a[2, 1] = 10 # third line, second column\n",
    "a"
   ]
  },
  {
   "cell_type": "code",
   "execution_count": 45,
   "metadata": {},
   "outputs": [
    {
     "data": {
      "text/plain": [
       "array([0, 1, 0])"
      ]
     },
     "execution_count": 45,
     "metadata": {},
     "output_type": "execute_result"
    }
   ],
   "source": [
    "a[1]"
   ]
  },
  {
   "cell_type": "markdown",
   "metadata": {},
   "source": [
    "**Срезы**"
   ]
  },
  {
   "cell_type": "code",
   "execution_count": 46,
   "metadata": {},
   "outputs": [
    {
     "data": {
      "text/plain": [
       "array([0, 1, 2, 3, 4, 5, 6, 7, 8, 9])"
      ]
     },
     "execution_count": 46,
     "metadata": {},
     "output_type": "execute_result"
    }
   ],
   "source": [
    "a = np.arange(10)\n",
    "a"
   ]
  },
  {
   "cell_type": "code",
   "execution_count": 47,
   "metadata": {},
   "outputs": [
    {
     "data": {
      "text/plain": [
       "array([2, 5, 8])"
      ]
     },
     "execution_count": 47,
     "metadata": {},
     "output_type": "execute_result"
    }
   ],
   "source": [
    "a[2:9:3] # [start:end:step]"
   ]
  },
  {
   "cell_type": "markdown",
   "metadata": {},
   "source": [
    "Последний индекс не включается"
   ]
  },
  {
   "cell_type": "code",
   "execution_count": 48,
   "metadata": {},
   "outputs": [
    {
     "data": {
      "text/plain": [
       "array([0, 1, 2, 3])"
      ]
     },
     "execution_count": 48,
     "metadata": {},
     "output_type": "execute_result"
    }
   ],
   "source": [
    "a[:4]"
   ]
  },
  {
   "cell_type": "markdown",
   "metadata": {},
   "source": [
    "По умолчанию \\`start\\` -  0,\n",
    "\\`end\\` - индекс последнего элемента, \\`step\\` - 1:\n"
   ]
  },
  {
   "cell_type": "code",
   "execution_count": 49,
   "metadata": {},
   "outputs": [
    {
     "data": {
      "text/plain": [
       "array([1, 2])"
      ]
     },
     "execution_count": 49,
     "metadata": {},
     "output_type": "execute_result"
    }
   ],
   "source": [
    "a[1:3]"
   ]
  },
  {
   "cell_type": "code",
   "execution_count": 50,
   "metadata": {},
   "outputs": [
    {
     "data": {
      "text/plain": [
       "array([0, 2, 4, 6, 8])"
      ]
     },
     "execution_count": 50,
     "metadata": {},
     "output_type": "execute_result"
    }
   ],
   "source": [
    "a[::2]"
   ]
  },
  {
   "cell_type": "code",
   "execution_count": 51,
   "metadata": {},
   "outputs": [
    {
     "data": {
      "text/plain": [
       "array([3, 4, 5, 6, 7, 8, 9])"
      ]
     },
     "execution_count": 51,
     "metadata": {},
     "output_type": "execute_result"
    }
   ],
   "source": [
    "a[3:]"
   ]
  },
  {
   "cell_type": "markdown",
   "metadata": {},
   "source": [
    "Можно совмещать присваивание и срез:\n"
   ]
  },
  {
   "cell_type": "code",
   "execution_count": 52,
   "metadata": {},
   "outputs": [
    {
     "data": {
      "text/plain": [
       "array([ 0,  1,  2,  3,  4, 10, 10, 10, 10, 10])"
      ]
     },
     "execution_count": 52,
     "metadata": {},
     "output_type": "execute_result"
    }
   ],
   "source": [
    "a = np.arange(10)\n",
    "a[5:] = 10\n",
    "a"
   ]
  },
  {
   "cell_type": "code",
   "execution_count": 53,
   "metadata": {},
   "outputs": [
    {
     "data": {
      "text/plain": [
       "array([0, 1, 2, 3, 4, 4, 3, 2, 1, 0])"
      ]
     },
     "execution_count": 53,
     "metadata": {},
     "output_type": "execute_result"
    }
   ],
   "source": [
    "b = np.arange(5)\n",
    "a[5:] = b[::-1]\n",
    "a"
   ]
  },
  {
   "cell_type": "markdown",
   "metadata": {},
   "source": [
    "### Индексирование масками"
   ]
  },
  {
   "cell_type": "code",
   "execution_count": 54,
   "metadata": {},
   "outputs": [
    {
     "name": "stderr",
     "output_type": "stream",
     "text": [
      "<ipython-input-54-6b0721ab5c4f>:2: DeprecationWarning: This function is deprecated. Please call randint(0, 20 + 1) instead\n",
      "  a = np.random.random_integers(0, 20, 15)\n"
     ]
    },
    {
     "data": {
      "text/plain": [
       "array([10,  3,  8,  0, 19, 10, 11,  9, 10,  6,  0, 20, 12,  7, 14])"
      ]
     },
     "execution_count": 54,
     "metadata": {},
     "output_type": "execute_result"
    }
   ],
   "source": [
    "np.random.seed(3)\n",
    "a = np.random.random_integers(0, 20, 15)\n",
    "a"
   ]
  },
  {
   "cell_type": "code",
   "execution_count": 55,
   "metadata": {},
   "outputs": [
    {
     "data": {
      "text/plain": [
       "array([False,  True, False,  True, False, False, False,  True, False,\n",
       "        True,  True, False,  True, False, False])"
      ]
     },
     "execution_count": 55,
     "metadata": {},
     "output_type": "execute_result"
    }
   ],
   "source": [
    "(a % 3 == 0)"
   ]
  },
  {
   "cell_type": "code",
   "execution_count": 56,
   "metadata": {},
   "outputs": [
    {
     "data": {
      "text/plain": [
       "array([ 3,  0,  9,  6,  0, 12])"
      ]
     },
     "execution_count": 56,
     "metadata": {},
     "output_type": "execute_result"
    }
   ],
   "source": [
    "mask = (a % 3 == 0)\n",
    "extract_from_a = a[mask] # or,  a[a%3==0]\n",
    "extract_from_a           # extract a sub-array with the mask"
   ]
  },
  {
   "cell_type": "markdown",
   "metadata": {},
   "source": [
    "Индесирование маской может быть очень полезным для присваивания значений части элементов массива:\n"
   ]
  },
  {
   "cell_type": "code",
   "execution_count": 57,
   "metadata": {},
   "outputs": [
    {
     "data": {
      "text/plain": [
       "array([10, -1,  8, -1, 19, 10, 11, -1, 10, -1, -1, 20, -1,  7, 14])"
      ]
     },
     "execution_count": 57,
     "metadata": {},
     "output_type": "execute_result"
    }
   ],
   "source": [
    "a[a % 3 == 0] = -1\n",
    "a"
   ]
  },
  {
   "cell_type": "markdown",
   "metadata": {},
   "source": [
    "### Индексирование массивом целых чисел"
   ]
  },
  {
   "cell_type": "code",
   "execution_count": 58,
   "metadata": {},
   "outputs": [
    {
     "data": {
      "text/plain": [
       "array([ 0, 10, 20, 30, 40, 50, 60, 70, 80, 90])"
      ]
     },
     "execution_count": 58,
     "metadata": {},
     "output_type": "execute_result"
    }
   ],
   "source": [
    "a = np.arange(0, 100, 10)\n",
    "a"
   ]
  },
  {
   "cell_type": "code",
   "execution_count": 59,
   "metadata": {},
   "outputs": [
    {
     "data": {
      "text/plain": [
       "array([20, 30, 20, 40, 20])"
      ]
     },
     "execution_count": 59,
     "metadata": {},
     "output_type": "execute_result"
    }
   ],
   "source": [
    "a[[2, 3, 2, 4, 2]]  # note: [2, 3, 2, 4, 2] is a Python list"
   ]
  },
  {
   "cell_type": "code",
   "execution_count": 60,
   "metadata": {},
   "outputs": [
    {
     "data": {
      "text/plain": [
       "array([   0,   10,   20,   30,   40,   50,   60, -100,   80, -100])"
      ]
     },
     "execution_count": 60,
     "metadata": {},
     "output_type": "execute_result"
    }
   ],
   "source": [
    "a[[9, 7]] = -100\n",
    "a"
   ]
  }
 ],
 "metadata": {
  "kernelspec": {
   "display_name": "Python 3 (ipykernel)",
   "language": "python",
   "name": "python3"
  },
  "language_info": {
   "codemirror_mode": {
    "name": "ipython",
    "version": 3
   },
   "file_extension": ".py",
   "mimetype": "text/x-python",
   "name": "python",
   "nbconvert_exporter": "python",
   "pygments_lexer": "ipython3",
   "version": "3.9.5"
  },
  "name": "lesson5_part1_NumPy.ipynb"
 },
 "nbformat": 4,
 "nbformat_minor": 1
}
