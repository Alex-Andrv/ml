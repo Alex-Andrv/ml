{
 "cells": [
  {
   "cell_type": "code",
   "execution_count": 1,
   "id": "463ed36d-2407-4890-a854-aeacdf0ae24f",
   "metadata": {},
   "outputs": [],
   "source": [
    "import pandas as pd\n",
    "import numpy as np\n",
    "import matplotlib.pyplot as plt\n",
    "\n",
    "plt.rcParams['figure.figsize'] = [14, 3]"
   ]
  },
  {
   "cell_type": "markdown",
   "id": "d16b85ac-777e-41e5-b5c4-ce09a251ce0a",
   "metadata": {},
   "source": [
    "#### О пользователях"
   ]
  },
  {
   "cell_type": "markdown",
   "id": "15e119cc-3239-4862-a0e7-1d491045126c",
   "metadata": {},
   "source": [
    "### users.csv:\n",
    "* user_id – уникальный идентификатор пользователя\n",
    "* sex – указанный пользователем пол в анкете\n",
    "* age – указанный пользователем в анкете возраст пользователя. 0 – не указан.\n",
    "* city_id - указанный пользователем в анкете город проживания. 0 – не указан."
   ]
  },
  {
   "cell_type": "code",
   "execution_count": 2,
   "id": "fb22d202-820e-438f-b6c3-fb65ea039474",
   "metadata": {},
   "outputs": [
    {
     "name": "stdout",
     "output_type": "stream",
     "text": [
      "dataset shape: (27769, 4)\n"
     ]
    },
    {
     "data": {
      "text/html": [
       "<div>\n",
       "<style scoped>\n",
       "    .dataframe tbody tr th:only-of-type {\n",
       "        vertical-align: middle;\n",
       "    }\n",
       "\n",
       "    .dataframe tbody tr th {\n",
       "        vertical-align: top;\n",
       "    }\n",
       "\n",
       "    .dataframe thead th {\n",
       "        text-align: right;\n",
       "    }\n",
       "</style>\n",
       "<table border=\"1\" class=\"dataframe\">\n",
       "  <thead>\n",
       "    <tr style=\"text-align: right;\">\n",
       "      <th></th>\n",
       "      <th>user_id</th>\n",
       "      <th>sex</th>\n",
       "      <th>age</th>\n",
       "      <th>city_id</th>\n",
       "    </tr>\n",
       "  </thead>\n",
       "  <tbody>\n",
       "    <tr>\n",
       "      <th>0</th>\n",
       "      <td>0</td>\n",
       "      <td>2</td>\n",
       "      <td>19</td>\n",
       "      <td>0</td>\n",
       "    </tr>\n",
       "    <tr>\n",
       "      <th>1</th>\n",
       "      <td>1</td>\n",
       "      <td>1</td>\n",
       "      <td>0</td>\n",
       "      <td>1</td>\n",
       "    </tr>\n",
       "    <tr>\n",
       "      <th>2</th>\n",
       "      <td>2</td>\n",
       "      <td>2</td>\n",
       "      <td>24</td>\n",
       "      <td>2</td>\n",
       "    </tr>\n",
       "    <tr>\n",
       "      <th>3</th>\n",
       "      <td>3</td>\n",
       "      <td>1</td>\n",
       "      <td>20</td>\n",
       "      <td>3</td>\n",
       "    </tr>\n",
       "    <tr>\n",
       "      <th>4</th>\n",
       "      <td>4</td>\n",
       "      <td>2</td>\n",
       "      <td>29</td>\n",
       "      <td>4</td>\n",
       "    </tr>\n",
       "    <tr>\n",
       "      <th>5</th>\n",
       "      <td>5</td>\n",
       "      <td>2</td>\n",
       "      <td>22</td>\n",
       "      <td>5</td>\n",
       "    </tr>\n",
       "    <tr>\n",
       "      <th>6</th>\n",
       "      <td>6</td>\n",
       "      <td>1</td>\n",
       "      <td>21</td>\n",
       "      <td>6</td>\n",
       "    </tr>\n",
       "  </tbody>\n",
       "</table>\n",
       "</div>"
      ],
      "text/plain": [
       "   user_id  sex  age  city_id\n",
       "0        0    2   19        0\n",
       "1        1    1    0        1\n",
       "2        2    2   24        2\n",
       "3        3    1   20        3\n",
       "4        4    2   29        4\n",
       "5        5    2   22        5\n",
       "6        6    1   21        6"
      ]
     },
     "execution_count": 2,
     "metadata": {},
     "output_type": "execute_result"
    }
   ],
   "source": [
    "users = pd.read_csv('users.csv', sep=',')\n",
    "print(f'dataset shape: {users.shape}')\n",
    "users.head(7)"
   ]
  },
  {
   "cell_type": "code",
   "execution_count": 3,
   "id": "85edaad4-b449-4bba-805d-a114f18c6498",
   "metadata": {},
   "outputs": [
    {
     "data": {
      "text/plain": [
       "<AxesSubplot:>"
      ]
     },
     "execution_count": 3,
     "metadata": {},
     "output_type": "execute_result"
    },
    {
     "data": {
      "image/png": "[encoded data removed]",
      "text/plain": [
       "<Figure size 1008x216 with 1 Axes>"
      ]
     },
     "metadata": {
      "needs_background": "light"
     },
     "output_type": "display_data"
    }
   ],
   "source": [
    "# Пользователи с какими id есть в данных?\n",
    "\n",
    "users.user_id.hist(bins=100, rwidth=0.9)"
   ]
  },
  {
   "cell_type": "code",
   "execution_count": 4,
   "id": "731ee753-7762-446f-ab21-ae2bfc1ae9a5",
   "metadata": {},
   "outputs": [
    {
     "data": {
      "text/plain": [
       "<AxesSubplot:>"
      ]
     },
     "execution_count": 4,
     "metadata": {},
     "output_type": "execute_result"
    },
    {
     "data": {
      "image/png": "[encoded data removed]",
      "text/plain": [
       "<Figure size 216x144 with 1 Axes>"
      ]
     },
     "metadata": {
      "needs_background": "light"
     },
     "output_type": "display_data"
    }
   ],
   "source": [
    "# Пол пользователей\n",
    "\n",
    "users.sex.hist(figsize=(3, 2))"
   ]
  },
  {
   "cell_type": "code",
   "execution_count": 5,
   "id": "6e0ab095-65ac-443a-8da4-963b03804007",
   "metadata": {},
   "outputs": [
    {
     "data": {
      "text/plain": [
       "30"
      ]
     },
     "execution_count": 5,
     "metadata": {},
     "output_type": "execute_result"
    }
   ],
   "source": [
    "(users[users.sex < 1]).shape[0] # без пола"
   ]
  },
  {
   "cell_type": "code",
   "execution_count": 6,
   "id": "a92cc3ac-155e-42b0-98b5-fc4ddfaa9308",
   "metadata": {},
   "outputs": [
    {
     "data": {
      "text/plain": [
       "<AxesSubplot:>"
      ]
     },
     "execution_count": 6,
     "metadata": {},
     "output_type": "execute_result"
    },
    {
     "data": {
      "image/png": "[encoded data removed]",
      "text/plain": [
       "<Figure size 1008x216 with 1 Axes>"
      ]
     },
     "metadata": {
      "needs_background": "light"
     },
     "output_type": "display_data"
    }
   ],
   "source": [
    "# Возраст\n",
    "\n",
    "users.age.hist(bins=100)  #Много пустых данных"
   ]
  },
  {
   "cell_type": "code",
   "execution_count": 7,
   "id": "0dca37e9-4147-458d-8a0f-ac1b96f009c3",
   "metadata": {},
   "outputs": [
    {
     "data": {
      "text/plain": [
       "<AxesSubplot:>"
      ]
     },
     "execution_count": 7,
     "metadata": {},
     "output_type": "execute_result"
    },
    {
     "data": {
      "image/png": "[encoded data removed]",
      "text/plain": [
       "<Figure size 1008x216 with 1 Axes>"
      ]
     },
     "metadata": {
      "needs_background": "light"
     },
     "output_type": "display_data"
    }
   ],
   "source": [
    "# Возраст основной аудитории\n",
    "\n",
    "users[(users.age > 0) & (users.age < 60)].age.hist(bins=100)"
   ]
  },
  {
   "cell_type": "code",
   "execution_count": 8,
   "id": "5b41b234-f1b1-4fbb-9b37-d225251d0eb8",
   "metadata": {},
   "outputs": [
    {
     "name": "stdout",
     "output_type": "stream",
     "text": [
      "Количество городов: 2457\n"
     ]
    },
    {
     "data": {
      "text/plain": [
       "<AxesSubplot:>"
      ]
     },
     "execution_count": 8,
     "metadata": {},
     "output_type": "execute_result"
    },
    {
     "data": {
      "image/png": "[encoded data removed]",
      "text/plain": [
       "<Figure size 1008x216 with 1 Axes>"
      ]
     },
     "metadata": {
      "needs_background": "light"
     },
     "output_type": "display_data"
    }
   ],
   "source": [
    "# Города пользователей\n",
    "\n",
    "print(f'Количество городов: {len(users.city_id.unique())}')\n",
    "# Сколько пользователей в каждом городе\n",
    "vc = users.value_counts('city_id')\n",
    "vc.hist(bins=50)"
   ]
  },
  {
   "cell_type": "code",
   "execution_count": 9,
   "id": "3f1b6c4f-65de-4787-b47b-d54ff84b5c00",
   "metadata": {},
   "outputs": [
    {
     "data": {
      "text/plain": [
       "city_id\n",
       "0       8479\n",
       "3       1985\n",
       "7       1232\n",
       "25       315\n",
       "19       308\n",
       "        ... \n",
       "729        1\n",
       "1509       1\n",
       "1508       1\n",
       "730        1\n",
       "2456       1\n",
       "Length: 2457, dtype: int64"
      ]
     },
     "execution_count": 9,
     "metadata": {},
     "output_type": "execute_result"
    }
   ],
   "source": [
    "vc"
   ]
  },
  {
   "cell_type": "code",
   "execution_count": 10,
   "id": "c67f18b8-153a-4c5b-8352-6aaa5ad11923",
   "metadata": {},
   "outputs": [
    {
     "data": {
      "text/plain": [
       "<AxesSubplot:>"
      ]
     },
     "execution_count": 10,
     "metadata": {},
     "output_type": "execute_result"
    },
    {
     "data": {
      "image/png": "[encoded data removed]",
      "text/plain": [
       "<Figure size 1008x216 with 1 Axes>"
      ]
     },
     "metadata": {
      "needs_background": "light"
     },
     "output_type": "display_data"
    }
   ],
   "source": [
    "# Логарифмированное количество жителей городов\n",
    "log2_vc = np.log2(vc)\n",
    "log2_vc.hist(bins=50)"
   ]
  },
  {
   "cell_type": "code",
   "execution_count": 11,
   "id": "2a0e4b1c-9ee8-469f-a251-86496c112b77",
   "metadata": {},
   "outputs": [
    {
     "data": {
      "text/plain": [
       "city_id\n",
       "0       13.049678\n",
       "3       10.954923\n",
       "7       10.266787\n",
       "25       8.299208\n",
       "19       8.266787\n",
       "          ...    \n",
       "729      0.000000\n",
       "1509     0.000000\n",
       "1508     0.000000\n",
       "730      0.000000\n",
       "2456     0.000000\n",
       "Length: 2457, dtype: float64"
      ]
     },
     "execution_count": 11,
     "metadata": {},
     "output_type": "execute_result"
    }
   ],
   "source": [
    "log2_vc"
   ]
  },
  {
   "cell_type": "markdown",
   "id": "5bc1a59c-eaf2-4af8-931d-788b19f122de",
   "metadata": {},
   "source": [
    "##### Менее тривиальные графики"
   ]
  },
  {
   "cell_type": "code",
   "execution_count": 12,
   "id": "4fd4c9e1-fc51-49b2-bb98-6d04d14a3148",
   "metadata": {},
   "outputs": [
    {
     "data": {
      "text/plain": [
       "<AxesSubplot:>"
      ]
     },
     "execution_count": 12,
     "metadata": {},
     "output_type": "execute_result"
    },
    {
     "data": {
      "image/png": "[encoded data removed]",
      "text/plain": [
       "<Figure size 1008x216 with 1 Axes>"
      ]
     },
     "metadata": {
      "needs_background": "light"
     },
     "output_type": "display_data"
    }
   ],
   "source": [
    "# Города с населением более 1к\n",
    "vc[vc > 1000].hist(bins=50)"
   ]
  },
  {
   "cell_type": "code",
   "execution_count": 13,
   "id": "1f1b89b4-2fd6-437d-8c28-b59ca4e55379",
   "metadata": {},
   "outputs": [
    {
     "data": {
      "text/plain": [
       "city_id\n",
       "0    8479\n",
       "3    1985\n",
       "7    1232\n",
       "dtype: int64"
      ]
     },
     "execution_count": 13,
     "metadata": {},
     "output_type": "execute_result"
    }
   ],
   "source": [
    "# Исследуем жителей больших городов\n",
    "vc[vc > 1000]"
   ]
  },
  {
   "cell_type": "code",
   "execution_count": 14,
   "id": "40f4114d-a0ea-4104-95c1-62aae348b37a",
   "metadata": {},
   "outputs": [
    {
     "data": {
      "text/plain": [
       "(11696, 4)"
      ]
     },
     "execution_count": 14,
     "metadata": {},
     "output_type": "execute_result"
    }
   ],
   "source": [
    "cities_users = users[users.city_id.isin([0, 3, 7])]\n",
    "cities_users.shape"
   ]
  },
  {
   "cell_type": "code",
   "execution_count": 15,
   "id": "bb84a183-e312-42a5-9d77-c26666df6a7f",
   "metadata": {},
   "outputs": [
    {
     "data": {
      "image/png": "[encoded data removed]",
      "text/plain": [
       "<Figure size 504x504 with 1 Axes>"
      ]
     },
     "metadata": {
      "needs_background": "light"
     },
     "output_type": "display_data"
    }
   ],
   "source": [
    "# Их возраст по городам\n",
    "\n",
    "city_ages = cities_users[(cities_users.age > 0) & (cities_users.age < 70)].groupby('city_id').age.apply(list)\n",
    "\n",
    "plt.figure(figsize=(7, 7))\n",
    "plt.boxplot(city_ages)\n",
    "plt.grid(True)\n",
    "plt.legend([f'город {city_id}' for city_id in city_ages.index])\n",
    "plt.show()"
   ]
  },
  {
   "cell_type": "markdown",
   "id": "fb95a57e-ed02-46f1-9953-d1e4e23d2e3e",
   "metadata": {},
   "source": [
    "#### О рекламных компаниях"
   ]
  },
  {
   "cell_type": "markdown",
   "id": "a0cbac17-9a6e-45b2-a026-eac2a918dfdc",
   "metadata": {},
   "source": [
    "### history.csv:\n",
    "* hour – в какой час пользователь видел объявление\n",
    "* cpm - цена показанного рекламного объявления в рекламном аукционе. Это значит, что на данном аукционе это была максимальная ставка.\n",
    "* publisher - площадка, на который пользователь видел рекламу\n",
    "* user_id - уникальный идентификатор пользователя"
   ]
  },
  {
   "cell_type": "code",
   "execution_count": 16,
   "id": "5af075f1-6406-4244-8659-c4de4f4425d5",
   "metadata": {},
   "outputs": [
    {
     "name": "stdout",
     "output_type": "stream",
     "text": [
      "(1147857, 4)\n"
     ]
    },
    {
     "data": {
      "text/html": [
       "<div>\n",
       "<style scoped>\n",
       "    .dataframe tbody tr th:only-of-type {\n",
       "        vertical-align: middle;\n",
       "    }\n",
       "\n",
       "    .dataframe tbody tr th {\n",
       "        vertical-align: top;\n",
       "    }\n",
       "\n",
       "    .dataframe thead th {\n",
       "        text-align: right;\n",
       "    }\n",
       "</style>\n",
       "<table border=\"1\" class=\"dataframe\">\n",
       "  <thead>\n",
       "    <tr style=\"text-align: right;\">\n",
       "      <th></th>\n",
       "      <th>hour</th>\n",
       "      <th>cpm</th>\n",
       "      <th>publisher</th>\n",
       "      <th>user_id</th>\n",
       "    </tr>\n",
       "  </thead>\n",
       "  <tbody>\n",
       "    <tr>\n",
       "      <th>0</th>\n",
       "      <td>10</td>\n",
       "      <td>30.00</td>\n",
       "      <td>1</td>\n",
       "      <td>15661</td>\n",
       "    </tr>\n",
       "    <tr>\n",
       "      <th>1</th>\n",
       "      <td>8</td>\n",
       "      <td>41.26</td>\n",
       "      <td>1</td>\n",
       "      <td>8444</td>\n",
       "    </tr>\n",
       "    <tr>\n",
       "      <th>2</th>\n",
       "      <td>7</td>\n",
       "      <td>360.00</td>\n",
       "      <td>1</td>\n",
       "      <td>15821</td>\n",
       "    </tr>\n",
       "    <tr>\n",
       "      <th>3</th>\n",
       "      <td>18</td>\n",
       "      <td>370.00</td>\n",
       "      <td>1</td>\n",
       "      <td>21530</td>\n",
       "    </tr>\n",
       "    <tr>\n",
       "      <th>4</th>\n",
       "      <td>8</td>\n",
       "      <td>195.00</td>\n",
       "      <td>2</td>\n",
       "      <td>22148</td>\n",
       "    </tr>\n",
       "    <tr>\n",
       "      <th>5</th>\n",
       "      <td>5</td>\n",
       "      <td>70.00</td>\n",
       "      <td>2</td>\n",
       "      <td>16334</td>\n",
       "    </tr>\n",
       "    <tr>\n",
       "      <th>6</th>\n",
       "      <td>10</td>\n",
       "      <td>73.22</td>\n",
       "      <td>1</td>\n",
       "      <td>25931</td>\n",
       "    </tr>\n",
       "  </tbody>\n",
       "</table>\n",
       "</div>"
      ],
      "text/plain": [
       "   hour     cpm  publisher  user_id\n",
       "0    10   30.00          1    15661\n",
       "1     8   41.26          1     8444\n",
       "2     7  360.00          1    15821\n",
       "3    18  370.00          1    21530\n",
       "4     8  195.00          2    22148\n",
       "5     5   70.00          2    16334\n",
       "6    10   73.22          1    25931"
      ]
     },
     "execution_count": 16,
     "metadata": {},
     "output_type": "execute_result"
    }
   ],
   "source": [
    "history = pd.read_csv('history.csv', sep=',')\n",
    "print(history.shape)\n",
    "history.head(7)"
   ]
  },
  {
   "cell_type": "code",
   "execution_count": 17,
   "id": "554ad8b3-2b14-48d6-9900-ddf18163b6d6",
   "metadata": {},
   "outputs": [
    {
     "data": {
      "text/plain": [
       "array([ 1,  2,  3,  4,  5,  6,  7,  8,  9, 10, 11, 12, 13, 14, 15, 16, 17,\n",
       "       18, 19, 21, 20], dtype=int64)"
      ]
     },
     "execution_count": 17,
     "metadata": {},
     "output_type": "execute_result"
    }
   ],
   "source": [
    "history['publisher'].unique()"
   ]
  },
  {
   "cell_type": "code",
   "execution_count": 18,
   "id": "a4842bf3-89d7-44f2-8f61-1224f80763ce",
   "metadata": {},
   "outputs": [
    {
     "data": {
      "text/plain": [
       "<AxesSubplot:>"
      ]
     },
     "execution_count": 18,
     "metadata": {},
     "output_type": "execute_result"
    },
    {
     "data": {
      "image/png": "[encoded data removed]",
      "text/plain": [
       "<Figure size 1296x288 with 1 Axes>"
      ]
     },
     "metadata": {
      "needs_background": "light"
     },
     "output_type": "display_data"
    }
   ],
   "source": [
    "# Время объявлений в ходе всего периода сбора данных\n",
    "history.hour.hist(bins=200, figsize=(18, 4))"
   ]
  },
  {
   "cell_type": "code",
   "execution_count": 19,
   "id": "21fa16ef-22ff-4f91-b092-1a25361992cc",
   "metadata": {},
   "outputs": [
    {
     "data": {
      "text/plain": [
       "<AxesSubplot:>"
      ]
     },
     "execution_count": 19,
     "metadata": {},
     "output_type": "execute_result"
    },
    {
     "data": {
      "image/png": "[encoded data removed]",
      "text/plain": [
       "<Figure size 1296x288 with 1 Axes>"
      ]
     },
     "metadata": {
      "needs_background": "light"
     },
     "output_type": "display_data"
    }
   ],
   "source": [
    "# Подробнее\n",
    "history[history.hour < 72].hour.hist(bins=400, figsize=(18, 4))"
   ]
  },
  {
   "cell_type": "code",
   "execution_count": 20,
   "id": "f19a7552-0c0d-43f7-9dbe-0b35725e00f8",
   "metadata": {},
   "outputs": [
    {
     "data": {
      "text/plain": [
       "<AxesSubplot:>"
      ]
     },
     "execution_count": 20,
     "metadata": {},
     "output_type": "execute_result"
    },
    {
     "data": {
      "image/png": "[encoded data removed]",
      "text/plain": [
       "<Figure size 1008x216 with 1 Axes>"
      ]
     },
     "metadata": {
      "needs_background": "light"
     },
     "output_type": "display_data"
    }
   ],
   "source": [
    "# Цены объявлений\n",
    "history.cpm.hist(bins=50)"
   ]
  },
  {
   "cell_type": "code",
   "execution_count": 21,
   "id": "ad35919c-b688-4934-8252-c26edbc38cde",
   "metadata": {},
   "outputs": [
    {
     "data": {
      "text/plain": [
       "<AxesSubplot:>"
      ]
     },
     "execution_count": 21,
     "metadata": {},
     "output_type": "execute_result"
    },
    {
     "data": {
      "image/png": "[encoded data removed]",
      "text/plain": [
       "<Figure size 1008x216 with 1 Axes>"
      ]
     },
     "metadata": {
      "needs_background": "light"
     },
     "output_type": "display_data"
    }
   ],
   "source": [
    "# Логарифмированные\n",
    "cpms_log = history.cpm.apply(np.log2)\n",
    "cpms_log.hist(bins=100)"
   ]
  },
  {
   "cell_type": "code",
   "execution_count": 22,
   "id": "bf5d220f-9437-415e-97c8-9e1382b2901e",
   "metadata": {},
   "outputs": [
    {
     "data": {
      "text/plain": [
       "<AxesSubplot:>"
      ]
     },
     "execution_count": 22,
     "metadata": {},
     "output_type": "execute_result"
    },
    {
     "data": {
      "image/png": "[encoded data removed]",
      "text/plain": [
       "<Figure size 1008x216 with 1 Axes>"
      ]
     },
     "metadata": {
      "needs_background": "light"
     },
     "output_type": "display_data"
    }
   ],
   "source": [
    "# Подробнее \n",
    "cpms_log[(cpms_log > 5) & (cpms_log < 10)].hist(bins=100)"
   ]
  },
  {
   "cell_type": "code",
   "execution_count": 23,
   "id": "5c16000c-7126-4212-86ce-07e1e79b13d0",
   "metadata": {},
   "outputs": [
    {
     "name": "stdout",
     "output_type": "stream",
     "text": [
      "21\n"
     ]
    },
    {
     "data": {
      "text/plain": [
       "Text(0, 0.5, 'Количество таких платформ')"
      ]
     },
     "execution_count": 23,
     "metadata": {},
     "output_type": "execute_result"
    },
    {
     "data": {
      "image/png": "[encoded data removed]",
      "text/plain": [
       "<Figure size 1008x216 with 1 Axes>"
      ]
     },
     "metadata": {
      "needs_background": "light"
     },
     "output_type": "display_data"
    }
   ],
   "source": [
    "# Что за платформы для рекламы? Сколько их?\n",
    "\n",
    "print(len(history.publisher.unique()))\n",
    "vc = history.publisher.value_counts()\n",
    "vc.hist(bins=50)\n",
    "plt.xlabel('Количество объявлений')\n",
    "plt.ylabel('Количество таких платформ')"
   ]
  },
  {
   "cell_type": "code",
   "execution_count": 24,
   "id": "f4e7a042-5fba-4612-a3fa-39fc3f911e33",
   "metadata": {},
   "outputs": [
    {
     "data": {
      "text/plain": [
       "1     692535\n",
       "2     273037\n",
       "3      72124\n",
       "7      66134\n",
       "9      10165\n",
       "5       7263\n",
       "6       5935\n",
       "10      4232\n",
       "11      4028\n",
       "8       3625\n",
       "4       2286\n",
       "12      1922\n",
       "16      1331\n",
       "17      1095\n",
       "14      1055\n",
       "15       564\n",
       "18       196\n",
       "13       173\n",
       "20        94\n",
       "19        54\n",
       "21         9\n",
       "Name: publisher, dtype: int64"
      ]
     },
     "execution_count": 24,
     "metadata": {},
     "output_type": "execute_result"
    }
   ],
   "source": [
    "history.publisher.value_counts() # есть мусорные платформы"
   ]
  },
  {
   "cell_type": "code",
   "execution_count": 25,
   "id": "5eb10870-f80a-4142-9507-a5ea7ed2f017",
   "metadata": {},
   "outputs": [
    {
     "data": {
      "text/plain": [
       "Text(0, 0.5, 'Количество платформ')"
      ]
     },
     "execution_count": 25,
     "metadata": {},
     "output_type": "execute_result"
    },
    {
     "data": {
      "image/png": "[encoded data removed]",
      "text/plain": [
       "<Figure size 1008x216 with 1 Axes>"
      ]
     },
     "metadata": {
      "needs_background": "light"
     },
     "output_type": "display_data"
    }
   ],
   "source": [
    "# Сколько уникальных пользователей на платформах?\n",
    "\n",
    "history.groupby('publisher').user_id.apply(lambda users: len(set(users))).hist(bins=50)\n",
    "plt.xlabel('Количество пользователей')\n",
    "plt.ylabel('Количество платформ')"
   ]
  },
  {
   "cell_type": "code",
   "execution_count": 26,
   "id": "4ff3d3c9-1f71-47c1-a010-b3da18702a7e",
   "metadata": {},
   "outputs": [
    {
     "data": {
      "text/html": [
       "<div>\n",
       "<style scoped>\n",
       "    .dataframe tbody tr th:only-of-type {\n",
       "        vertical-align: middle;\n",
       "    }\n",
       "\n",
       "    .dataframe tbody tr th {\n",
       "        vertical-align: top;\n",
       "    }\n",
       "\n",
       "    .dataframe thead th {\n",
       "        text-align: right;\n",
       "    }\n",
       "</style>\n",
       "<table border=\"1\" class=\"dataframe\">\n",
       "  <thead>\n",
       "    <tr style=\"text-align: right;\">\n",
       "      <th></th>\n",
       "      <th>hour</th>\n",
       "      <th>1</th>\n",
       "      <th>2</th>\n",
       "      <th>3</th>\n",
       "      <th>4</th>\n",
       "      <th>5</th>\n",
       "      <th>6</th>\n",
       "      <th>7</th>\n",
       "      <th>8</th>\n",
       "      <th>9</th>\n",
       "      <th>...</th>\n",
       "      <th>12</th>\n",
       "      <th>13</th>\n",
       "      <th>14</th>\n",
       "      <th>15</th>\n",
       "      <th>16</th>\n",
       "      <th>17</th>\n",
       "      <th>18</th>\n",
       "      <th>19</th>\n",
       "      <th>21</th>\n",
       "      <th>20</th>\n",
       "    </tr>\n",
       "  </thead>\n",
       "  <tbody>\n",
       "    <tr>\n",
       "      <th>0</th>\n",
       "      <td>3</td>\n",
       "      <td>100</td>\n",
       "      <td>67</td>\n",
       "      <td>11</td>\n",
       "      <td>1</td>\n",
       "      <td>3</td>\n",
       "      <td>1</td>\n",
       "      <td>7</td>\n",
       "      <td>0</td>\n",
       "      <td>2</td>\n",
       "      <td>...</td>\n",
       "      <td>0</td>\n",
       "      <td>0</td>\n",
       "      <td>0</td>\n",
       "      <td>0</td>\n",
       "      <td>2</td>\n",
       "      <td>1</td>\n",
       "      <td>0</td>\n",
       "      <td>0</td>\n",
       "      <td>0</td>\n",
       "      <td>0</td>\n",
       "    </tr>\n",
       "    <tr>\n",
       "      <th>1</th>\n",
       "      <td>4</td>\n",
       "      <td>173</td>\n",
       "      <td>51</td>\n",
       "      <td>10</td>\n",
       "      <td>0</td>\n",
       "      <td>1</td>\n",
       "      <td>1</td>\n",
       "      <td>11</td>\n",
       "      <td>1</td>\n",
       "      <td>2</td>\n",
       "      <td>...</td>\n",
       "      <td>1</td>\n",
       "      <td>0</td>\n",
       "      <td>0</td>\n",
       "      <td>0</td>\n",
       "      <td>1</td>\n",
       "      <td>0</td>\n",
       "      <td>0</td>\n",
       "      <td>0</td>\n",
       "      <td>0</td>\n",
       "      <td>0</td>\n",
       "    </tr>\n",
       "    <tr>\n",
       "      <th>2</th>\n",
       "      <td>5</td>\n",
       "      <td>246</td>\n",
       "      <td>91</td>\n",
       "      <td>21</td>\n",
       "      <td>1</td>\n",
       "      <td>1</td>\n",
       "      <td>4</td>\n",
       "      <td>12</td>\n",
       "      <td>3</td>\n",
       "      <td>2</td>\n",
       "      <td>...</td>\n",
       "      <td>2</td>\n",
       "      <td>1</td>\n",
       "      <td>0</td>\n",
       "      <td>0</td>\n",
       "      <td>0</td>\n",
       "      <td>0</td>\n",
       "      <td>0</td>\n",
       "      <td>0</td>\n",
       "      <td>0</td>\n",
       "      <td>0</td>\n",
       "    </tr>\n",
       "    <tr>\n",
       "      <th>3</th>\n",
       "      <td>6</td>\n",
       "      <td>346</td>\n",
       "      <td>95</td>\n",
       "      <td>27</td>\n",
       "      <td>2</td>\n",
       "      <td>0</td>\n",
       "      <td>5</td>\n",
       "      <td>16</td>\n",
       "      <td>1</td>\n",
       "      <td>4</td>\n",
       "      <td>...</td>\n",
       "      <td>0</td>\n",
       "      <td>0</td>\n",
       "      <td>0</td>\n",
       "      <td>0</td>\n",
       "      <td>1</td>\n",
       "      <td>1</td>\n",
       "      <td>0</td>\n",
       "      <td>0</td>\n",
       "      <td>0</td>\n",
       "      <td>0</td>\n",
       "    </tr>\n",
       "    <tr>\n",
       "      <th>4</th>\n",
       "      <td>7</td>\n",
       "      <td>488</td>\n",
       "      <td>157</td>\n",
       "      <td>29</td>\n",
       "      <td>2</td>\n",
       "      <td>5</td>\n",
       "      <td>5</td>\n",
       "      <td>42</td>\n",
       "      <td>3</td>\n",
       "      <td>6</td>\n",
       "      <td>...</td>\n",
       "      <td>0</td>\n",
       "      <td>0</td>\n",
       "      <td>0</td>\n",
       "      <td>0</td>\n",
       "      <td>0</td>\n",
       "      <td>0</td>\n",
       "      <td>0</td>\n",
       "      <td>0</td>\n",
       "      <td>0</td>\n",
       "      <td>0</td>\n",
       "    </tr>\n",
       "  </tbody>\n",
       "</table>\n",
       "<p>5 rows × 22 columns</p>\n",
       "</div>"
      ],
      "text/plain": [
       "   hour    1    2   3  4  5  6   7  8  9  ...  12  13  14  15  16  17  18  19  \\\n",
       "0     3  100   67  11  1  3  1   7  0  2  ...   0   0   0   0   2   1   0   0   \n",
       "1     4  173   51  10  0  1  1  11  1  2  ...   1   0   0   0   1   0   0   0   \n",
       "2     5  246   91  21  1  1  4  12  3  2  ...   2   1   0   0   0   0   0   0   \n",
       "3     6  346   95  27  2  0  5  16  1  4  ...   0   0   0   0   1   1   0   0   \n",
       "4     7  488  157  29  2  5  5  42  3  6  ...   0   0   0   0   0   0   0   0   \n",
       "\n",
       "   21  20  \n",
       "0   0   0  \n",
       "1   0   0  \n",
       "2   0   0  \n",
       "3   0   0  \n",
       "4   0   0  \n",
       "\n",
       "[5 rows x 22 columns]"
      ]
     },
     "execution_count": 26,
     "metadata": {},
     "output_type": "execute_result"
    }
   ],
   "source": [
    "# Какой трафик на каждой платформе?\n",
    "\n",
    "# Посчитаем для каждого часа: сколько постов было на каждой платформе?\n",
    "\n",
    "n_publishers = len(history.publisher.unique())\n",
    "posts_per_hour_by_publishers = []\n",
    "TAKE_FIRST_N_HOURS = 24 * 4\n",
    "\n",
    "for hour, hour_data in history[history.hour < TAKE_FIRST_N_HOURS].groupby('hour'):\n",
    "    publishers_posts = hour_data.value_counts('publisher')\n",
    "    \n",
    "    counts = [0 for _ in range(n_publishers)]\n",
    "    for pub_id, posts_n in list(publishers_posts.items()):\n",
    "        counts[pub_id-1] = posts_n\n",
    "        \n",
    "    posts_per_hour_by_publishers.append([hour] + counts)\n",
    "\n",
    "    \n",
    "df = pd.DataFrame.from_records(posts_per_hour_by_publishers, columns=['hour'] + list(history.publisher.unique()))\n",
    "df.head()"
   ]
  },
  {
   "cell_type": "code",
   "execution_count": 27,
   "id": "1386331a-217c-4399-a6c6-57ed3271b7d2",
   "metadata": {},
   "outputs": [
    {
     "data": {
      "text/plain": [
       "Text(0, 0.5, 'Количество постов')"
      ]
     },
     "execution_count": 27,
     "metadata": {},
     "output_type": "execute_result"
    },
    {
     "data": {
      "image/png": "[encoded data removed]",
      "text/plain": [
       "<Figure size 1440x720 with 1 Axes>"
      ]
     },
     "metadata": {
      "needs_background": "light"
     },
     "output_type": "display_data"
    }
   ],
   "source": [
    "df.plot.bar(x='hour', stacked=True, figsize=(20, 10))\n",
    "plt.xlabel('Час')\n",
    "plt.ylabel('Количество постов')"
   ]
  },
  {
   "cell_type": "code",
   "execution_count": 28,
   "id": "ae92bb04-5385-44da-ad38-e20835ff920f",
   "metadata": {},
   "outputs": [
    {
     "data": {
      "text/plain": [
       "<AxesSubplot:>"
      ]
     },
     "execution_count": 28,
     "metadata": {},
     "output_type": "execute_result"
    },
    {
     "data": {
      "image/png": "[encoded data removed]",
      "text/plain": [
       "<Figure size 1008x216 with 1 Axes>"
      ]
     },
     "metadata": {
      "needs_background": "light"
     },
     "output_type": "display_data"
    }
   ],
   "source": [
    "# И сколько постов посмотрел каждый пользователь?\n",
    "vc = history.value_counts('user_id')\n",
    "vc.hist(bins=50)"
   ]
  },
  {
   "cell_type": "code",
   "execution_count": 29,
   "id": "63b3861f-fec7-4d74-b42f-333375c0a038",
   "metadata": {},
   "outputs": [
    {
     "data": {
      "text/plain": [
       "Text(0, 0.5, 'Количество таких пользователей')"
      ]
     },
     "execution_count": 29,
     "metadata": {},
     "output_type": "execute_result"
    },
    {
     "data": {
      "image/png": "[encoded data removed]",
      "text/plain": [
       "<Figure size 1008x216 with 1 Axes>"
      ]
     },
     "metadata": {
      "needs_background": "light"
     },
     "output_type": "display_data"
    }
   ],
   "source": [
    "# Логарифмируем\n",
    "np.log2(vc).hist(bins=50)\n",
    "plt.xlabel('log2(просмотрено постов пользователем)')\n",
    "plt.ylabel('Количество таких пользователей')"
   ]
  },
  {
   "cell_type": "code",
   "execution_count": null,
   "id": "6ddee58f-cf4c-4269-9695-e42ec467c4d0",
   "metadata": {},
   "outputs": [],
   "source": []
  },
  {
   "cell_type": "markdown",
   "id": "767a0c2c-9b4e-495d-b67a-74ab88cc2cab",
   "metadata": {},
   "source": [
    "### Описание маркетинговой компании."
   ]
  },
  {
   "cell_type": "markdown",
   "id": "dd5cbbf7-a81e-4bcf-932a-52270a2106f6",
   "metadata": {},
   "source": [
    "### ads.csv:\n",
    "* ad_id - id объявления для сопоставления с целевой переменной\n",
    "* cpm - для какой цены объявления нужно сделать прогноз\n",
    "* hour_start - предположительное время запуска рекламного объявления\n",
    "* hour_end - предположительное время остановки рекламного объявления. По итогу прогноз делается для рекламного объявление, которое будет запущено в период времени [hour_start, hour_end]\n",
    "* publishers - на каких площадках объявление может быть показано\n",
    "* audience_size - размер аудитории объявления, количество идентификаторов в поле user_ids\n",
    "* user_ids – аудитория объявления – список пользователей, кому рекламодатель хочет показать объявление."
   ]
  },
  {
   "cell_type": "code",
   "execution_count": 30,
   "id": "03c64815-a9aa-4331-9e1a-b40b4836dba3",
   "metadata": {},
   "outputs": [
    {
     "data": {
      "text/html": [
       "<div>\n",
       "<style scoped>\n",
       "    .dataframe tbody tr th:only-of-type {\n",
       "        vertical-align: middle;\n",
       "    }\n",
       "\n",
       "    .dataframe tbody tr th {\n",
       "        vertical-align: top;\n",
       "    }\n",
       "\n",
       "    .dataframe thead th {\n",
       "        text-align: right;\n",
       "    }\n",
       "</style>\n",
       "<table border=\"1\" class=\"dataframe\">\n",
       "  <thead>\n",
       "    <tr style=\"text-align: right;\">\n",
       "      <th></th>\n",
       "      <th>cpm</th>\n",
       "      <th>hour_start</th>\n",
       "      <th>hour_end</th>\n",
       "      <th>publishers</th>\n",
       "      <th>audience_size</th>\n",
       "      <th>user_ids</th>\n",
       "    </tr>\n",
       "    <tr>\n",
       "      <th>ad_id</th>\n",
       "      <th></th>\n",
       "      <th></th>\n",
       "      <th></th>\n",
       "      <th></th>\n",
       "      <th></th>\n",
       "      <th></th>\n",
       "    </tr>\n",
       "  </thead>\n",
       "  <tbody>\n",
       "    <tr>\n",
       "      <th>0</th>\n",
       "      <td>220.0</td>\n",
       "      <td>1058</td>\n",
       "      <td>1153</td>\n",
       "      <td>7,17</td>\n",
       "      <td>1906</td>\n",
       "      <td>12,44,46,50,58,71,93,122,134,143,176,184,187,1...</td>\n",
       "    </tr>\n",
       "    <tr>\n",
       "      <th>1</th>\n",
       "      <td>312.0</td>\n",
       "      <td>1295</td>\n",
       "      <td>1301</td>\n",
       "      <td>3,18</td>\n",
       "      <td>1380</td>\n",
       "      <td>29,81,98,102,165,167,195,205,218,231,242,263,3...</td>\n",
       "    </tr>\n",
       "    <tr>\n",
       "      <th>2</th>\n",
       "      <td>70.0</td>\n",
       "      <td>1229</td>\n",
       "      <td>1249</td>\n",
       "      <td>1,2,3,9,15,21</td>\n",
       "      <td>888</td>\n",
       "      <td>12,23,25,29,45,85,92,124,156,190,272,334,456,5...</td>\n",
       "    </tr>\n",
       "    <tr>\n",
       "      <th>3</th>\n",
       "      <td>240.0</td>\n",
       "      <td>1295</td>\n",
       "      <td>1377</td>\n",
       "      <td>1,14</td>\n",
       "      <td>440</td>\n",
       "      <td>44,122,187,209,242,255,312,345,382,465,513,524...</td>\n",
       "    </tr>\n",
       "    <tr>\n",
       "      <th>4</th>\n",
       "      <td>262.0</td>\n",
       "      <td>752</td>\n",
       "      <td>990</td>\n",
       "      <td>1,3,7,8</td>\n",
       "      <td>1476</td>\n",
       "      <td>15,24,30,43,50,53,96,105,159,168,181,190,196,2...</td>\n",
       "    </tr>\n",
       "    <tr>\n",
       "      <th>5</th>\n",
       "      <td>141.0</td>\n",
       "      <td>1288</td>\n",
       "      <td>1322</td>\n",
       "      <td>3,8,11,15</td>\n",
       "      <td>856</td>\n",
       "      <td>111,217,235,247,292,340,398,540,541,546,581,61...</td>\n",
       "    </tr>\n",
       "    <tr>\n",
       "      <th>6</th>\n",
       "      <td>250.0</td>\n",
       "      <td>1198</td>\n",
       "      <td>1451</td>\n",
       "      <td>1,3,7,10,13,18</td>\n",
       "      <td>336</td>\n",
       "      <td>24,43,96,124,150,256,299,313,430,450,552,557,5...</td>\n",
       "    </tr>\n",
       "  </tbody>\n",
       "</table>\n",
       "</div>"
      ],
      "text/plain": [
       "         cpm  hour_start  hour_end      publishers  audience_size  \\\n",
       "ad_id                                                               \n",
       "0      220.0        1058      1153            7,17           1906   \n",
       "1      312.0        1295      1301            3,18           1380   \n",
       "2       70.0        1229      1249   1,2,3,9,15,21            888   \n",
       "3      240.0        1295      1377            1,14            440   \n",
       "4      262.0         752       990         1,3,7,8           1476   \n",
       "5      141.0        1288      1322       3,8,11,15            856   \n",
       "6      250.0        1198      1451  1,3,7,10,13,18            336   \n",
       "\n",
       "                                                user_ids  \n",
       "ad_id                                                     \n",
       "0      12,44,46,50,58,71,93,122,134,143,176,184,187,1...  \n",
       "1      29,81,98,102,165,167,195,205,218,231,242,263,3...  \n",
       "2      12,23,25,29,45,85,92,124,156,190,272,334,456,5...  \n",
       "3      44,122,187,209,242,255,312,345,382,465,513,524...  \n",
       "4      15,24,30,43,50,53,96,105,159,168,181,190,196,2...  \n",
       "5      111,217,235,247,292,340,398,540,541,546,581,61...  \n",
       "6      24,43,96,124,150,256,299,313,430,450,552,557,5...  "
      ]
     },
     "execution_count": 30,
     "metadata": {},
     "output_type": "execute_result"
    }
   ],
   "source": [
    "posts = pd.read_csv('ads.csv', sep=',')\n",
    "posts = posts.set_index('ad_id')\n",
    "posts.head(7)"
   ]
  },
  {
   "cell_type": "code",
   "execution_count": 31,
   "id": "982d03b3-5682-4177-a5d8-e4d43aee850e",
   "metadata": {},
   "outputs": [
    {
     "data": {
      "text/plain": [
       "1008"
      ]
     },
     "execution_count": 31,
     "metadata": {},
     "output_type": "execute_result"
    }
   ],
   "source": [
    "posts.shape[0]"
   ]
  },
  {
   "cell_type": "code",
   "execution_count": 32,
   "id": "6c8715b0-b6b8-403f-8171-a4d46dd04970",
   "metadata": {},
   "outputs": [
    {
     "data": {
      "text/plain": [
       "<AxesSubplot:>"
      ]
     },
     "execution_count": 32,
     "metadata": {},
     "output_type": "execute_result"
    },
    {
     "data": {
      "image/png": "[encoded data removed]",
      "text/plain": [
       "<Figure size 1008x216 with 1 Axes>"
      ]
     },
     "metadata": {
      "needs_background": "light"
     },
     "output_type": "display_data"
    }
   ],
   "source": [
    "# Сколько по итогам аукциона стоит объявление\n",
    "posts.cpm.hist(bins=100)"
   ]
  },
  {
   "cell_type": "code",
   "execution_count": 33,
   "id": "7e618c8e-2b3d-40a6-bba2-fa2f5812c26d",
   "metadata": {},
   "outputs": [
    {
     "data": {
      "text/plain": [
       "<AxesSubplot:>"
      ]
     },
     "execution_count": 33,
     "metadata": {},
     "output_type": "execute_result"
    },
    {
     "data": {
      "image/png": "[encoded data removed]",
      "text/plain": [
       "<Figure size 1008x216 with 1 Axes>"
      ]
     },
     "metadata": {
      "needs_background": "light"
     },
     "output_type": "display_data"
    }
   ],
   "source": [
    "# Сколько часов длится рекламная компания\n",
    "\n",
    "duration = (posts.hour_end - posts.hour_start)\n",
    "duration.hist(bins=50)"
   ]
  },
  {
   "cell_type": "code",
   "execution_count": 34,
   "id": "ab6eac9d-3bec-46b8-ac82-4e70f8d4c5a4",
   "metadata": {},
   "outputs": [
    {
     "data": {
      "text/plain": [
       "Text(0, 0.5, 'количество объявлений')"
      ]
     },
     "execution_count": 34,
     "metadata": {},
     "output_type": "execute_result"
    },
    {
     "data": {
      "image/png": "[encoded data removed]",
      "text/plain": [
       "<Figure size 1008x216 with 1 Axes>"
      ]
     },
     "metadata": {
      "needs_background": "light"
     },
     "output_type": "display_data"
    }
   ],
   "source": [
    "np.log2(duration).hist(bins=50)\n",
    "plt.xlabel('log(длительность в часах)')\n",
    "plt.ylabel('количество объявлений')"
   ]
  },
  {
   "cell_type": "code",
   "execution_count": 35,
   "id": "2ed19c06-e3e3-42fb-80c5-5af3712f6037",
   "metadata": {},
   "outputs": [
    {
     "data": {
      "text/plain": [
       "<AxesSubplot:>"
      ]
     },
     "execution_count": 35,
     "metadata": {},
     "output_type": "execute_result"
    },
    {
     "data": {
      "image/png": "[encoded data removed]",
      "text/plain": [
       "<Figure size 1008x216 with 1 Axes>"
      ]
     },
     "metadata": {
      "needs_background": "light"
     },
     "output_type": "display_data"
    }
   ],
   "source": [
    "# На какую аудиторию крутилось объявление\n",
    "\n",
    "posts.audience_size.hist(bins=100)"
   ]
  },
  {
   "cell_type": "code",
   "execution_count": 36,
   "id": "09f1b9c4-2189-4e82-acb9-aa59c9cc1585",
   "metadata": {},
   "outputs": [
    {
     "name": "stdout",
     "output_type": "stream",
     "text": [
      "<class 'pandas.core.frame.DataFrame'>\n",
      "Int64Index: 1008 entries, 0 to 1007\n",
      "Data columns (total 6 columns):\n",
      " #   Column         Non-Null Count  Dtype  \n",
      "---  ------         --------------  -----  \n",
      " 0   cpm            1008 non-null   float64\n",
      " 1   hour_start     1008 non-null   int64  \n",
      " 2   hour_end       1008 non-null   int64  \n",
      " 3   publishers     1008 non-null   object \n",
      " 4   audience_size  1008 non-null   int64  \n",
      " 5   user_ids       1008 non-null   object \n",
      "dtypes: float64(1), int64(3), object(2)\n",
      "memory usage: 55.1+ KB\n"
     ]
    }
   ],
   "source": [
    "posts.info()"
   ]
  },
  {
   "cell_type": "markdown",
   "id": "c83c24f7-44f9-4752-98cf-ce9b1c380ca1",
   "metadata": {},
   "source": [
    "### Данные для обучения/валидации"
   ]
  },
  {
   "cell_type": "markdown",
   "id": "b32248e3-0655-4114-b6bd-ebb62632b07f",
   "metadata": {},
   "source": [
    "### target.csv:\n",
    "* ad_id - id объявления для сопоставления с целевой переменной\n",
    "* at_least_one - доля пользователей, которая увидит объявление хотя бы один раз"
   ]
  },
  {
   "cell_type": "code",
   "execution_count": 37,
   "id": "bd81f673-5bcc-4cfd-99dd-df47327a7818",
   "metadata": {},
   "outputs": [
    {
     "data": {
      "text/html": [
       "<div>\n",
       "<style scoped>\n",
       "    .dataframe tbody tr th:only-of-type {\n",
       "        vertical-align: middle;\n",
       "    }\n",
       "\n",
       "    .dataframe tbody tr th {\n",
       "        vertical-align: top;\n",
       "    }\n",
       "\n",
       "    .dataframe thead th {\n",
       "        text-align: right;\n",
       "    }\n",
       "</style>\n",
       "<table border=\"1\" class=\"dataframe\">\n",
       "  <thead>\n",
       "    <tr style=\"text-align: right;\">\n",
       "      <th></th>\n",
       "      <th>ad_id</th>\n",
       "      <th>at_least_one</th>\n",
       "    </tr>\n",
       "  </thead>\n",
       "  <tbody>\n",
       "    <tr>\n",
       "      <th>0</th>\n",
       "      <td>0</td>\n",
       "      <td>0.0430</td>\n",
       "    </tr>\n",
       "    <tr>\n",
       "      <th>1</th>\n",
       "      <td>1</td>\n",
       "      <td>0.0130</td>\n",
       "    </tr>\n",
       "    <tr>\n",
       "      <th>2</th>\n",
       "      <td>2</td>\n",
       "      <td>0.0878</td>\n",
       "    </tr>\n",
       "    <tr>\n",
       "      <th>3</th>\n",
       "      <td>3</td>\n",
       "      <td>0.2295</td>\n",
       "    </tr>\n",
       "    <tr>\n",
       "      <th>4</th>\n",
       "      <td>4</td>\n",
       "      <td>0.3963</td>\n",
       "    </tr>\n",
       "    <tr>\n",
       "      <th>5</th>\n",
       "      <td>5</td>\n",
       "      <td>0.0187</td>\n",
       "    </tr>\n",
       "    <tr>\n",
       "      <th>6</th>\n",
       "      <td>6</td>\n",
       "      <td>0.3839</td>\n",
       "    </tr>\n",
       "  </tbody>\n",
       "</table>\n",
       "</div>"
      ],
      "text/plain": [
       "   ad_id  at_least_one\n",
       "0      0        0.0430\n",
       "1      1        0.0130\n",
       "2      2        0.0878\n",
       "3      3        0.2295\n",
       "4      4        0.3963\n",
       "5      5        0.0187\n",
       "6      6        0.3839"
      ]
     },
     "execution_count": 37,
     "metadata": {},
     "output_type": "execute_result"
    }
   ],
   "source": [
    "answers = pd.read_csv('target.csv', sep=',')\n",
    "answers.head(7)"
   ]
  },
  {
   "cell_type": "code",
   "execution_count": 38,
   "id": "77888898-0bf1-43d5-a15a-bbbe0459e91d",
   "metadata": {},
   "outputs": [
    {
     "data": {
      "text/plain": [
       "<AxesSubplot:>"
      ]
     },
     "execution_count": 38,
     "metadata": {},
     "output_type": "execute_result"
    },
    {
     "data": {
      "image/png": "[encoded data removed]",
      "text/plain": [
       "<Figure size 1008x216 with 1 Axes>"
      ]
     },
     "metadata": {
      "needs_background": "light"
     },
     "output_type": "display_data"
    }
   ],
   "source": [
    "# Какая часть аудитории увидело объявление хоть раз\n",
    "answers.at_least_one.hist(bins=50)"
   ]
  },
  {
   "cell_type": "code",
   "execution_count": 39,
   "id": "7496d981-bb20-4120-9f9a-1203d0f3f026",
   "metadata": {},
   "outputs": [
    {
     "data": {
      "text/plain": [
       "0"
      ]
     },
     "execution_count": 39,
     "metadata": {},
     "output_type": "execute_result"
    }
   ],
   "source": [
    "answers[answers.at_least_one == 0].shape[0] # кого-нибудь да и охватим."
   ]
  },
  {
   "cell_type": "markdown",
   "id": "c4886369-ed8a-4176-8f17-342ee6612b6d",
   "metadata": {},
   "source": [
    "### Пример ответа"
   ]
  },
  {
   "cell_type": "markdown",
   "id": "66ec558c-ad72-4a87-8a22-086d032d525c",
   "metadata": {},
   "source": [
    "### sample_solution:\n",
    "* ad_id - id объявления для сопоставления с целевой переменной\n",
    "* at_least_one - доля пользователей, которая увидит объявление хотя бы один раз\n"
   ]
  },
  {
   "cell_type": "code",
   "execution_count": 40,
   "id": "85af9a5f-7962-4b76-bcbe-768470a20827",
   "metadata": {},
   "outputs": [
    {
     "data": {
      "text/html": [
       "<div>\n",
       "<style scoped>\n",
       "    .dataframe tbody tr th:only-of-type {\n",
       "        vertical-align: middle;\n",
       "    }\n",
       "\n",
       "    .dataframe tbody tr th {\n",
       "        vertical-align: top;\n",
       "    }\n",
       "\n",
       "    .dataframe thead th {\n",
       "        text-align: right;\n",
       "    }\n",
       "</style>\n",
       "<table border=\"1\" class=\"dataframe\">\n",
       "  <thead>\n",
       "    <tr style=\"text-align: right;\">\n",
       "      <th></th>\n",
       "      <th>ad_id</th>\n",
       "      <th>at_least_one</th>\n",
       "    </tr>\n",
       "  </thead>\n",
       "  <tbody>\n",
       "    <tr>\n",
       "      <th>0</th>\n",
       "      <td>700</td>\n",
       "      <td>0.118536</td>\n",
       "    </tr>\n",
       "    <tr>\n",
       "      <th>1</th>\n",
       "      <td>701</td>\n",
       "      <td>0.118536</td>\n",
       "    </tr>\n",
       "    <tr>\n",
       "      <th>2</th>\n",
       "      <td>702</td>\n",
       "      <td>0.118536</td>\n",
       "    </tr>\n",
       "    <tr>\n",
       "      <th>3</th>\n",
       "      <td>703</td>\n",
       "      <td>0.118536</td>\n",
       "    </tr>\n",
       "    <tr>\n",
       "      <th>4</th>\n",
       "      <td>704</td>\n",
       "      <td>0.118536</td>\n",
       "    </tr>\n",
       "    <tr>\n",
       "      <th>5</th>\n",
       "      <td>705</td>\n",
       "      <td>0.118536</td>\n",
       "    </tr>\n",
       "    <tr>\n",
       "      <th>6</th>\n",
       "      <td>706</td>\n",
       "      <td>0.118536</td>\n",
       "    </tr>\n",
       "  </tbody>\n",
       "</table>\n",
       "</div>"
      ],
      "text/plain": [
       "   ad_id  at_least_one\n",
       "0    700      0.118536\n",
       "1    701      0.118536\n",
       "2    702      0.118536\n",
       "3    703      0.118536\n",
       "4    704      0.118536\n",
       "5    705      0.118536\n",
       "6    706      0.118536"
      ]
     },
     "execution_count": 40,
     "metadata": {},
     "output_type": "execute_result"
    }
   ],
   "source": [
    "sample_solution = pd.read_csv('sample_solution.csv', sep=',')\n",
    "sample_solution.head(7)"
   ]
  },
  {
   "cell_type": "markdown",
   "id": "9d382f6a-6f76-4058-8b28-55acd7d26a79",
   "metadata": {},
   "source": [
    "### Извлечение признаков"
   ]
  },
  {
   "cell_type": "code",
   "execution_count": 41,
   "id": "b7176198-dc0c-49ad-a2ed-d985c870c740",
   "metadata": {},
   "outputs": [
    {
     "data": {
      "text/html": [
       "<div>\n",
       "<style scoped>\n",
       "    .dataframe tbody tr th:only-of-type {\n",
       "        vertical-align: middle;\n",
       "    }\n",
       "\n",
       "    .dataframe tbody tr th {\n",
       "        vertical-align: top;\n",
       "    }\n",
       "\n",
       "    .dataframe thead th {\n",
       "        text-align: right;\n",
       "    }\n",
       "</style>\n",
       "<table border=\"1\" class=\"dataframe\">\n",
       "  <thead>\n",
       "    <tr style=\"text-align: right;\">\n",
       "      <th></th>\n",
       "      <th>cpm</th>\n",
       "      <th>hour_start</th>\n",
       "      <th>hour_end</th>\n",
       "      <th>publishers</th>\n",
       "      <th>audience_size</th>\n",
       "      <th>user_ids</th>\n",
       "    </tr>\n",
       "    <tr>\n",
       "      <th>ad_id</th>\n",
       "      <th></th>\n",
       "      <th></th>\n",
       "      <th></th>\n",
       "      <th></th>\n",
       "      <th></th>\n",
       "      <th></th>\n",
       "    </tr>\n",
       "  </thead>\n",
       "  <tbody>\n",
       "    <tr>\n",
       "      <th>0</th>\n",
       "      <td>220.0</td>\n",
       "      <td>1058</td>\n",
       "      <td>1153</td>\n",
       "      <td>7,17</td>\n",
       "      <td>1906</td>\n",
       "      <td>12,44,46,50,58,71,93,122,134,143,176,184,187,1...</td>\n",
       "    </tr>\n",
       "    <tr>\n",
       "      <th>1</th>\n",
       "      <td>312.0</td>\n",
       "      <td>1295</td>\n",
       "      <td>1301</td>\n",
       "      <td>3,18</td>\n",
       "      <td>1380</td>\n",
       "      <td>29,81,98,102,165,167,195,205,218,231,242,263,3...</td>\n",
       "    </tr>\n",
       "    <tr>\n",
       "      <th>2</th>\n",
       "      <td>70.0</td>\n",
       "      <td>1229</td>\n",
       "      <td>1249</td>\n",
       "      <td>1,2,3,9,15,21</td>\n",
       "      <td>888</td>\n",
       "      <td>12,23,25,29,45,85,92,124,156,190,272,334,456,5...</td>\n",
       "    </tr>\n",
       "    <tr>\n",
       "      <th>3</th>\n",
       "      <td>240.0</td>\n",
       "      <td>1295</td>\n",
       "      <td>1377</td>\n",
       "      <td>1,14</td>\n",
       "      <td>440</td>\n",
       "      <td>44,122,187,209,242,255,312,345,382,465,513,524...</td>\n",
       "    </tr>\n",
       "    <tr>\n",
       "      <th>4</th>\n",
       "      <td>262.0</td>\n",
       "      <td>752</td>\n",
       "      <td>990</td>\n",
       "      <td>1,3,7,8</td>\n",
       "      <td>1476</td>\n",
       "      <td>15,24,30,43,50,53,96,105,159,168,181,190,196,2...</td>\n",
       "    </tr>\n",
       "  </tbody>\n",
       "</table>\n",
       "</div>"
      ],
      "text/plain": [
       "         cpm  hour_start  hour_end     publishers  audience_size  \\\n",
       "ad_id                                                              \n",
       "0      220.0        1058      1153           7,17           1906   \n",
       "1      312.0        1295      1301           3,18           1380   \n",
       "2       70.0        1229      1249  1,2,3,9,15,21            888   \n",
       "3      240.0        1295      1377           1,14            440   \n",
       "4      262.0         752       990        1,3,7,8           1476   \n",
       "\n",
       "                                                user_ids  \n",
       "ad_id                                                     \n",
       "0      12,44,46,50,58,71,93,122,134,143,176,184,187,1...  \n",
       "1      29,81,98,102,165,167,195,205,218,231,242,263,3...  \n",
       "2      12,23,25,29,45,85,92,124,156,190,272,334,456,5...  \n",
       "3      44,122,187,209,242,255,312,345,382,465,513,524...  \n",
       "4      15,24,30,43,50,53,96,105,159,168,181,190,196,2...  "
      ]
     },
     "execution_count": 41,
     "metadata": {},
     "output_type": "execute_result"
    }
   ],
   "source": [
    "posts.head()"
   ]
  },
  {
   "cell_type": "code",
   "execution_count": 42,
   "id": "e6fa6cc7-237b-4011-a2ce-8ff1184764b0",
   "metadata": {},
   "outputs": [],
   "source": [
    "posts['del'] = posts['hour_end'] - posts['hour_start']"
   ]
  },
  {
   "cell_type": "code",
   "execution_count": 43,
   "id": "25e9e739-5b47-419b-91b1-b271765b3d8b",
   "metadata": {},
   "outputs": [],
   "source": [
    "posts['del2'] = (posts['hour_end'] - posts['hour_start']) / 24"
   ]
  },
  {
   "cell_type": "code",
   "execution_count": 44,
   "id": "3d44b897-df35-49a3-92ac-1f6e80d6cc11",
   "metadata": {},
   "outputs": [
    {
     "data": {
      "text/plain": [
       "(-1.0, 1.2246467991473532e-16)"
      ]
     },
     "execution_count": 44,
     "metadata": {},
     "output_type": "execute_result"
    }
   ],
   "source": [
    "def make_harmonic_features(value, period=24):\n",
    "    value *= 2 * np.pi / period\n",
    "    return np.cos(value), np.sin(value)\n",
    "\n",
    "make_harmonic_features(12)"
   ]
  },
  {
   "cell_type": "code",
   "execution_count": 45,
   "id": "ae2c56a5-0290-451a-abb3-0fd70985b06b",
   "metadata": {},
   "outputs": [],
   "source": [
    "posts['cos_start_time_24'], posts['sin_start_time_24'] = make_harmonic_features(posts['hour_start'])"
   ]
  },
  {
   "cell_type": "code",
   "execution_count": 46,
   "id": "919cf57a-1fec-4ba0-93b1-e8c8c3d0eb77",
   "metadata": {},
   "outputs": [],
   "source": [
    "posts['cos_end_time_24'], posts['sin_end_time_24'] = make_harmonic_features(posts['hour_end'])"
   ]
  },
  {
   "cell_type": "code",
   "execution_count": 47,
   "id": "040e0abe-a6f9-4585-9fc2-c1e780f7f81b",
   "metadata": {},
   "outputs": [
    {
     "data": {
      "text/html": [
       "<div>\n",
       "<style scoped>\n",
       "    .dataframe tbody tr th:only-of-type {\n",
       "        vertical-align: middle;\n",
       "    }\n",
       "\n",
       "    .dataframe tbody tr th {\n",
       "        vertical-align: top;\n",
       "    }\n",
       "\n",
       "    .dataframe thead th {\n",
       "        text-align: right;\n",
       "    }\n",
       "</style>\n",
       "<table border=\"1\" class=\"dataframe\">\n",
       "  <thead>\n",
       "    <tr style=\"text-align: right;\">\n",
       "      <th></th>\n",
       "      <th>at_least_one</th>\n",
       "    </tr>\n",
       "    <tr>\n",
       "      <th>ad_id</th>\n",
       "      <th></th>\n",
       "    </tr>\n",
       "  </thead>\n",
       "  <tbody>\n",
       "    <tr>\n",
       "      <th>0</th>\n",
       "      <td>0.0430</td>\n",
       "    </tr>\n",
       "    <tr>\n",
       "      <th>1</th>\n",
       "      <td>0.0130</td>\n",
       "    </tr>\n",
       "    <tr>\n",
       "      <th>2</th>\n",
       "      <td>0.0878</td>\n",
       "    </tr>\n",
       "    <tr>\n",
       "      <th>3</th>\n",
       "      <td>0.2295</td>\n",
       "    </tr>\n",
       "    <tr>\n",
       "      <th>4</th>\n",
       "      <td>0.3963</td>\n",
       "    </tr>\n",
       "    <tr>\n",
       "      <th>...</th>\n",
       "      <td>...</td>\n",
       "    </tr>\n",
       "    <tr>\n",
       "      <th>695</th>\n",
       "      <td>0.4272</td>\n",
       "    </tr>\n",
       "    <tr>\n",
       "      <th>696</th>\n",
       "      <td>0.1849</td>\n",
       "    </tr>\n",
       "    <tr>\n",
       "      <th>697</th>\n",
       "      <td>0.3963</td>\n",
       "    </tr>\n",
       "    <tr>\n",
       "      <th>698</th>\n",
       "      <td>0.0192</td>\n",
       "    </tr>\n",
       "    <tr>\n",
       "      <th>699</th>\n",
       "      <td>0.0001</td>\n",
       "    </tr>\n",
       "  </tbody>\n",
       "</table>\n",
       "<p>700 rows × 1 columns</p>\n",
       "</div>"
      ],
      "text/plain": [
       "       at_least_one\n",
       "ad_id              \n",
       "0            0.0430\n",
       "1            0.0130\n",
       "2            0.0878\n",
       "3            0.2295\n",
       "4            0.3963\n",
       "...             ...\n",
       "695          0.4272\n",
       "696          0.1849\n",
       "697          0.3963\n",
       "698          0.0192\n",
       "699          0.0001\n",
       "\n",
       "[700 rows x 1 columns]"
      ]
     },
     "execution_count": 47,
     "metadata": {},
     "output_type": "execute_result"
    }
   ],
   "source": [
    "answers.set_index('ad_id')"
   ]
  },
  {
   "cell_type": "code",
   "execution_count": 48,
   "id": "cc012fca-5013-43e8-aab7-02fa778e86d9",
   "metadata": {},
   "outputs": [],
   "source": [
    "posts['publishers_cnt'] = posts.publishers.apply(lambda s: len(s.split(',')))"
   ]
  },
  {
   "cell_type": "code",
   "execution_count": 49,
   "id": "673b03a9-df38-47c3-8a4d-bb1d22e57364",
   "metadata": {},
   "outputs": [
    {
     "data": {
      "text/html": [
       "<div>\n",
       "<style scoped>\n",
       "    .dataframe tbody tr th:only-of-type {\n",
       "        vertical-align: middle;\n",
       "    }\n",
       "\n",
       "    .dataframe tbody tr th {\n",
       "        vertical-align: top;\n",
       "    }\n",
       "\n",
       "    .dataframe thead th {\n",
       "        text-align: right;\n",
       "    }\n",
       "</style>\n",
       "<table border=\"1\" class=\"dataframe\">\n",
       "  <thead>\n",
       "    <tr style=\"text-align: right;\">\n",
       "      <th></th>\n",
       "      <th>hour</th>\n",
       "      <th>cpm</th>\n",
       "      <th>publisher</th>\n",
       "      <th>user_id</th>\n",
       "    </tr>\n",
       "  </thead>\n",
       "  <tbody>\n",
       "    <tr>\n",
       "      <th>0</th>\n",
       "      <td>10</td>\n",
       "      <td>30.00</td>\n",
       "      <td>1</td>\n",
       "      <td>15661</td>\n",
       "    </tr>\n",
       "    <tr>\n",
       "      <th>1</th>\n",
       "      <td>8</td>\n",
       "      <td>41.26</td>\n",
       "      <td>1</td>\n",
       "      <td>8444</td>\n",
       "    </tr>\n",
       "    <tr>\n",
       "      <th>2</th>\n",
       "      <td>7</td>\n",
       "      <td>360.00</td>\n",
       "      <td>1</td>\n",
       "      <td>15821</td>\n",
       "    </tr>\n",
       "    <tr>\n",
       "      <th>3</th>\n",
       "      <td>18</td>\n",
       "      <td>370.00</td>\n",
       "      <td>1</td>\n",
       "      <td>21530</td>\n",
       "    </tr>\n",
       "    <tr>\n",
       "      <th>4</th>\n",
       "      <td>8</td>\n",
       "      <td>195.00</td>\n",
       "      <td>2</td>\n",
       "      <td>22148</td>\n",
       "    </tr>\n",
       "  </tbody>\n",
       "</table>\n",
       "</div>"
      ],
      "text/plain": [
       "   hour     cpm  publisher  user_id\n",
       "0    10   30.00          1    15661\n",
       "1     8   41.26          1     8444\n",
       "2     7  360.00          1    15821\n",
       "3    18  370.00          1    21530\n",
       "4     8  195.00          2    22148"
      ]
     },
     "execution_count": 49,
     "metadata": {},
     "output_type": "execute_result"
    }
   ],
   "source": [
    "history.head()"
   ]
  },
  {
   "cell_type": "code",
   "execution_count": 50,
   "id": "1e995bef-5353-4c8e-850a-2a1376cc3693",
   "metadata": {},
   "outputs": [],
   "source": [
    "def get_mean_user_cmp(user):\n",
    "    return history.loc[history['user_id'] == user, 'cpm'].mean()"
   ]
  },
  {
   "cell_type": "code",
   "execution_count": 51,
   "id": "301a1ec9-50b8-4df6-9cb8-3a8890516e4d",
   "metadata": {},
   "outputs": [],
   "source": [
    "def get_publisher_cnt_user(publisher):\n",
    "    return history.loc[history['publisher'] == publisher, 'user_id'].unique().size"
   ]
  },
  {
   "cell_type": "code",
   "execution_count": 52,
   "id": "0ba6d7a2-916c-45d6-bb0d-e3dbf4c8e37c",
   "metadata": {},
   "outputs": [],
   "source": [
    "users['mean_cpm'] = users['user_id'].apply(get_mean_user_cmp)"
   ]
  },
  {
   "cell_type": "code",
   "execution_count": 53,
   "id": "fe6a4aa5-bda1-418e-881a-eec938fb0b04",
   "metadata": {},
   "outputs": [],
   "source": [
    "users = users.fillna(users.mean())"
   ]
  },
  {
   "cell_type": "code",
   "execution_count": 54,
   "id": "73e73040-23ab-424f-a231-c677658e5e32",
   "metadata": {},
   "outputs": [],
   "source": [
    "publisher_stat = pd.DataFrame(columns=['publisher', 'cnt_users'])"
   ]
  },
  {
   "cell_type": "code",
   "execution_count": 55,
   "id": "9d837069-52dd-44d6-89cf-c05be233d8de",
   "metadata": {},
   "outputs": [],
   "source": [
    "for publisher in range(1, 22):\n",
    "    publisher_stat = publisher_stat.append(pd.Series([publisher,get_publisher_cnt_user(publisher)], index=['publisher','cnt_users']), ignore_index=True)"
   ]
  },
  {
   "cell_type": "code",
   "execution_count": 56,
   "id": "dae12002-e0ed-4bb4-b534-aa2b46cc764e",
   "metadata": {},
   "outputs": [
    {
     "data": {
      "text/html": [
       "<div>\n",
       "<style scoped>\n",
       "    .dataframe tbody tr th:only-of-type {\n",
       "        vertical-align: middle;\n",
       "    }\n",
       "\n",
       "    .dataframe tbody tr th {\n",
       "        vertical-align: top;\n",
       "    }\n",
       "\n",
       "    .dataframe thead th {\n",
       "        text-align: right;\n",
       "    }\n",
       "</style>\n",
       "<table border=\"1\" class=\"dataframe\">\n",
       "  <thead>\n",
       "    <tr style=\"text-align: right;\">\n",
       "      <th></th>\n",
       "      <th>publisher</th>\n",
       "      <th>cnt_users</th>\n",
       "    </tr>\n",
       "  </thead>\n",
       "  <tbody>\n",
       "    <tr>\n",
       "      <th>0</th>\n",
       "      <td>1</td>\n",
       "      <td>15426</td>\n",
       "    </tr>\n",
       "    <tr>\n",
       "      <th>1</th>\n",
       "      <td>2</td>\n",
       "      <td>5939</td>\n",
       "    </tr>\n",
       "    <tr>\n",
       "      <th>2</th>\n",
       "      <td>3</td>\n",
       "      <td>3011</td>\n",
       "    </tr>\n",
       "    <tr>\n",
       "      <th>3</th>\n",
       "      <td>4</td>\n",
       "      <td>739</td>\n",
       "    </tr>\n",
       "    <tr>\n",
       "      <th>4</th>\n",
       "      <td>5</td>\n",
       "      <td>580</td>\n",
       "    </tr>\n",
       "    <tr>\n",
       "      <th>5</th>\n",
       "      <td>6</td>\n",
       "      <td>749</td>\n",
       "    </tr>\n",
       "    <tr>\n",
       "      <th>6</th>\n",
       "      <td>7</td>\n",
       "      <td>5590</td>\n",
       "    </tr>\n",
       "    <tr>\n",
       "      <th>7</th>\n",
       "      <td>8</td>\n",
       "      <td>621</td>\n",
       "    </tr>\n",
       "    <tr>\n",
       "      <th>8</th>\n",
       "      <td>9</td>\n",
       "      <td>2298</td>\n",
       "    </tr>\n",
       "    <tr>\n",
       "      <th>9</th>\n",
       "      <td>10</td>\n",
       "      <td>1317</td>\n",
       "    </tr>\n",
       "    <tr>\n",
       "      <th>10</th>\n",
       "      <td>11</td>\n",
       "      <td>133</td>\n",
       "    </tr>\n",
       "    <tr>\n",
       "      <th>11</th>\n",
       "      <td>12</td>\n",
       "      <td>503</td>\n",
       "    </tr>\n",
       "    <tr>\n",
       "      <th>12</th>\n",
       "      <td>13</td>\n",
       "      <td>12</td>\n",
       "    </tr>\n",
       "    <tr>\n",
       "      <th>13</th>\n",
       "      <td>14</td>\n",
       "      <td>127</td>\n",
       "    </tr>\n",
       "    <tr>\n",
       "      <th>14</th>\n",
       "      <td>15</td>\n",
       "      <td>33</td>\n",
       "    </tr>\n",
       "    <tr>\n",
       "      <th>15</th>\n",
       "      <td>16</td>\n",
       "      <td>379</td>\n",
       "    </tr>\n",
       "    <tr>\n",
       "      <th>16</th>\n",
       "      <td>17</td>\n",
       "      <td>105</td>\n",
       "    </tr>\n",
       "    <tr>\n",
       "      <th>17</th>\n",
       "      <td>18</td>\n",
       "      <td>40</td>\n",
       "    </tr>\n",
       "    <tr>\n",
       "      <th>18</th>\n",
       "      <td>19</td>\n",
       "      <td>43</td>\n",
       "    </tr>\n",
       "    <tr>\n",
       "      <th>19</th>\n",
       "      <td>20</td>\n",
       "      <td>23</td>\n",
       "    </tr>\n",
       "    <tr>\n",
       "      <th>20</th>\n",
       "      <td>21</td>\n",
       "      <td>2</td>\n",
       "    </tr>\n",
       "  </tbody>\n",
       "</table>\n",
       "</div>"
      ],
      "text/plain": [
       "   publisher cnt_users\n",
       "0          1     15426\n",
       "1          2      5939\n",
       "2          3      3011\n",
       "3          4       739\n",
       "4          5       580\n",
       "5          6       749\n",
       "6          7      5590\n",
       "7          8       621\n",
       "8          9      2298\n",
       "9         10      1317\n",
       "10        11       133\n",
       "11        12       503\n",
       "12        13        12\n",
       "13        14       127\n",
       "14        15        33\n",
       "15        16       379\n",
       "16        17       105\n",
       "17        18        40\n",
       "18        19        43\n",
       "19        20        23\n",
       "20        21         2"
      ]
     },
     "execution_count": 56,
     "metadata": {},
     "output_type": "execute_result"
    }
   ],
   "source": [
    "publisher_stat"
   ]
  },
  {
   "cell_type": "code",
   "execution_count": 57,
   "id": "d424b72f-26ee-4321-a99b-f3e6149a9c78",
   "metadata": {},
   "outputs": [],
   "source": [
    "def get_mean_users_cmp(s):\n",
    "    users_id = list(map(int, s.split(',')))\n",
    "    return users.loc[users['user_id'].isin(users_id), 'mean_cpm'].mean()"
   ]
  },
  {
   "cell_type": "code",
   "execution_count": 58,
   "id": "cfa53c9a-fe65-4018-befd-e8e45141abc0",
   "metadata": {},
   "outputs": [],
   "source": [
    "def get_publishers_cnt_user(s):\n",
    "    publishers = list(map(int, s.split(',')))\n",
    "    return publisher_stat.loc[publisher_stat['publisher'].isin(publishers), 'cnt_users'].sum()"
   ]
  },
  {
   "cell_type": "code",
   "execution_count": 59,
   "id": "2b40ab0a-3131-4694-95de-22ba3d2184fc",
   "metadata": {},
   "outputs": [],
   "source": [
    "posts['dur_x_audience'] = posts['audience_size'] * posts['del']\n",
    "posts['log_dur_x_audience'] = np.log(posts['dur_x_audience'])\n",
    "posts['cpm_x_duration'] = posts['cpm'] * posts['del']\n",
    "posts['mean_users_cmp'] = posts['user_ids'].apply(lambda s: get_mean_users_cmp(s))\n",
    "posts['publishers_cnt_user'] = posts['publishers'].apply(lambda s: get_publishers_cnt_user(s))"
   ]
  },
  {
   "cell_type": "code",
   "execution_count": 60,
   "id": "995e56ff-8856-49c7-82fd-7359aab56e20",
   "metadata": {},
   "outputs": [
    {
     "data": {
      "text/html": [
       "<div>\n",
       "<style scoped>\n",
       "    .dataframe tbody tr th:only-of-type {\n",
       "        vertical-align: middle;\n",
       "    }\n",
       "\n",
       "    .dataframe tbody tr th {\n",
       "        vertical-align: top;\n",
       "    }\n",
       "\n",
       "    .dataframe thead th {\n",
       "        text-align: right;\n",
       "    }\n",
       "</style>\n",
       "<table border=\"1\" class=\"dataframe\">\n",
       "  <thead>\n",
       "    <tr style=\"text-align: right;\">\n",
       "      <th></th>\n",
       "      <th>cpm</th>\n",
       "      <th>hour_start</th>\n",
       "      <th>hour_end</th>\n",
       "      <th>publishers</th>\n",
       "      <th>audience_size</th>\n",
       "      <th>user_ids</th>\n",
       "      <th>del</th>\n",
       "      <th>del2</th>\n",
       "      <th>cos_start_time_24</th>\n",
       "      <th>sin_start_time_24</th>\n",
       "      <th>cos_end_time_24</th>\n",
       "      <th>sin_end_time_24</th>\n",
       "      <th>publishers_cnt</th>\n",
       "      <th>dur_x_audience</th>\n",
       "      <th>log_dur_x_audience</th>\n",
       "      <th>cpm_x_duration</th>\n",
       "      <th>mean_users_cmp</th>\n",
       "      <th>publishers_cnt_user</th>\n",
       "    </tr>\n",
       "    <tr>\n",
       "      <th>ad_id</th>\n",
       "      <th></th>\n",
       "      <th></th>\n",
       "      <th></th>\n",
       "      <th></th>\n",
       "      <th></th>\n",
       "      <th></th>\n",
       "      <th></th>\n",
       "      <th></th>\n",
       "      <th></th>\n",
       "      <th></th>\n",
       "      <th></th>\n",
       "      <th></th>\n",
       "      <th></th>\n",
       "      <th></th>\n",
       "      <th></th>\n",
       "      <th></th>\n",
       "      <th></th>\n",
       "      <th></th>\n",
       "    </tr>\n",
       "  </thead>\n",
       "  <tbody>\n",
       "    <tr>\n",
       "      <th>0</th>\n",
       "      <td>220.0</td>\n",
       "      <td>1058</td>\n",
       "      <td>1153</td>\n",
       "      <td>7,17</td>\n",
       "      <td>1906</td>\n",
       "      <td>12,44,46,50,58,71,93,122,134,143,176,184,187,1...</td>\n",
       "      <td>95</td>\n",
       "      <td>3.958333</td>\n",
       "      <td>0.866025</td>\n",
       "      <td>0.500000</td>\n",
       "      <td>9.659258e-01</td>\n",
       "      <td>2.588190e-01</td>\n",
       "      <td>2</td>\n",
       "      <td>181070</td>\n",
       "      <td>12.106639</td>\n",
       "      <td>20900.0</td>\n",
       "      <td>293.479033</td>\n",
       "      <td>5695</td>\n",
       "    </tr>\n",
       "    <tr>\n",
       "      <th>1</th>\n",
       "      <td>312.0</td>\n",
       "      <td>1295</td>\n",
       "      <td>1301</td>\n",
       "      <td>3,18</td>\n",
       "      <td>1380</td>\n",
       "      <td>29,81,98,102,165,167,195,205,218,231,242,263,3...</td>\n",
       "      <td>6</td>\n",
       "      <td>0.250000</td>\n",
       "      <td>0.965926</td>\n",
       "      <td>-0.258819</td>\n",
       "      <td>2.588190e-01</td>\n",
       "      <td>9.659258e-01</td>\n",
       "      <td>2</td>\n",
       "      <td>8280</td>\n",
       "      <td>9.021598</td>\n",
       "      <td>1872.0</td>\n",
       "      <td>179.636671</td>\n",
       "      <td>3051</td>\n",
       "    </tr>\n",
       "    <tr>\n",
       "      <th>2</th>\n",
       "      <td>70.0</td>\n",
       "      <td>1229</td>\n",
       "      <td>1249</td>\n",
       "      <td>1,2,3,9,15,21</td>\n",
       "      <td>888</td>\n",
       "      <td>12,23,25,29,45,85,92,124,156,190,272,334,456,5...</td>\n",
       "      <td>20</td>\n",
       "      <td>0.833333</td>\n",
       "      <td>0.258819</td>\n",
       "      <td>0.965926</td>\n",
       "      <td>9.659258e-01</td>\n",
       "      <td>2.588190e-01</td>\n",
       "      <td>6</td>\n",
       "      <td>17760</td>\n",
       "      <td>9.784704</td>\n",
       "      <td>1400.0</td>\n",
       "      <td>302.581066</td>\n",
       "      <td>26709</td>\n",
       "    </tr>\n",
       "    <tr>\n",
       "      <th>3</th>\n",
       "      <td>240.0</td>\n",
       "      <td>1295</td>\n",
       "      <td>1377</td>\n",
       "      <td>1,14</td>\n",
       "      <td>440</td>\n",
       "      <td>44,122,187,209,242,255,312,345,382,465,513,524...</td>\n",
       "      <td>82</td>\n",
       "      <td>3.416667</td>\n",
       "      <td>0.965926</td>\n",
       "      <td>-0.258819</td>\n",
       "      <td>-7.071068e-01</td>\n",
       "      <td>7.071068e-01</td>\n",
       "      <td>2</td>\n",
       "      <td>36080</td>\n",
       "      <td>10.493494</td>\n",
       "      <td>19680.0</td>\n",
       "      <td>269.411238</td>\n",
       "      <td>15553</td>\n",
       "    </tr>\n",
       "    <tr>\n",
       "      <th>4</th>\n",
       "      <td>262.0</td>\n",
       "      <td>752</td>\n",
       "      <td>990</td>\n",
       "      <td>1,3,7,8</td>\n",
       "      <td>1476</td>\n",
       "      <td>15,24,30,43,50,53,96,105,159,168,181,190,196,2...</td>\n",
       "      <td>238</td>\n",
       "      <td>9.916667</td>\n",
       "      <td>-0.500000</td>\n",
       "      <td>0.866025</td>\n",
       "      <td>3.674869e-14</td>\n",
       "      <td>1.000000e+00</td>\n",
       "      <td>4</td>\n",
       "      <td>351288</td>\n",
       "      <td>12.769362</td>\n",
       "      <td>62356.0</td>\n",
       "      <td>354.247404</td>\n",
       "      <td>24648</td>\n",
       "    </tr>\n",
       "    <tr>\n",
       "      <th>...</th>\n",
       "      <td>...</td>\n",
       "      <td>...</td>\n",
       "      <td>...</td>\n",
       "      <td>...</td>\n",
       "      <td>...</td>\n",
       "      <td>...</td>\n",
       "      <td>...</td>\n",
       "      <td>...</td>\n",
       "      <td>...</td>\n",
       "      <td>...</td>\n",
       "      <td>...</td>\n",
       "      <td>...</td>\n",
       "      <td>...</td>\n",
       "      <td>...</td>\n",
       "      <td>...</td>\n",
       "      <td>...</td>\n",
       "      <td>...</td>\n",
       "      <td>...</td>\n",
       "    </tr>\n",
       "    <tr>\n",
       "      <th>1003</th>\n",
       "      <td>127.0</td>\n",
       "      <td>1095</td>\n",
       "      <td>1154</td>\n",
       "      <td>2,7,12,15,16</td>\n",
       "      <td>368</td>\n",
       "      <td>38,50,143,237,456,649,653,698,881,893,1100,127...</td>\n",
       "      <td>59</td>\n",
       "      <td>2.458333</td>\n",
       "      <td>-0.707107</td>\n",
       "      <td>-0.707107</td>\n",
       "      <td>8.660254e-01</td>\n",
       "      <td>5.000000e-01</td>\n",
       "      <td>5</td>\n",
       "      <td>21712</td>\n",
       "      <td>9.985620</td>\n",
       "      <td>7493.0</td>\n",
       "      <td>277.948008</td>\n",
       "      <td>12444</td>\n",
       "    </tr>\n",
       "    <tr>\n",
       "      <th>1004</th>\n",
       "      <td>90.0</td>\n",
       "      <td>1052</td>\n",
       "      <td>1056</td>\n",
       "      <td>2,21</td>\n",
       "      <td>484</td>\n",
       "      <td>1,4,61,212,230,348,356,372,429,431,462,540,593...</td>\n",
       "      <td>4</td>\n",
       "      <td>0.166667</td>\n",
       "      <td>0.500000</td>\n",
       "      <td>-0.866025</td>\n",
       "      <td>1.000000e+00</td>\n",
       "      <td>-3.919860e-14</td>\n",
       "      <td>2</td>\n",
       "      <td>1936</td>\n",
       "      <td>7.568379</td>\n",
       "      <td>360.0</td>\n",
       "      <td>257.956109</td>\n",
       "      <td>5941</td>\n",
       "    </tr>\n",
       "    <tr>\n",
       "      <th>1005</th>\n",
       "      <td>122.0</td>\n",
       "      <td>1058</td>\n",
       "      <td>1063</td>\n",
       "      <td>2,5</td>\n",
       "      <td>704</td>\n",
       "      <td>1,23,29,104,136,176,201,206,250,269,355,403,44...</td>\n",
       "      <td>5</td>\n",
       "      <td>0.208333</td>\n",
       "      <td>0.866025</td>\n",
       "      <td>0.500000</td>\n",
       "      <td>-2.588190e-01</td>\n",
       "      <td>9.659258e-01</td>\n",
       "      <td>2</td>\n",
       "      <td>3520</td>\n",
       "      <td>8.166216</td>\n",
       "      <td>610.0</td>\n",
       "      <td>179.388233</td>\n",
       "      <td>6519</td>\n",
       "    </tr>\n",
       "    <tr>\n",
       "      <th>1006</th>\n",
       "      <td>138.0</td>\n",
       "      <td>932</td>\n",
       "      <td>1169</td>\n",
       "      <td>1,2,7</td>\n",
       "      <td>1210</td>\n",
       "      <td>67,73,80,146,182,202,212,254,307,377,383,385,3...</td>\n",
       "      <td>237</td>\n",
       "      <td>9.875000</td>\n",
       "      <td>0.500000</td>\n",
       "      <td>-0.866025</td>\n",
       "      <td>-2.588190e-01</td>\n",
       "      <td>-9.659258e-01</td>\n",
       "      <td>3</td>\n",
       "      <td>286770</td>\n",
       "      <td>12.566436</td>\n",
       "      <td>32706.0</td>\n",
       "      <td>274.298539</td>\n",
       "      <td>26955</td>\n",
       "    </tr>\n",
       "    <tr>\n",
       "      <th>1007</th>\n",
       "      <td>35.0</td>\n",
       "      <td>747</td>\n",
       "      <td>806</td>\n",
       "      <td>1,3,7,18</td>\n",
       "      <td>1000</td>\n",
       "      <td>39,78,101,205,242,266,277,284,306,440,447,451,...</td>\n",
       "      <td>59</td>\n",
       "      <td>2.458333</td>\n",
       "      <td>0.707107</td>\n",
       "      <td>0.707107</td>\n",
       "      <td>-8.660254e-01</td>\n",
       "      <td>-5.000000e-01</td>\n",
       "      <td>4</td>\n",
       "      <td>59000</td>\n",
       "      <td>10.985293</td>\n",
       "      <td>2065.0</td>\n",
       "      <td>278.600033</td>\n",
       "      <td>24067</td>\n",
       "    </tr>\n",
       "  </tbody>\n",
       "</table>\n",
       "<p>1008 rows × 18 columns</p>\n",
       "</div>"
      ],
      "text/plain": [
       "         cpm  hour_start  hour_end     publishers  audience_size  \\\n",
       "ad_id                                                              \n",
       "0      220.0        1058      1153           7,17           1906   \n",
       "1      312.0        1295      1301           3,18           1380   \n",
       "2       70.0        1229      1249  1,2,3,9,15,21            888   \n",
       "3      240.0        1295      1377           1,14            440   \n",
       "4      262.0         752       990        1,3,7,8           1476   \n",
       "...      ...         ...       ...            ...            ...   \n",
       "1003   127.0        1095      1154   2,7,12,15,16            368   \n",
       "1004    90.0        1052      1056           2,21            484   \n",
       "1005   122.0        1058      1063            2,5            704   \n",
       "1006   138.0         932      1169          1,2,7           1210   \n",
       "1007    35.0         747       806       1,3,7,18           1000   \n",
       "\n",
       "                                                user_ids  del      del2  \\\n",
       "ad_id                                                                     \n",
       "0      12,44,46,50,58,71,93,122,134,143,176,184,187,1...   95  3.958333   \n",
       "1      29,81,98,102,165,167,195,205,218,231,242,263,3...    6  0.250000   \n",
       "2      12,23,25,29,45,85,92,124,156,190,272,334,456,5...   20  0.833333   \n",
       "3      44,122,187,209,242,255,312,345,382,465,513,524...   82  3.416667   \n",
       "4      15,24,30,43,50,53,96,105,159,168,181,190,196,2...  238  9.916667   \n",
       "...                                                  ...  ...       ...   \n",
       "1003   38,50,143,237,456,649,653,698,881,893,1100,127...   59  2.458333   \n",
       "1004   1,4,61,212,230,348,356,372,429,431,462,540,593...    4  0.166667   \n",
       "1005   1,23,29,104,136,176,201,206,250,269,355,403,44...    5  0.208333   \n",
       "1006   67,73,80,146,182,202,212,254,307,377,383,385,3...  237  9.875000   \n",
       "1007   39,78,101,205,242,266,277,284,306,440,447,451,...   59  2.458333   \n",
       "\n",
       "       cos_start_time_24  sin_start_time_24  cos_end_time_24  sin_end_time_24  \\\n",
       "ad_id                                                                           \n",
       "0               0.866025           0.500000     9.659258e-01     2.588190e-01   \n",
       "1               0.965926          -0.258819     2.588190e-01     9.659258e-01   \n",
       "2               0.258819           0.965926     9.659258e-01     2.588190e-01   \n",
       "3               0.965926          -0.258819    -7.071068e-01     7.071068e-01   \n",
       "4              -0.500000           0.866025     3.674869e-14     1.000000e+00   \n",
       "...                  ...                ...              ...              ...   \n",
       "1003           -0.707107          -0.707107     8.660254e-01     5.000000e-01   \n",
       "1004            0.500000          -0.866025     1.000000e+00    -3.919860e-14   \n",
       "1005            0.866025           0.500000    -2.588190e-01     9.659258e-01   \n",
       "1006            0.500000          -0.866025    -2.588190e-01    -9.659258e-01   \n",
       "1007            0.707107           0.707107    -8.660254e-01    -5.000000e-01   \n",
       "\n",
       "       publishers_cnt  dur_x_audience  log_dur_x_audience  cpm_x_duration  \\\n",
       "ad_id                                                                       \n",
       "0                   2          181070           12.106639         20900.0   \n",
       "1                   2            8280            9.021598          1872.0   \n",
       "2                   6           17760            9.784704          1400.0   \n",
       "3                   2           36080           10.493494         19680.0   \n",
       "4                   4          351288           12.769362         62356.0   \n",
       "...               ...             ...                 ...             ...   \n",
       "1003                5           21712            9.985620          7493.0   \n",
       "1004                2            1936            7.568379           360.0   \n",
       "1005                2            3520            8.166216           610.0   \n",
       "1006                3          286770           12.566436         32706.0   \n",
       "1007                4           59000           10.985293          2065.0   \n",
       "\n",
       "       mean_users_cmp  publishers_cnt_user  \n",
       "ad_id                                       \n",
       "0          293.479033                 5695  \n",
       "1          179.636671                 3051  \n",
       "2          302.581066                26709  \n",
       "3          269.411238                15553  \n",
       "4          354.247404                24648  \n",
       "...               ...                  ...  \n",
       "1003       277.948008                12444  \n",
       "1004       257.956109                 5941  \n",
       "1005       179.388233                 6519  \n",
       "1006       274.298539                26955  \n",
       "1007       278.600033                24067  \n",
       "\n",
       "[1008 rows x 18 columns]"
      ]
     },
     "execution_count": 60,
     "metadata": {},
     "output_type": "execute_result"
    }
   ],
   "source": [
    "posts"
   ]
  },
  {
   "cell_type": "code",
   "execution_count": 86,
   "id": "3cba7e53-b9ee-4c21-a908-fcac6c175913",
   "metadata": {},
   "outputs": [],
   "source": [
    "import seaborn as sns"
   ]
  },
  {
   "cell_type": "code",
   "execution_count": 87,
   "id": "b66df7bd-f643-4a8e-bc73-e99b0e65bcd5",
   "metadata": {},
   "outputs": [],
   "source": [
    "def heatmap(data: pd.DataFrame):\n",
    "    plt.figure(figsize=(10, 9))\n",
    "    sns.heatmap(data.corr(), square=True, linecolor='white', annot=True)\n",
    "    plt.yticks(rotation=30)\n",
    "    plt.xticks(rotation=30)\n",
    "    plt.show()"
   ]
  },
  {
   "cell_type": "code",
   "execution_count": 61,
   "id": "2d5c3106-a611-4571-81f3-5a26c46981df",
   "metadata": {},
   "outputs": [
    {
     "data": {
      "text/html": [
       "<div>\n",
       "<style scoped>\n",
       "    .dataframe tbody tr th:only-of-type {\n",
       "        vertical-align: middle;\n",
       "    }\n",
       "\n",
       "    .dataframe tbody tr th {\n",
       "        vertical-align: top;\n",
       "    }\n",
       "\n",
       "    .dataframe thead th {\n",
       "        text-align: right;\n",
       "    }\n",
       "</style>\n",
       "<table border=\"1\" class=\"dataframe\">\n",
       "  <thead>\n",
       "    <tr style=\"text-align: right;\">\n",
       "      <th></th>\n",
       "      <th>at_least_one</th>\n",
       "    </tr>\n",
       "    <tr>\n",
       "      <th>ad_id</th>\n",
       "      <th></th>\n",
       "    </tr>\n",
       "  </thead>\n",
       "  <tbody>\n",
       "    <tr>\n",
       "      <th>0</th>\n",
       "      <td>0.0430</td>\n",
       "    </tr>\n",
       "    <tr>\n",
       "      <th>1</th>\n",
       "      <td>0.0130</td>\n",
       "    </tr>\n",
       "    <tr>\n",
       "      <th>2</th>\n",
       "      <td>0.0878</td>\n",
       "    </tr>\n",
       "    <tr>\n",
       "      <th>3</th>\n",
       "      <td>0.2295</td>\n",
       "    </tr>\n",
       "    <tr>\n",
       "      <th>4</th>\n",
       "      <td>0.3963</td>\n",
       "    </tr>\n",
       "    <tr>\n",
       "      <th>...</th>\n",
       "      <td>...</td>\n",
       "    </tr>\n",
       "    <tr>\n",
       "      <th>695</th>\n",
       "      <td>0.4272</td>\n",
       "    </tr>\n",
       "    <tr>\n",
       "      <th>696</th>\n",
       "      <td>0.1849</td>\n",
       "    </tr>\n",
       "    <tr>\n",
       "      <th>697</th>\n",
       "      <td>0.3963</td>\n",
       "    </tr>\n",
       "    <tr>\n",
       "      <th>698</th>\n",
       "      <td>0.0192</td>\n",
       "    </tr>\n",
       "    <tr>\n",
       "      <th>699</th>\n",
       "      <td>0.0001</td>\n",
       "    </tr>\n",
       "  </tbody>\n",
       "</table>\n",
       "<p>700 rows × 1 columns</p>\n",
       "</div>"
      ],
      "text/plain": [
       "       at_least_one\n",
       "ad_id              \n",
       "0            0.0430\n",
       "1            0.0130\n",
       "2            0.0878\n",
       "3            0.2295\n",
       "4            0.3963\n",
       "...             ...\n",
       "695          0.4272\n",
       "696          0.1849\n",
       "697          0.3963\n",
       "698          0.0192\n",
       "699          0.0001\n",
       "\n",
       "[700 rows x 1 columns]"
      ]
     },
     "execution_count": 61,
     "metadata": {},
     "output_type": "execute_result"
    }
   ],
   "source": [
    "# 'cos_start_time_24', 'cos_end_time_24', 'sin_start_time_24', 'sin_end_time_24'\n",
    "X = posts[['cpm', 'del', 'del2', \n",
    "           'publishers_cnt', 'log_dur_x_audience', 'cpm_x_duration', 'mean_users_cmp', 'publishers_cnt_user']]\n",
    "X_targert = X[X.index >= 700]\n",
    "X = X[X.index < 700]\n",
    "y = answers\n",
    "y = y.set_index('ad_id')\n",
    "y"
   ]
  },
  {
   "cell_type": "code",
   "execution_count": null,
   "id": "2fc6cc5f-a5c4-44c2-928b-0dbf916623e1",
   "metadata": {},
   "outputs": [],
   "source": []
  },
  {
   "cell_type": "code",
   "execution_count": 88,
   "id": "6e433bd7-1778-4cac-8909-baeca3226ce7",
   "metadata": {},
   "outputs": [
    {
     "data": {
      "image/png": "[encoded data removed]",
      "text/plain": [
       "<Figure size 720x648 with 2 Axes>"
      ]
     },
     "metadata": {
      "needs_background": "light"
     },
     "output_type": "display_data"
    }
   ],
   "source": [
    "heatmap(X.assign(answer=answers['at_least_one']))"
   ]
  },
  {
   "cell_type": "code",
   "execution_count": 62,
   "id": "f9e09b88-4c9b-42ec-b544-3365c5b0b057",
   "metadata": {},
   "outputs": [
    {
     "data": {
      "text/html": [
       "<div>\n",
       "<style scoped>\n",
       "    .dataframe tbody tr th:only-of-type {\n",
       "        vertical-align: middle;\n",
       "    }\n",
       "\n",
       "    .dataframe tbody tr th {\n",
       "        vertical-align: top;\n",
       "    }\n",
       "\n",
       "    .dataframe thead th {\n",
       "        text-align: right;\n",
       "    }\n",
       "</style>\n",
       "<table border=\"1\" class=\"dataframe\">\n",
       "  <thead>\n",
       "    <tr style=\"text-align: right;\">\n",
       "      <th></th>\n",
       "      <th>cpm</th>\n",
       "      <th>del</th>\n",
       "      <th>del2</th>\n",
       "      <th>cos_start_time_24</th>\n",
       "      <th>cos_end_time_24</th>\n",
       "      <th>sin_start_time_24</th>\n",
       "      <th>sin_end_time_24</th>\n",
       "      <th>publishers_cnt</th>\n",
       "      <th>log_dur_x_audience</th>\n",
       "      <th>cpm_x_duration</th>\n",
       "      <th>mean_users_cmp</th>\n",
       "      <th>publishers_cnt_user</th>\n",
       "    </tr>\n",
       "    <tr>\n",
       "      <th>ad_id</th>\n",
       "      <th></th>\n",
       "      <th></th>\n",
       "      <th></th>\n",
       "      <th></th>\n",
       "      <th></th>\n",
       "      <th></th>\n",
       "      <th></th>\n",
       "      <th></th>\n",
       "      <th></th>\n",
       "      <th></th>\n",
       "      <th></th>\n",
       "      <th></th>\n",
       "    </tr>\n",
       "  </thead>\n",
       "  <tbody>\n",
       "    <tr>\n",
       "      <th>0</th>\n",
       "      <td>220.0</td>\n",
       "      <td>95</td>\n",
       "      <td>3.958333</td>\n",
       "      <td>8.660254e-01</td>\n",
       "      <td>9.659258e-01</td>\n",
       "      <td>0.500000</td>\n",
       "      <td>2.588190e-01</td>\n",
       "      <td>2</td>\n",
       "      <td>12.106639</td>\n",
       "      <td>20900.0</td>\n",
       "      <td>293.479033</td>\n",
       "      <td>5695</td>\n",
       "    </tr>\n",
       "    <tr>\n",
       "      <th>1</th>\n",
       "      <td>312.0</td>\n",
       "      <td>6</td>\n",
       "      <td>0.250000</td>\n",
       "      <td>9.659258e-01</td>\n",
       "      <td>2.588190e-01</td>\n",
       "      <td>-0.258819</td>\n",
       "      <td>9.659258e-01</td>\n",
       "      <td>2</td>\n",
       "      <td>9.021598</td>\n",
       "      <td>1872.0</td>\n",
       "      <td>179.636671</td>\n",
       "      <td>3051</td>\n",
       "    </tr>\n",
       "    <tr>\n",
       "      <th>2</th>\n",
       "      <td>70.0</td>\n",
       "      <td>20</td>\n",
       "      <td>0.833333</td>\n",
       "      <td>2.588190e-01</td>\n",
       "      <td>9.659258e-01</td>\n",
       "      <td>0.965926</td>\n",
       "      <td>2.588190e-01</td>\n",
       "      <td>6</td>\n",
       "      <td>9.784704</td>\n",
       "      <td>1400.0</td>\n",
       "      <td>302.581066</td>\n",
       "      <td>26709</td>\n",
       "    </tr>\n",
       "    <tr>\n",
       "      <th>3</th>\n",
       "      <td>240.0</td>\n",
       "      <td>82</td>\n",
       "      <td>3.416667</td>\n",
       "      <td>9.659258e-01</td>\n",
       "      <td>-7.071068e-01</td>\n",
       "      <td>-0.258819</td>\n",
       "      <td>7.071068e-01</td>\n",
       "      <td>2</td>\n",
       "      <td>10.493494</td>\n",
       "      <td>19680.0</td>\n",
       "      <td>269.411238</td>\n",
       "      <td>15553</td>\n",
       "    </tr>\n",
       "    <tr>\n",
       "      <th>4</th>\n",
       "      <td>262.0</td>\n",
       "      <td>238</td>\n",
       "      <td>9.916667</td>\n",
       "      <td>-5.000000e-01</td>\n",
       "      <td>3.674869e-14</td>\n",
       "      <td>0.866025</td>\n",
       "      <td>1.000000e+00</td>\n",
       "      <td>4</td>\n",
       "      <td>12.769362</td>\n",
       "      <td>62356.0</td>\n",
       "      <td>354.247404</td>\n",
       "      <td>24648</td>\n",
       "    </tr>\n",
       "    <tr>\n",
       "      <th>...</th>\n",
       "      <td>...</td>\n",
       "      <td>...</td>\n",
       "      <td>...</td>\n",
       "      <td>...</td>\n",
       "      <td>...</td>\n",
       "      <td>...</td>\n",
       "      <td>...</td>\n",
       "      <td>...</td>\n",
       "      <td>...</td>\n",
       "      <td>...</td>\n",
       "      <td>...</td>\n",
       "      <td>...</td>\n",
       "    </tr>\n",
       "    <tr>\n",
       "      <th>695</th>\n",
       "      <td>40.0</td>\n",
       "      <td>451</td>\n",
       "      <td>18.791667</td>\n",
       "      <td>-7.071068e-01</td>\n",
       "      <td>5.000000e-01</td>\n",
       "      <td>0.707107</td>\n",
       "      <td>8.660254e-01</td>\n",
       "      <td>5</td>\n",
       "      <td>13.860790</td>\n",
       "      <td>18040.0</td>\n",
       "      <td>95.236259</td>\n",
       "      <td>19789</td>\n",
       "    </tr>\n",
       "    <tr>\n",
       "      <th>696</th>\n",
       "      <td>291.0</td>\n",
       "      <td>18</td>\n",
       "      <td>0.750000</td>\n",
       "      <td>3.282734e-14</td>\n",
       "      <td>1.000000e+00</td>\n",
       "      <td>1.000000</td>\n",
       "      <td>-4.899825e-14</td>\n",
       "      <td>4</td>\n",
       "      <td>10.029239</td>\n",
       "      <td>5238.0</td>\n",
       "      <td>156.434341</td>\n",
       "      <td>27694</td>\n",
       "    </tr>\n",
       "    <tr>\n",
       "      <th>697</th>\n",
       "      <td>130.0</td>\n",
       "      <td>200</td>\n",
       "      <td>8.333333</td>\n",
       "      <td>-5.000000e-01</td>\n",
       "      <td>1.000000e+00</td>\n",
       "      <td>-0.866025</td>\n",
       "      <td>-4.899825e-14</td>\n",
       "      <td>5</td>\n",
       "      <td>13.063462</td>\n",
       "      <td>26000.0</td>\n",
       "      <td>288.927329</td>\n",
       "      <td>25148</td>\n",
       "    </tr>\n",
       "    <tr>\n",
       "      <th>698</th>\n",
       "      <td>110.0</td>\n",
       "      <td>3</td>\n",
       "      <td>0.125000</td>\n",
       "      <td>-8.660254e-01</td>\n",
       "      <td>-9.659258e-01</td>\n",
       "      <td>0.500000</td>\n",
       "      <td>-2.588190e-01</td>\n",
       "      <td>5</td>\n",
       "      <td>6.995766</td>\n",
       "      <td>330.0</td>\n",
       "      <td>418.493566</td>\n",
       "      <td>21247</td>\n",
       "    </tr>\n",
       "    <tr>\n",
       "      <th>699</th>\n",
       "      <td>30.0</td>\n",
       "      <td>2</td>\n",
       "      <td>0.083333</td>\n",
       "      <td>5.000000e-01</td>\n",
       "      <td>2.498713e-14</td>\n",
       "      <td>0.866025</td>\n",
       "      <td>1.000000e+00</td>\n",
       "      <td>5</td>\n",
       "      <td>6.684612</td>\n",
       "      <td>60.0</td>\n",
       "      <td>327.992884</td>\n",
       "      <td>14606</td>\n",
       "    </tr>\n",
       "  </tbody>\n",
       "</table>\n",
       "<p>700 rows × 12 columns</p>\n",
       "</div>"
      ],
      "text/plain": [
       "         cpm  del       del2  cos_start_time_24  cos_end_time_24  \\\n",
       "ad_id                                                              \n",
       "0      220.0   95   3.958333       8.660254e-01     9.659258e-01   \n",
       "1      312.0    6   0.250000       9.659258e-01     2.588190e-01   \n",
       "2       70.0   20   0.833333       2.588190e-01     9.659258e-01   \n",
       "3      240.0   82   3.416667       9.659258e-01    -7.071068e-01   \n",
       "4      262.0  238   9.916667      -5.000000e-01     3.674869e-14   \n",
       "...      ...  ...        ...                ...              ...   \n",
       "695     40.0  451  18.791667      -7.071068e-01     5.000000e-01   \n",
       "696    291.0   18   0.750000       3.282734e-14     1.000000e+00   \n",
       "697    130.0  200   8.333333      -5.000000e-01     1.000000e+00   \n",
       "698    110.0    3   0.125000      -8.660254e-01    -9.659258e-01   \n",
       "699     30.0    2   0.083333       5.000000e-01     2.498713e-14   \n",
       "\n",
       "       sin_start_time_24  sin_end_time_24  publishers_cnt  log_dur_x_audience  \\\n",
       "ad_id                                                                           \n",
       "0               0.500000     2.588190e-01               2           12.106639   \n",
       "1              -0.258819     9.659258e-01               2            9.021598   \n",
       "2               0.965926     2.588190e-01               6            9.784704   \n",
       "3              -0.258819     7.071068e-01               2           10.493494   \n",
       "4               0.866025     1.000000e+00               4           12.769362   \n",
       "...                  ...              ...             ...                 ...   \n",
       "695             0.707107     8.660254e-01               5           13.860790   \n",
       "696             1.000000    -4.899825e-14               4           10.029239   \n",
       "697            -0.866025    -4.899825e-14               5           13.063462   \n",
       "698             0.500000    -2.588190e-01               5            6.995766   \n",
       "699             0.866025     1.000000e+00               5            6.684612   \n",
       "\n",
       "       cpm_x_duration  mean_users_cmp  publishers_cnt_user  \n",
       "ad_id                                                       \n",
       "0             20900.0      293.479033                 5695  \n",
       "1              1872.0      179.636671                 3051  \n",
       "2              1400.0      302.581066                26709  \n",
       "3             19680.0      269.411238                15553  \n",
       "4             62356.0      354.247404                24648  \n",
       "...               ...             ...                  ...  \n",
       "695           18040.0       95.236259                19789  \n",
       "696            5238.0      156.434341                27694  \n",
       "697           26000.0      288.927329                25148  \n",
       "698             330.0      418.493566                21247  \n",
       "699              60.0      327.992884                14606  \n",
       "\n",
       "[700 rows x 12 columns]"
      ]
     },
     "execution_count": 62,
     "metadata": {},
     "output_type": "execute_result"
    }
   ],
   "source": [
    "X"
   ]
  },
  {
   "cell_type": "markdown",
   "id": "4069f523-178e-4724-bd42-8dbf7cb9929b",
   "metadata": {},
   "source": [
    "#### Обучим линейную регрессию"
   ]
  },
  {
   "cell_type": "code",
   "execution_count": 63,
   "id": "4dbc22dc-9dc9-428a-b636-bbde6dc029b4",
   "metadata": {},
   "outputs": [],
   "source": [
    "from typing import Tuple\n",
    "from sklearn.linear_model import LinearRegression"
   ]
  },
  {
   "cell_type": "code",
   "execution_count": 64,
   "id": "bd9f3ec9-0df1-4f3e-ab72-882c9364d29c",
   "metadata": {},
   "outputs": [],
   "source": [
    "from sklearn.model_selection import KFold\n",
    "from sklearn.metrics import mean_absolute_percentage_error  \n",
    "from sklearn.metrics import mean_squared_error\n",
    "    \n",
    "def cross_val(model, X, y, cv=5):\n",
    "    ans = []\n",
    "    kf = KFold(n_splits=cv, shuffle=True)\n",
    "    kf.get_n_splits(X)\n",
    "    for train_index, test_index in kf.split(X):\n",
    "        X_train = X.iloc[train_index]\n",
    "        X_test = X.iloc[test_index]\n",
    "        y_train = y.iloc[train_index]\n",
    "        y_test = y.iloc[test_index]\n",
    "        model.fit(X_train, y_train)\n",
    "        y_pred = model.predict(X_test)\n",
    "        ans.append(mean_squared_error(y_pred, y_test))\n",
    "    #print(ans)\n",
    "    return ans"
   ]
  },
  {
   "cell_type": "code",
   "execution_count": 65,
   "id": "f44ab7ab-976c-4e85-93d9-af4daf2c9cd9",
   "metadata": {},
   "outputs": [
    {
     "name": "stdout",
     "output_type": "stream",
     "text": [
      "Результат наивной регрессии: 0.00861\n"
     ]
    }
   ],
   "source": [
    "mse = np.mean(cross_val(LinearRegression(), X, y, cv=6))\n",
    "print(\"Результат наивной регрессии: {:.5f}\".format(mse))"
   ]
  },
  {
   "cell_type": "code",
   "execution_count": 66,
   "id": "7206872a-05df-49c7-81f9-64de506a75bd",
   "metadata": {},
   "outputs": [],
   "source": [
    "# L1\n",
    "from sklearn.linear_model import Lasso\n",
    "lambdas = np.arange(0.001, 0.2, 0.001)\n",
    "\n",
    "lam_errors = [] \n",
    "\n",
    "for lam in lambdas:\n",
    "    error = np.mean(cross_val(Lasso(alpha = lam), X, y, cv=5))\n",
    "    lam_errors.append((lam, error))\n"
   ]
  },
  {
   "cell_type": "code",
   "execution_count": 67,
   "id": "9e8feab8-30f3-4e69-9964-b6c09a3bd457",
   "metadata": {},
   "outputs": [
    {
     "data": {
      "text/plain": [
       "[<matplotlib.lines.Line2D at 0x1779f11e040>]"
      ]
     },
     "execution_count": 67,
     "metadata": {},
     "output_type": "execute_result"
    },
    {
     "data": {
      "image/png": "[encoded data removed]",
      "text/plain": [
       "<Figure size 1008x216 with 1 Axes>"
      ]
     },
     "metadata": {
      "needs_background": "light"
     },
     "output_type": "display_data"
    }
   ],
   "source": [
    "plt.plot(*zip(*lam_errors))"
   ]
  },
  {
   "cell_type": "code",
   "execution_count": 68,
   "id": "5f384c12-9d09-4b0f-ae20-592ba0a9aad1",
   "metadata": {},
   "outputs": [],
   "source": [
    "min_lam, min_cross_val_error = min(lam_errors, key=lambda x: x[1])"
   ]
  },
  {
   "cell_type": "code",
   "execution_count": 69,
   "id": "197226b1-e45b-4074-b895-b4b93aa9a3bc",
   "metadata": {},
   "outputs": [
    {
     "name": "stdout",
     "output_type": "stream",
     "text": [
      "0.004 0.008442959448231906\n"
     ]
    }
   ],
   "source": [
    "print(min_lam, min_cross_val_error)"
   ]
  },
  {
   "cell_type": "code",
   "execution_count": 70,
   "id": "eaf9064c-b0a6-4bad-9468-a0b3a4bb0251",
   "metadata": {},
   "outputs": [],
   "source": [
    "# L2\n",
    "from sklearn.linear_model import Ridge\n",
    "\n",
    "lambdas = np.arange(1000, 1400, 10)\n",
    "\n",
    "lam_errors = []\n",
    "\n",
    "for lam in lambdas:\n",
    "    errors = np.mean(cross_val(Ridge(alpha=lam), X, y, cv=6))\n",
    "    lam_errors.append((lam, errors))\n",
    "    #print((lam, errors))\n",
    "\n"
   ]
  },
  {
   "cell_type": "code",
   "execution_count": 71,
   "id": "eefc6a32-12bd-410b-a201-62eba2535b5b",
   "metadata": {},
   "outputs": [
    {
     "data": {
      "text/plain": [
       "[<matplotlib.lines.Line2D at 0x1779f17cca0>]"
      ]
     },
     "execution_count": 71,
     "metadata": {},
     "output_type": "execute_result"
    },
    {
     "data": {
      "image/png": "[encoded data removed]",
      "text/plain": [
       "<Figure size 1008x216 with 1 Axes>"
      ]
     },
     "metadata": {
      "needs_background": "light"
     },
     "output_type": "display_data"
    }
   ],
   "source": [
    "plt.plot(*zip(*lam_errors))"
   ]
  },
  {
   "cell_type": "code",
   "execution_count": 72,
   "id": "faf98cb3-df1a-41ec-9700-70cd8d63ff26",
   "metadata": {},
   "outputs": [
    {
     "name": "stdout",
     "output_type": "stream",
     "text": [
      "1070 0.00865916991104062\n"
     ]
    }
   ],
   "source": [
    "min_lam, min_cross_val_error = min(lam_errors, key=lambda x: x[1])\n",
    "print(min_lam, min_cross_val_error)"
   ]
  },
  {
   "cell_type": "code",
   "execution_count": 73,
   "id": "e598175b-98f4-4cfa-8a17-d9f24ae89a53",
   "metadata": {},
   "outputs": [],
   "source": [
    "from sklearn.model_selection import KFold\n",
    "from sklearn.metrics import mean_absolute_percentage_error  \n",
    "    \n",
    "def cross_val_proba(model, X, y, cv=5):\n",
    "    ans = []\n",
    "    kf = KFold(n_splits=cv, shuffle=True)\n",
    "    kf.get_n_splits(X)\n",
    "    ym = y['at_least_one']\n",
    "    for train_index, test_index in kf.split(X):\n",
    "        X_train = X.iloc[train_index]\n",
    "        X_test = X.iloc[test_index]\n",
    "        y_train = ym.iloc[train_index]\n",
    "        y_train = y_train > 0.5\n",
    "        y_test = ym.iloc[test_index]\n",
    "        # print(X_train, y_train)\n",
    "        model.fit(X_train, y_train)\n",
    "        y_pred = model.predict_proba(X_test)[:, 1]\n",
    "        ans.append(mean_squared_error(y_pred, y_test))\n",
    "    return ans"
   ]
  },
  {
   "cell_type": "code",
   "execution_count": 74,
   "id": "6dd368a4-7d53-4d32-85a8-c09dc10d19c3",
   "metadata": {},
   "outputs": [],
   "source": [
    "from sklearn.linear_model import LogisticRegression"
   ]
  },
  {
   "cell_type": "code",
   "execution_count": 75,
   "id": "cbb2f17c-fd3b-406a-ab8e-907b7bd680b4",
   "metadata": {},
   "outputs": [],
   "source": [
    "weights = range(1, 10)\n",
    "\n",
    "errors = []\n",
    "\n",
    "for i in weights:\n",
    "    for j in weights:\n",
    "        error = np.mean(cross_val_proba(LogisticRegression(class_weight={0:i, 1:j}, max_iter=1000), X, y, cv=6))\n",
    "        errors.append((i, j, error))"
   ]
  },
  {
   "cell_type": "code",
   "execution_count": 76,
   "id": "e5259d76-32b6-4945-b8f5-22064119e09a",
   "metadata": {},
   "outputs": [],
   "source": [
    "min_i, min_j, min_cross_val_error = min(errors, key=lambda x: x[2])"
   ]
  },
  {
   "cell_type": "code",
   "execution_count": 77,
   "id": "02c31816-dcd2-4950-af96-bdb44d498b2e",
   "metadata": {},
   "outputs": [
    {
     "data": {
      "text/plain": [
       "0.022544578402446325"
      ]
     },
     "execution_count": 77,
     "metadata": {},
     "output_type": "execute_result"
    }
   ],
   "source": [
    "min_cross_val_error"
   ]
  },
  {
   "cell_type": "markdown",
   "id": "22302d18-6d24-44ea-a1a3-c595e6d02aa5",
   "metadata": {},
   "source": [
    "### CatBoost CatBoostRegressor"
   ]
  },
  {
   "cell_type": "code",
   "execution_count": 78,
   "id": "66acbf2d-eb97-4855-b592-c9ae48b5241c",
   "metadata": {},
   "outputs": [],
   "source": [
    "from sklearn.model_selection import KFold\n",
    "from sklearn.metrics import mean_squared_error  \n",
    "    \n",
    "def cross_val_cat(model, X, y, cv=5):\n",
    "    ans = []\n",
    "    kf = KFold(n_splits=cv, shuffle=True)\n",
    "    kf.get_n_splits(X)\n",
    "    for train_index, test_index in kf.split(X):\n",
    "        X_train = X.iloc[train_index]\n",
    "        X_test = X.iloc[test_index]\n",
    "        y_train = y.iloc[train_index]\n",
    "        y_test = y.iloc[test_index]\n",
    "        model.fit(X_train, y_train, logging_level='Silent')\n",
    "        y_pred = model.predict(X_test)\n",
    "        ans.append(mean_squared_error(y_pred, y_test))\n",
    "    return ans"
   ]
  },
  {
   "cell_type": "code",
   "execution_count": 79,
   "id": "0eb788a8-c601-4078-8993-427ffdb3186b",
   "metadata": {},
   "outputs": [],
   "source": [
    "from catboost import CatBoostRegressor"
   ]
  },
  {
   "cell_type": "code",
   "execution_count": 80,
   "id": "686a158d-4d01-45fc-aff1-73884f705d71",
   "metadata": {},
   "outputs": [
    {
     "data": {
      "text/plain": [
       "0.0035073385304101533"
      ]
     },
     "execution_count": 80,
     "metadata": {},
     "output_type": "execute_result"
    }
   ],
   "source": [
    "np.mean(cross_val_cat(CatBoostRegressor(), X, y))"
   ]
  },
  {
   "cell_type": "code",
   "execution_count": 82,
   "id": "b50fb42f-b305-495c-864d-e0434d02575f",
   "metadata": {},
   "outputs": [
    {
     "name": "stdout",
     "output_type": "stream",
     "text": [
      "[ 5.9928758   5.29633509  7.16858294  1.78238381  1.04205613  1.76091935\n",
      "  1.24211989  1.45394977  3.4080726  17.53552294 20.42961302 32.88756866]\n"
     ]
    }
   ],
   "source": [
    "model = CatBoostRegressor()\n",
    "# Fit model\n",
    "model.fit(X, y, logging_level='Silent')\n",
    "print(model.feature_importances_)\n",
    "# Get predictions\n",
    "preds = model.predict(X_targert)\n",
    "\n",
    "# Ответ."
   ]
  },
  {
   "cell_type": "code",
   "execution_count": null,
   "id": "8e6b94ef-cc4f-4360-aa17-1c55f98c7140",
   "metadata": {},
   "outputs": [],
   "source": [
    "LinReg = LinearRegression()"
   ]
  },
  {
   "cell_type": "code",
   "execution_count": null,
   "id": "df0f44cc-7151-4ac3-9487-0b3835a57d9c",
   "metadata": {},
   "outputs": [],
   "source": [
    "y_ans = sample_solution"
   ]
  },
  {
   "cell_type": "code",
   "execution_count": null,
   "id": "557b56a7-43ea-4dbc-8470-f604da3b853d",
   "metadata": {},
   "outputs": [],
   "source": [
    "y_ans"
   ]
  },
  {
   "cell_type": "code",
   "execution_count": null,
   "id": "eb5dae98-8ac9-4b01-b70c-54436217bdee",
   "metadata": {},
   "outputs": [],
   "source": [
    "best_model = Ridge(alpha=1070)"
   ]
  },
  {
   "cell_type": "code",
   "execution_count": null,
   "id": "e244a3b6-500c-41e3-8fd1-3009a7de144e",
   "metadata": {},
   "outputs": [],
   "source": [
    "best_model.fit(X, y)"
   ]
  },
  {
   "cell_type": "code",
   "execution_count": null,
   "id": "1801744e-e187-4a17-bfbf-72195b73a451",
   "metadata": {},
   "outputs": [],
   "source": [
    "y_ans['at_least_one'] = best_model.predict(X_targert)"
   ]
  },
  {
   "cell_type": "code",
   "execution_count": null,
   "id": "402b585e-0dcb-469e-9dd9-339c4552a2b5",
   "metadata": {},
   "outputs": [],
   "source": [
    "y_ans['at_least_one'] = preds"
   ]
  },
  {
   "cell_type": "code",
   "execution_count": null,
   "id": "940c3de1-2554-47ca-98e9-8e7a774abd32",
   "metadata": {},
   "outputs": [],
   "source": [
    "y_ans"
   ]
  },
  {
   "cell_type": "code",
   "execution_count": null,
   "id": "32dde317-a6e9-4ddd-bc47-8500e5a0d146",
   "metadata": {},
   "outputs": [],
   "source": [
    "y_ans.to_csv('solution.csv', index = False, header=True)"
   ]
  },
  {
   "cell_type": "code",
   "execution_count": null,
   "id": "7b15bf73-5f2d-422b-b5cd-8700b6dc3ec3",
   "metadata": {},
   "outputs": [],
   "source": []
  },
  {
   "cell_type": "code",
   "execution_count": null,
   "id": "60a377bc-d871-4673-b28d-19555a77e983",
   "metadata": {},
   "outputs": [],
   "source": []
  }
 ],
 "metadata": {
  "kernelspec": {
   "display_name": "Python 3 (ipykernel)",
   "language": "python",
   "name": "python3"
  },
  "language_info": {
   "codemirror_mode": {
    "name": "ipython",
    "version": 3
   },
   "file_extension": ".py",
   "mimetype": "text/x-python",
   "name": "python",
   "nbconvert_exporter": "python",
   "pygments_lexer": "ipython3",
   "version": "3.9.5"
  }
 },
 "nbformat": 4,
 "nbformat_minor": 5
}
