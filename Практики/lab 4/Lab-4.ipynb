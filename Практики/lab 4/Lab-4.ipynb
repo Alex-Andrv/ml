{
 "cells": [
  {
   "cell_type": "markdown",
   "id": "infectious-bradley",
   "metadata": {},
   "source": [
    "# Задание из четвёртой лабы\n",
    "\n",
    "Обучите один из алгоритмов классификации из библиотеки sklearn. Объяснять принцип работы классификатора в этой лабораторной не требуется\n",
    "\n",
    "1. Выберите один из датасетов первой лабораторной\n",
    "\n",
    "\n",
    "2. Найдите в данных признак, который будете предсказывать\n",
    "    \n",
    "    Если это категория, то у неё должно быть от 2 до 10 значений (например колонка species в датасете миграции птиц содержит 3 категории)\n",
    "    \n",
    "    Если признак количественный, то его нужно дискретизировать (например для популярности трека в датасете spotify можно разделить треки на 3 категории: 0-20 - популярные, 21-50 - обычные, 51 - 100 - непопулярные). Полученную категорию записать в датафрейм как отдельную колонку\n",
    "\n",
    "\n",
    "3. Выделите признаки для предсказания\n",
    "    \n",
    "    Используйте от 2 до 5 количественных признаков для предсказания целевой переменной\n",
    "\n",
    "\n",
    "4. Проверьте нормальность количественных признаков\n",
    "    \n",
    "    Используйте статистический тест из лекции. Если распределение является лог-нормальным, логарифмируйте его и проверьте на нормальность\n",
    "    \n",
    "    Как минимум 1 из признаков должен быть нормальным\n",
    "\n",
    "\n",
    "5. Покажите качество предсказания модели с помощью метрик\n",
    "\n",
    "    Метрика должна учитывать баланс классов в датасете"
   ]
  },
  {
   "cell_type": "code",
   "execution_count": 1,
   "id": "82b4524a-71b9-494a-87a5-2b74c2b6c625",
   "metadata": {},
   "outputs": [],
   "source": [
    "import pandas as pd\n",
    "import numpy as np\n",
    "import matplotlib.pyplot as plt"
   ]
  },
  {
   "cell_type": "code",
   "execution_count": 2,
   "id": "65f384ff-7d55-4b1c-9046-731cb1ab462f",
   "metadata": {},
   "outputs": [],
   "source": [
    "from sklearn.model_selection import train_test_split\n",
    "from sklearn.neighbors import KNeighborsClassifier\n",
    "from sklearn.svm import SVC\n",
    "from sklearn.ensemble import RandomForestClassifier\n",
    "from sklearn.metrics import accuracy_score\n",
    "\n",
    "def start_learning(data_slice, target):\n",
    "    X_train, X_test, y_train, y_test = train_test_split(data_slice, target, shuffle=True, stratify=target, test_size=0.2)\n",
    "\n",
    "    # Так как у нас только 150 объектов в общей выборке и исходные данные имеют природу отличную от текстов,\n",
    "    # то имеет смысл обучить такие алгоритмы, как:\n",
    "    # 1) KNeighborsClassifier;\n",
    "    # 2) SVC;\n",
    "    # 3) RandomForestClassifier (один из представителей ансамблевых методов).\n",
    "\n",
    "    # Инициализируем алгоритмы с параметрами по-умолчанию\n",
    "    knn_clf = KNeighborsClassifier()\n",
    "    svm_clf = SVC()\n",
    "    forest_clf = RandomForestClassifier()\n",
    "\n",
    "    # Обучим классификаторы на тренировочных данных\n",
    "    for clf in [knn_clf, svm_clf, forest_clf]:\n",
    "        clf.fit(X_train, y_train)\n",
    "\n",
    "    # Получим значение метки для тестового набора\n",
    "    knn_pred = knn_clf.predict(X_test)\n",
    "    svm_pred = svm_clf.predict(X_test)\n",
    "    forest_pred = forest_clf.predict(X_test)\n",
    "    # Посчитаем метрику качества\n",
    "    knn_acc_score = accuracy_score(y_test, knn_pred)\n",
    "    svm_acc_score = accuracy_score(y_test, svm_pred)\n",
    "    forest_acc_score = accuracy_score(y_test, forest_pred)\n",
    "    # Выведем алгоритмы по убыванию качества их работы\n",
    "    leaderboard = sorted([\n",
    "        ('KNN', knn_acc_score),\n",
    "        ('SVC', svm_acc_score),\n",
    "        ('Forest', forest_acc_score)\n",
    "    ], key=lambda pair: pair[1], reverse=True)\n",
    "\n",
    "    print('Leaderboard:')\n",
    "    for idx, (leader_name, leader_score) in enumerate(leaderboard):\n",
    "        print(f'{idx + 1}. {leader_name}: {leader_score}')"
   ]
  },
  {
   "cell_type": "code",
   "execution_count": 3,
   "id": "491866f5-2199-489a-8118-cbe575b27208",
   "metadata": {},
   "outputs": [],
   "source": [
    "from scipy import stats"
   ]
  },
  {
   "cell_type": "code",
   "execution_count": 4,
   "id": "4d53a94e-f0c7-4c22-afbd-d0d8f824d888",
   "metadata": {},
   "outputs": [],
   "source": [
    "import matplotlib.pyplot as plt"
   ]
  },
  {
   "cell_type": "markdown",
   "id": "d86af292-b1cf-46e2-ac0e-57787adb347c",
   "metadata": {},
   "source": [
    "*****\n",
    "# Попытка номер 2\n",
    "******"
   ]
  },
  {
   "cell_type": "code",
   "execution_count": 5,
   "id": "253a1eef-3ba6-4474-afe5-277bfa129375",
   "metadata": {},
   "outputs": [],
   "source": [
    "nba = pd.read_csv('data/nba2k20-full.csv')"
   ]
  },
  {
   "cell_type": "code",
   "execution_count": 6,
   "id": "c1513a7f-8c58-430e-bbd8-dc76786a3366",
   "metadata": {},
   "outputs": [
    {
     "name": "stdout",
     "output_type": "stream",
     "text": [
      "<class 'pandas.core.frame.DataFrame'>\n",
      "RangeIndex: 429 entries, 0 to 428\n",
      "Data columns (total 14 columns):\n",
      " #   Column       Non-Null Count  Dtype \n",
      "---  ------       --------------  ----- \n",
      " 0   full_name    429 non-null    object\n",
      " 1   rating       429 non-null    int64 \n",
      " 2   jersey       429 non-null    object\n",
      " 3   team         406 non-null    object\n",
      " 4   position     429 non-null    object\n",
      " 5   b_day        429 non-null    object\n",
      " 6   height       429 non-null    object\n",
      " 7   weight       429 non-null    object\n",
      " 8   salary       429 non-null    object\n",
      " 9   country      429 non-null    object\n",
      " 10  draft_year   429 non-null    int64 \n",
      " 11  draft_round  429 non-null    object\n",
      " 12  draft_peak   429 non-null    object\n",
      " 13  college      363 non-null    object\n",
      "dtypes: int64(2), object(12)\n",
      "memory usage: 47.0+ KB\n"
     ]
    }
   ],
   "source": [
    "nba.info()"
   ]
  },
  {
   "cell_type": "code",
   "execution_count": 7,
   "id": "3dd60b87-e897-44bf-a12a-93c02c499af4",
   "metadata": {},
   "outputs": [
    {
     "data": {
      "text/plain": [
       "full_name       0\n",
       "rating          0\n",
       "jersey          0\n",
       "team           23\n",
       "position        0\n",
       "b_day           0\n",
       "height          0\n",
       "weight          0\n",
       "salary          0\n",
       "country         0\n",
       "draft_year      0\n",
       "draft_round     0\n",
       "draft_peak      0\n",
       "college        66\n",
       "dtype: int64"
      ]
     },
     "execution_count": 7,
     "metadata": {},
     "output_type": "execute_result"
    }
   ],
   "source": [
    "nba.isnull().sum()"
   ]
  },
  {
   "cell_type": "code",
   "execution_count": 8,
   "id": "fbcff6d5-4f16-41f5-87a0-c42f188b1495",
   "metadata": {},
   "outputs": [
    {
     "data": {
      "text/plain": [
       "full_name      429\n",
       "rating          31\n",
       "jersey          52\n",
       "team            31\n",
       "position         7\n",
       "b_day          415\n",
       "height          20\n",
       "weight          84\n",
       "salary         308\n",
       "country         39\n",
       "draft_year      18\n",
       "draft_round      3\n",
       "draft_peak      57\n",
       "college        112\n",
       "dtype: int64"
      ]
     },
     "execution_count": 8,
     "metadata": {},
     "output_type": "execute_result"
    }
   ],
   "source": [
    "nba.apply(lambda col: col.unique().size)"
   ]
  },
  {
   "cell_type": "code",
   "execution_count": 9,
   "id": "bac47987-8642-47f9-b017-fc1e04da90c4",
   "metadata": {},
   "outputs": [],
   "source": [
    "num_height = nba['height'].str[-5:].astype(float)\n",
    "num_weight = nba['weight'].apply(lambda x: x[x.index('/') + 1: -3]).astype(float)\n",
    "num_salary = nba['salary'].str[1:].astype(float)\n",
    "nba_slice = pd.DataFrame({'height': num_height, 'weight': num_weight, 'salary': num_salary})"
   ]
  },
  {
   "cell_type": "code",
   "execution_count": 10,
   "id": "dd469368-91da-4041-b248-5daf283c47e2",
   "metadata": {},
   "outputs": [
    {
     "data": {
      "text/html": [
       "<div>\n",
       "<style scoped>\n",
       "    .dataframe tbody tr th:only-of-type {\n",
       "        vertical-align: middle;\n",
       "    }\n",
       "\n",
       "    .dataframe tbody tr th {\n",
       "        vertical-align: top;\n",
       "    }\n",
       "\n",
       "    .dataframe thead th {\n",
       "        text-align: right;\n",
       "    }\n",
       "</style>\n",
       "<table border=\"1\" class=\"dataframe\">\n",
       "  <thead>\n",
       "    <tr style=\"text-align: right;\">\n",
       "      <th></th>\n",
       "      <th>height</th>\n",
       "      <th>weight</th>\n",
       "      <th>salary</th>\n",
       "    </tr>\n",
       "  </thead>\n",
       "  <tbody>\n",
       "    <tr>\n",
       "      <th>0</th>\n",
       "      <td>4.846177</td>\n",
       "      <td>10.843418</td>\n",
       "      <td>1.129604e+02</td>\n",
       "    </tr>\n",
       "    <tr>\n",
       "      <th>1</th>\n",
       "      <td>0.088647</td>\n",
       "      <td>0.004420</td>\n",
       "      <td>2.957814e-25</td>\n",
       "    </tr>\n",
       "  </tbody>\n",
       "</table>\n",
       "</div>"
      ],
      "text/plain": [
       "     height     weight        salary\n",
       "0  4.846177  10.843418  1.129604e+02\n",
       "1  0.088647   0.004420  2.957814e-25"
      ]
     },
     "execution_count": 10,
     "metadata": {},
     "output_type": "execute_result"
    }
   ],
   "source": [
    "nba_slice.apply(lambda col: stats.normaltest(col))"
   ]
  },
  {
   "cell_type": "code",
   "execution_count": 11,
   "id": "5d5c722d-3d5a-47be-a032-f05ac8d1facb",
   "metadata": {},
   "outputs": [
    {
     "data": {
      "text/html": [
       "<div>\n",
       "<style scoped>\n",
       "    .dataframe tbody tr th:only-of-type {\n",
       "        vertical-align: middle;\n",
       "    }\n",
       "\n",
       "    .dataframe tbody tr th {\n",
       "        vertical-align: top;\n",
       "    }\n",
       "\n",
       "    .dataframe thead th {\n",
       "        text-align: right;\n",
       "    }\n",
       "</style>\n",
       "<table border=\"1\" class=\"dataframe\">\n",
       "  <thead>\n",
       "    <tr style=\"text-align: right;\">\n",
       "      <th></th>\n",
       "      <th>height</th>\n",
       "      <th>weight</th>\n",
       "      <th>salary</th>\n",
       "    </tr>\n",
       "  </thead>\n",
       "  <tbody>\n",
       "    <tr>\n",
       "      <th>0</th>\n",
       "      <td>6.300829</td>\n",
       "      <td>6.970658</td>\n",
       "      <td>2.898030e+01</td>\n",
       "    </tr>\n",
       "    <tr>\n",
       "      <th>1</th>\n",
       "      <td>0.042834</td>\n",
       "      <td>0.030644</td>\n",
       "      <td>5.093404e-07</td>\n",
       "    </tr>\n",
       "  </tbody>\n",
       "</table>\n",
       "</div>"
      ],
      "text/plain": [
       "     height    weight        salary\n",
       "0  6.300829  6.970658  2.898030e+01\n",
       "1  0.042834  0.030644  5.093404e-07"
      ]
     },
     "execution_count": 11,
     "metadata": {},
     "output_type": "execute_result"
    }
   ],
   "source": [
    "nba_slice.apply(lambda col: stats.normaltest(np.log(col)))"
   ]
  },
  {
   "cell_type": "code",
   "execution_count": 12,
   "id": "060ea08e-8577-47b5-8060-827935656ce4",
   "metadata": {},
   "outputs": [],
   "source": [
    "def rate_player(rank: int) -> str:\n",
    "    if rank > 75:\n",
    "        return \"High\"\n",
    "    else:\n",
    "        return \"Low\""
   ]
  },
  {
   "cell_type": "code",
   "execution_count": 13,
   "id": "9fbd5274-40b5-41ae-8742-d5ef888618be",
   "metadata": {},
   "outputs": [],
   "source": [
    "target = nba['rating'].apply(lambda x: rate_player(x))"
   ]
  },
  {
   "cell_type": "code",
   "execution_count": 14,
   "id": "ef3caeec-c414-47b5-8bae-96229fb72e81",
   "metadata": {},
   "outputs": [
    {
     "name": "stdout",
     "output_type": "stream",
     "text": [
      "Leaderboard:\n",
      "1. KNN: 0.7209302325581395\n",
      "2. SVC: 0.7093023255813954\n",
      "3. Forest: 0.686046511627907\n"
     ]
    }
   ],
   "source": [
    "start_learning(nba_slice, target)"
   ]
  },
  {
   "cell_type": "code",
   "execution_count": 15,
   "id": "ab353fb0-ec9d-46b2-a139-161ccc54af7b",
   "metadata": {},
   "outputs": [
    {
     "data": {
      "text/plain": [
       "(array([203.,   0.,   0.,   0.,   0.,   0.,   0.,   0.,   0., 226.]),\n",
       " array([0. , 0.1, 0.2, 0.3, 0.4, 0.5, 0.6, 0.7, 0.8, 0.9, 1. ]),\n",
       " <BarContainer object of 10 artists>)"
      ]
     },
     "execution_count": 15,
     "metadata": {},
     "output_type": "execute_result"
    },
    {
     "data": {
      "image/png": "[encoded data removed]",
      "text/plain": [
       "<Figure size 432x288 with 1 Axes>"
      ]
     },
     "metadata": {
      "needs_background": "light"
     },
     "output_type": "display_data"
    }
   ],
   "source": [
    "plt.hist(target)"
   ]
  }
 ],
 "metadata": {
  "kernelspec": {
   "display_name": "Python 3 (ipykernel)",
   "language": "python",
   "name": "python3"
  },
  "language_info": {
   "codemirror_mode": {
    "name": "ipython",
    "version": 3
   },
   "file_extension": ".py",
   "mimetype": "text/x-python",
   "name": "python",
   "nbconvert_exporter": "python",
   "pygments_lexer": "ipython3",
   "version": "3.9.5"
  }
 },
 "nbformat": 4,
 "nbformat_minor": 5
}
