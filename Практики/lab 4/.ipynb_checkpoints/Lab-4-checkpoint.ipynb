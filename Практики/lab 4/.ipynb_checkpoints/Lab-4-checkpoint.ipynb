{
 "cells": [
  {
   "cell_type": "markdown",
   "id": "infectious-bradley",
   "metadata": {},
   "source": [
    "# Задание из четвёртой лабы\n",
    "\n",
    "Обучите один из алгоритмов классификации из библиотеки sklearn. Объяснять принцип работы классификатора в этой лабораторной не требуется\n",
    "\n",
    "1. Выберите один из датасетов первой лабораторной\n",
    "\n",
    "\n",
    "2. Найдите в данных признак, который будете предсказывать\n",
    "    \n",
    "    Если это категория, то у неё должно быть от 2 до 10 значений (например колонка species в датасете миграции птиц содержит 3 категории)\n",
    "    \n",
    "    Если признак количественный, то его нужно дискретизировать (например для популярности трека в датасете spotify можно разделить треки на 3 категории: 0-20 - популярные, 21-50 - обычные, 51 - 100 - непопулярные). Полученную категорию записать в датафрейм как отдельную колонку\n",
    "\n",
    "\n",
    "3. Выделите признаки для предсказания\n",
    "    \n",
    "    Используйте от 2 до 5 количественных признаков для предсказания целевой переменной\n",
    "\n",
    "\n",
    "4. Проверьте нормальность количественных признаков\n",
    "    \n",
    "    Используйте статистический тест из лекции. Если распределение является лог-нормальным, логарифмируйте его и проверьте на нормальность\n",
    "    \n",
    "    Как минимум 1 из признаков должен быть нормальным\n",
    "\n",
    "\n",
    "5. Покажите качество предсказания модели с помощью метрик\n",
    "\n",
    "    Метрика должна учитывать баланс классов в датасете"
   ]
  },
  {
   "cell_type": "code",
   "execution_count": 22,
   "id": "82b4524a-71b9-494a-87a5-2b74c2b6c625",
   "metadata": {},
   "outputs": [],
   "source": [
    "import pandas as pd\n",
    "import numpy as np"
   ]
  },
  {
   "cell_type": "code",
   "execution_count": 23,
   "id": "powered-leeds",
   "metadata": {},
   "outputs": [],
   "source": [
    "data = pd.read_csv(\"dataset_vk.csv\")"
   ]
  },
  {
   "cell_type": "code",
   "execution_count": 24,
   "id": "6f5534f8-2fef-4c44-9df7-6e3d97f020e6",
   "metadata": {},
   "outputs": [],
   "source": [
    "data.drop(columns=['education'], inplace=True)"
   ]
  },
  {
   "cell_type": "code",
   "execution_count": null,
   "id": "29681c35-63e4-45b4-ad54-121b08e23ad7",
   "metadata": {},
   "outputs": [],
   "source": [
    "data.shape"
   ]
  },
  {
   "cell_type": "code",
   "execution_count": 49,
   "id": "b0948e84-b534-4dec-84ea-3287607df29f",
   "metadata": {},
   "outputs": [
    {
     "data": {
      "text/plain": [
       "political         9\n",
       "sex               2\n",
       "bdate          3577\n",
       "city            626\n",
       "country          96\n",
       "occupation        3\n",
       "relation          9\n",
       "military          2\n",
       "people_main       8\n",
       "life_main        10\n",
       "activities     4360\n",
       "interests      5501\n",
       "music          5182\n",
       "movies         5281\n",
       "tv             3250\n",
       "books          4983\n",
       "about          4880\n",
       "inspired_by    1241\n",
       "religion       2547\n",
       "posts          7744\n",
       "dtype: int64"
      ]
     },
     "execution_count": 49,
     "metadata": {},
     "output_type": "execute_result"
    }
   ],
   "source": [
    "data.apply(lambda col: col.unique().size)"
   ]
  },
  {
   "cell_type": "code",
   "execution_count": 25,
   "id": "cb73a83d-4c08-4096-91d7-cf1c6d612fff",
   "metadata": {},
   "outputs": [
    {
     "name": "stdout",
     "output_type": "stream",
     "text": [
      "<class 'pandas.core.frame.DataFrame'>\n",
      "RangeIndex: 10123 entries, 0 to 10122\n",
      "Data columns (total 20 columns):\n",
      " #   Column       Non-Null Count  Dtype \n",
      "---  ------       --------------  ----- \n",
      " 0   political    10123 non-null  object\n",
      " 1   sex          10123 non-null  object\n",
      " 2   bdate        10123 non-null  object\n",
      " 3   city         9660 non-null   object\n",
      " 4   country      9924 non-null   object\n",
      " 5   occupation   10123 non-null  object\n",
      " 6   relation     10123 non-null  int64 \n",
      " 7   military     10123 non-null  object\n",
      " 8   people_main  4180 non-null   object\n",
      " 9   life_main    4125 non-null   object\n",
      " 10  activities   4817 non-null   object\n",
      " 11  interests    5815 non-null   object\n",
      " 12  music        5647 non-null   object\n",
      " 13  movies       5572 non-null   object\n",
      " 14  tv           4141 non-null   object\n",
      " 15  books        5317 non-null   object\n",
      " 16  about        5026 non-null   object\n",
      " 17  inspired_by  1503 non-null   object\n",
      " 18  religion     5597 non-null   object\n",
      " 19  posts        10123 non-null  object\n",
      "dtypes: int64(1), object(19)\n",
      "memory usage: 1.5+ MB\n"
     ]
    }
   ],
   "source": [
    "data.info()"
   ]
  },
  {
   "cell_type": "code",
   "execution_count": 14,
   "id": "5c753fdd-b997-432e-b8b7-798c30c8eb24",
   "metadata": {},
   "outputs": [
    {
     "data": {
      "text/plain": [
       "political         0\n",
       "sex               0\n",
       "bdate             0\n",
       "city            463\n",
       "country         199\n",
       "education         0\n",
       "occupation        0\n",
       "relation          0\n",
       "military          0\n",
       "people_main    5943\n",
       "life_main      5998\n",
       "activities     5306\n",
       "interests      4308\n",
       "music          4476\n",
       "movies         4551\n",
       "tv             5982\n",
       "books          4806\n",
       "about          5097\n",
       "inspired_by    8620\n",
       "religion       4526\n",
       "posts             0\n",
       "dtype: int64"
      ]
     },
     "execution_count": 14,
     "metadata": {},
     "output_type": "execute_result"
    }
   ],
   "source": [
    "data.isnull().sum()"
   ]
  },
  {
   "cell_type": "code",
   "execution_count": 17,
   "id": "ab1a5e79-073e-4ab3-acd8-b9c6b0ad27b8",
   "metadata": {},
   "outputs": [
    {
     "data": {
      "text/plain": [
       "array(['male', 'female'], dtype=object)"
      ]
     },
     "execution_count": 17,
     "metadata": {},
     "output_type": "execute_result"
    }
   ],
   "source": [
    "data['sex'].unique()"
   ]
  },
  {
   "cell_type": "code",
   "execution_count": 16,
   "id": "50fe5481-70b6-48ff-ad5f-24da6424e2ce",
   "metadata": {},
   "outputs": [],
   "source": [
    "data['is_male'] = (data['sex'] == 'male') "
   ]
  },
  {
   "cell_type": "code",
   "execution_count": 19,
   "id": "8ef535a8-3e9e-40e1-a52d-04547438335d",
   "metadata": {},
   "outputs": [
    {
     "data": {
      "text/plain": [
       "array(['liberal', 'indifferent', 'conservative', 'moderate',\n",
       "       'ultraconservative', 'monarchist', 'communist', 'socialist',\n",
       "       'libertarian'], dtype=object)"
      ]
     },
     "execution_count": 19,
     "metadata": {},
     "output_type": "execute_result"
    }
   ],
   "source": [
    "data['political'].unique()"
   ]
  },
  {
   "cell_type": "code",
   "execution_count": 26,
   "id": "40eb7db8-617a-455c-b0f4-cfdd4dee64a1",
   "metadata": {},
   "outputs": [
    {
     "data": {
      "text/plain": [
       "array([5, 4, 0, 1, 7, 3, 2, 6, 8], dtype=int64)"
      ]
     },
     "execution_count": 26,
     "metadata": {},
     "output_type": "execute_result"
    }
   ],
   "source": [
    "data['relation'].unique()"
   ]
  },
  {
   "cell_type": "code",
   "execution_count": 28,
   "id": "7fb885a6-eae1-481c-8b20-eb201b6a20cc",
   "metadata": {},
   "outputs": [
    {
     "data": {
      "text/plain": [
       "array(['intelligence and creativity', nan, 'kindness and honesty',\n",
       "       'not specified', 'humor and love of life',\n",
       "       'courage and perseverance', 'power and wealth',\n",
       "       'beauty and health'], dtype=object)"
      ]
     },
     "execution_count": 28,
     "metadata": {},
     "output_type": "execute_result"
    }
   ],
   "source": [
    "data['people_main'].unique()"
   ]
  },
  {
   "cell_type": "code",
   "execution_count": 29,
   "id": "fad65306-a26f-41ce-b867-c5be82f7833a",
   "metadata": {},
   "outputs": [
    {
     "data": {
      "text/plain": [
       "array(['self-development', nan, 'science an research',\n",
       "       'improving the world', 'family and children', 'beauty and art',\n",
       "       'not specified', 'entertainment and recreation',\n",
       "       'fame and influence', 'career and money'], dtype=object)"
      ]
     },
     "execution_count": 29,
     "metadata": {},
     "output_type": "execute_result"
    }
   ],
   "source": [
    "data['life_main'].unique()"
   ]
  },
  {
   "cell_type": "code",
   "execution_count": 33,
   "id": "22d71214-7685-42c2-b7bc-256b8deb9843",
   "metadata": {},
   "outputs": [
    {
     "data": {
      "text/plain": [
       "array(['▄██▄██▄░██░░░▄█▀▀█▄░█▌░░▐█░██▀▀▀░▄██▄██▄ ▀█████▀░██░░▐█▌░░▐█▌▐█░░█▌░██▀▀░░▀█████▀ ░░▀█▀░░░██▄▄░▀█▄▄█▀░░▀██▀░░██▄▄▄░░░▀█▀',\n",
       "       nan, 'Счастье каждому даром и пусть никто не уйдет обиженным', ...,\n",
       "       'money, pretty & intelligent girls, finance, business, relax, cars, sex, speed, lust, trips, big boobs, commercialization & innovation',\n",
       "       '7 \"S\": Sun, smile, sense, sea, sweet, secrets & sex)',\n",
       "       'Боги, зеркала, chic, вышивка крестком...по нижнему белью :), велик и спорт вообще, финский и поиски идеала'],\n",
       "      dtype=object)"
      ]
     },
     "execution_count": 33,
     "metadata": {},
     "output_type": "execute_result"
    }
   ],
   "source": [
    "data['interests'].unique()"
   ]
  },
  {
   "cell_type": "code",
   "execution_count": 39,
   "id": "1823b91b-3fb8-4716-8f46-61b7cfcaebee",
   "metadata": {},
   "outputs": [
    {
     "data": {
      "text/plain": [
       "(4360,)"
      ]
     },
     "execution_count": 39,
     "metadata": {},
     "output_type": "execute_result"
    }
   ],
   "source": [
    "data['activities'].unique().shape"
   ]
  },
  {
   "cell_type": "code",
   "execution_count": 36,
   "id": "cf123c91-9361-4377-9c28-ee5177831416",
   "metadata": {},
   "outputs": [
    {
     "data": {
      "text/plain": [
       "(2547,)"
      ]
     },
     "execution_count": 36,
     "metadata": {},
     "output_type": "execute_result"
    }
   ],
   "source": [
    "data['religion'].unique().shape"
   ]
  },
  {
   "cell_type": "code",
   "execution_count": 38,
   "id": "2725f938-a7f9-4022-93a0-6134a318b211",
   "metadata": {},
   "outputs": [
    {
     "data": {
      "text/plain": [
       "(1241,)"
      ]
     },
     "execution_count": 38,
     "metadata": {},
     "output_type": "execute_result"
    }
   ],
   "source": [
    "data['inspired_by'].unique().shape"
   ]
  },
  {
   "cell_type": "code",
   "execution_count": 43,
   "id": "333908de-463d-40d4-814e-b1020213c7cf",
   "metadata": {},
   "outputs": [
    {
     "data": {
      "text/plain": [
       "array(['▄██▄██▄░██░░░▄█▀▀█▄░█▌░░▐█░██▀▀▀░▄██▄██▄ ▀█████▀░██░░▐█▌░░▐█▌▐█░░█▌░██▀▀░░▀█████▀ ░░▀█▀░░░██▄▄░▀█▄▄█▀░░▀██▀░░██▄▄▄░░░▀█▀',\n",
       "       nan,\n",
       "       'ВИА Под Водой, Зимовье Зверей, Я и Друг Мой Грузовик, Павел Фахртдинов, Piazzolla, Avishai Cohen, Люди Лопеса, Pink Floyd, Beatles, Башлачев',\n",
       "       ...,\n",
       "       'Кино, Ария, Агата Кристи, Кукрыниксы, Мельница, Би-2, Сплин, Lumen',\n",
       "       'Punk, ska, rock, hip-hop, electro. Face2Face, offspring, blink 182, bloodhound gun, papa roach, aphrodite, наив, дёргать, элизиум, drugly cats, тараканы',\n",
       "       \"r'n'b\"], dtype=object)"
      ]
     },
     "execution_count": 43,
     "metadata": {},
     "output_type": "execute_result"
    }
   ],
   "source": [
    "data['music'].unique()"
   ]
  },
  {
   "cell_type": "code",
   "execution_count": 44,
   "id": "bfdcc99b-fb6e-4c4c-ab4e-01213503b2f1",
   "metadata": {},
   "outputs": [
    {
     "ename": "TypeError",
     "evalue": "'<' not supported between instances of 'float' and 'str'",
     "output_type": "error",
     "traceback": [
      "\u001b[1;31m---------------------------------------------------------------------------\u001b[0m",
      "\u001b[1;31mTypeError\u001b[0m                                 Traceback (most recent call last)",
      "\u001b[1;32m~\\AppData\\Local\\Temp/ipykernel_17540/2484387725.py\u001b[0m in \u001b[0;36m<module>\u001b[1;34m\u001b[0m\n\u001b[1;32m----> 1\u001b[1;33m \u001b[0mnp\u001b[0m\u001b[1;33m.\u001b[0m\u001b[0munique\u001b[0m\u001b[1;33m(\u001b[0m\u001b[0mdata\u001b[0m\u001b[1;33m)\u001b[0m\u001b[1;33m\u001b[0m\u001b[1;33m\u001b[0m\u001b[0m\n\u001b[0m",
      "\u001b[1;32m<__array_function__ internals>\u001b[0m in \u001b[0;36munique\u001b[1;34m(*args, **kwargs)\u001b[0m\n",
      "\u001b[1;32mc:\\python39\\lib\\site-packages\\numpy\\lib\\arraysetops.py\u001b[0m in \u001b[0;36munique\u001b[1;34m(ar, return_index, return_inverse, return_counts, axis)\u001b[0m\n\u001b[0;32m    270\u001b[0m     \u001b[0mar\u001b[0m \u001b[1;33m=\u001b[0m \u001b[0mnp\u001b[0m\u001b[1;33m.\u001b[0m\u001b[0masanyarray\u001b[0m\u001b[1;33m(\u001b[0m\u001b[0mar\u001b[0m\u001b[1;33m)\u001b[0m\u001b[1;33m\u001b[0m\u001b[1;33m\u001b[0m\u001b[0m\n\u001b[0;32m    271\u001b[0m     \u001b[1;32mif\u001b[0m \u001b[0maxis\u001b[0m \u001b[1;32mis\u001b[0m \u001b[1;32mNone\u001b[0m\u001b[1;33m:\u001b[0m\u001b[1;33m\u001b[0m\u001b[1;33m\u001b[0m\u001b[0m\n\u001b[1;32m--> 272\u001b[1;33m         \u001b[0mret\u001b[0m \u001b[1;33m=\u001b[0m \u001b[0m_unique1d\u001b[0m\u001b[1;33m(\u001b[0m\u001b[0mar\u001b[0m\u001b[1;33m,\u001b[0m \u001b[0mreturn_index\u001b[0m\u001b[1;33m,\u001b[0m \u001b[0mreturn_inverse\u001b[0m\u001b[1;33m,\u001b[0m \u001b[0mreturn_counts\u001b[0m\u001b[1;33m)\u001b[0m\u001b[1;33m\u001b[0m\u001b[1;33m\u001b[0m\u001b[0m\n\u001b[0m\u001b[0;32m    273\u001b[0m         \u001b[1;32mreturn\u001b[0m \u001b[0m_unpack_tuple\u001b[0m\u001b[1;33m(\u001b[0m\u001b[0mret\u001b[0m\u001b[1;33m)\u001b[0m\u001b[1;33m\u001b[0m\u001b[1;33m\u001b[0m\u001b[0m\n\u001b[0;32m    274\u001b[0m \u001b[1;33m\u001b[0m\u001b[0m\n",
      "\u001b[1;32mc:\\python39\\lib\\site-packages\\numpy\\lib\\arraysetops.py\u001b[0m in \u001b[0;36m_unique1d\u001b[1;34m(ar, return_index, return_inverse, return_counts)\u001b[0m\n\u001b[0;32m    331\u001b[0m         \u001b[0maux\u001b[0m \u001b[1;33m=\u001b[0m \u001b[0mar\u001b[0m\u001b[1;33m[\u001b[0m\u001b[0mperm\u001b[0m\u001b[1;33m]\u001b[0m\u001b[1;33m\u001b[0m\u001b[1;33m\u001b[0m\u001b[0m\n\u001b[0;32m    332\u001b[0m     \u001b[1;32melse\u001b[0m\u001b[1;33m:\u001b[0m\u001b[1;33m\u001b[0m\u001b[1;33m\u001b[0m\u001b[0m\n\u001b[1;32m--> 333\u001b[1;33m         \u001b[0mar\u001b[0m\u001b[1;33m.\u001b[0m\u001b[0msort\u001b[0m\u001b[1;33m(\u001b[0m\u001b[1;33m)\u001b[0m\u001b[1;33m\u001b[0m\u001b[1;33m\u001b[0m\u001b[0m\n\u001b[0m\u001b[0;32m    334\u001b[0m         \u001b[0maux\u001b[0m \u001b[1;33m=\u001b[0m \u001b[0mar\u001b[0m\u001b[1;33m\u001b[0m\u001b[1;33m\u001b[0m\u001b[0m\n\u001b[0;32m    335\u001b[0m     \u001b[0mmask\u001b[0m \u001b[1;33m=\u001b[0m \u001b[0mnp\u001b[0m\u001b[1;33m.\u001b[0m\u001b[0mempty\u001b[0m\u001b[1;33m(\u001b[0m\u001b[0maux\u001b[0m\u001b[1;33m.\u001b[0m\u001b[0mshape\u001b[0m\u001b[1;33m,\u001b[0m \u001b[0mdtype\u001b[0m\u001b[1;33m=\u001b[0m\u001b[0mnp\u001b[0m\u001b[1;33m.\u001b[0m\u001b[0mbool_\u001b[0m\u001b[1;33m)\u001b[0m\u001b[1;33m\u001b[0m\u001b[1;33m\u001b[0m\u001b[0m\n",
      "\u001b[1;31mTypeError\u001b[0m: '<' not supported between instances of 'float' and 'str'"
     ]
    }
   ],
   "source": [
    " np.unique(data)"
   ]
  },
  {
   "cell_type": "code",
   "execution_count": null,
   "id": "aaeebf09-c69f-4734-ab71-aa246152adff",
   "metadata": {},
   "outputs": [],
   "source": []
  }
 ],
 "metadata": {
  "kernelspec": {
   "display_name": "Python 3 (ipykernel)",
   "language": "python",
   "name": "python3"
  },
  "language_info": {
   "codemirror_mode": {
    "name": "ipython",
    "version": 3
   },
   "file_extension": ".py",
   "mimetype": "text/x-python",
   "name": "python",
   "nbconvert_exporter": "python",
   "pygments_lexer": "ipython3",
   "version": "3.9.5"
  }
 },
 "nbformat": 4,
 "nbformat_minor": 5
}
