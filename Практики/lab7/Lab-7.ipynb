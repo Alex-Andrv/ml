{
 "cells": [
  {
   "cell_type": "markdown",
   "id": "811d1fcc-2a1a-449e-9834-b988ed4af55f",
   "metadata": {},
   "source": [
    "# Натянуть сову на линейное пространство\n",
    "\n",
    "Создайте эмбеддинги слов и визуализируйте векторные операции над ними: сложение, вычитание, взятие ближайшего, дальнейшего и прочее. Сравните качество представлений gensim и BERT с точки зрения операций над словами, докажите примерами.\n",
    "\n",
    "Для создания эмбеддингов с gensim обучите модель на нормализованных текстовых данных. Данные найдите на kaggle или выберите один из предложенных датасетов. Для создания эмбеддингов с BERT используйте предобученные модели.\n",
    "\n",
    "Предлагаемые датасеты:\n",
    " - [sentiment твитов про ковид](https://www.kaggle.com/datatattle/covid-19-nlp-text-classification)\n",
    " - [Amazon product reviews](https://www.kaggle.com/kashnitsky/hierarchical-text-classification)\n",
    " - [Отзывы интернет-магазина](https://www.kaggle.com/shymammoth/shopee-reviews)\n",
    " - [Тексты статей конференции NIPS](https://www.kaggle.com/rowhitswami/nips-papers-1987-2019-updated?select=papers.csv)"
   ]
  },
  {
   "cell_type": "code",
   "execution_count": 1,
   "id": "fc76b699-3759-46a0-b749-b13a4161b8e6",
   "metadata": {},
   "outputs": [],
   "source": [
    "import pandas as pd"
   ]
  },
  {
   "cell_type": "code",
   "execution_count": 2,
   "id": "60497c04-08f4-4764-8917-0d152e9ba171",
   "metadata": {},
   "outputs": [
    {
     "name": "stderr",
     "output_type": "stream",
     "text": [
      "c:\\python39\\lib\\site-packages\\IPython\\core\\interactiveshell.py:3444: DtypeWarning: Columns (0) have mixed types.Specify dtype option on import or set low_memory=False.\n",
      "  exec(code_obj, self.user_global_ns, self.user_ns)\n"
     ]
    }
   ],
   "source": [
    "df = pd.read_csv('shopee_reviews.csv')"
   ]
  },
  {
   "cell_type": "code",
   "execution_count": 3,
   "id": "0a54c8c4-6967-4e53-8755-6af8c596ea22",
   "metadata": {},
   "outputs": [
    {
     "name": "stdout",
     "output_type": "stream",
     "text": [
      "<class 'pandas.core.frame.DataFrame'>\n",
      "RangeIndex: 1502575 entries, 0 to 1502574\n",
      "Data columns (total 2 columns):\n",
      " #   Column  Non-Null Count    Dtype \n",
      "---  ------  --------------    ----- \n",
      " 0   label   1502575 non-null  object\n",
      " 1   text    1502575 non-null  object\n",
      "dtypes: object(2)\n",
      "memory usage: 22.9+ MB\n"
     ]
    }
   ],
   "source": [
    "df.info()"
   ]
  },
  {
   "cell_type": "code",
   "execution_count": 4,
   "id": "504c35fc-be75-45d5-bed5-3144de243659",
   "metadata": {},
   "outputs": [
    {
     "data": {
      "text/html": [
       "<div>\n",
       "<style scoped>\n",
       "    .dataframe tbody tr th:only-of-type {\n",
       "        vertical-align: middle;\n",
       "    }\n",
       "\n",
       "    .dataframe tbody tr th {\n",
       "        vertical-align: top;\n",
       "    }\n",
       "\n",
       "    .dataframe thead th {\n",
       "        text-align: right;\n",
       "    }\n",
       "</style>\n",
       "<table border=\"1\" class=\"dataframe\">\n",
       "  <thead>\n",
       "    <tr style=\"text-align: right;\">\n",
       "      <th></th>\n",
       "      <th>label</th>\n",
       "      <th>text</th>\n",
       "    </tr>\n",
       "  </thead>\n",
       "  <tbody>\n",
       "    <tr>\n",
       "      <th>10</th>\n",
       "      <td>5</td>\n",
       "      <td>Fast. Great</td>\n",
       "    </tr>\n",
       "    <tr>\n",
       "      <th>11</th>\n",
       "      <td>5</td>\n",
       "      <td>I've tried it, and it works as advertised</td>\n",
       "    </tr>\n",
       "    <tr>\n",
       "      <th>12</th>\n",
       "      <td>5</td>\n",
       "      <td>Hub uses it. Muscle growth on the upper arm.</td>\n",
       "    </tr>\n",
       "    <tr>\n",
       "      <th>13</th>\n",
       "      <td>5</td>\n",
       "      <td>Well received. Fast delivery and yet to replac...</td>\n",
       "    </tr>\n",
       "    <tr>\n",
       "      <th>14</th>\n",
       "      <td>5</td>\n",
       "      <td>Product received. Packaging damage but the uni...</td>\n",
       "    </tr>\n",
       "    <tr>\n",
       "      <th>15</th>\n",
       "      <td>5</td>\n",
       "      <td>Good..</td>\n",
       "    </tr>\n",
       "    <tr>\n",
       "      <th>16</th>\n",
       "      <td>5</td>\n",
       "      <td>box was a little beat up and had a smell, but ...</td>\n",
       "    </tr>\n",
       "    <tr>\n",
       "      <th>17</th>\n",
       "      <td>4</td>\n",
       "      <td>Fast delivery, however the product casing was ...</td>\n",
       "    </tr>\n",
       "    <tr>\n",
       "      <th>18</th>\n",
       "      <td>5</td>\n",
       "      <td>Fast delivery, prompt response. The material i...</td>\n",
       "    </tr>\n",
       "    <tr>\n",
       "      <th>19</th>\n",
       "      <td>5</td>\n",
       "      <td>Product received was exactly the the same as p...</td>\n",
       "    </tr>\n",
       "  </tbody>\n",
       "</table>\n",
       "</div>"
      ],
      "text/plain": [
       "   label                                               text\n",
       "10     5                                        Fast. Great\n",
       "11     5          I've tried it, and it works as advertised\n",
       "12     5      Hub uses it. Muscle growth on the upper arm. \n",
       "13     5  Well received. Fast delivery and yet to replac...\n",
       "14     5  Product received. Packaging damage but the uni...\n",
       "15     5                                            Good.. \n",
       "16     5  box was a little beat up and had a smell, but ...\n",
       "17     4  Fast delivery, however the product casing was ...\n",
       "18     5  Fast delivery, prompt response. The material i...\n",
       "19     5  Product received was exactly the the same as p..."
      ]
     },
     "execution_count": 4,
     "metadata": {},
     "output_type": "execute_result"
    }
   ],
   "source": [
    "df[10:20]"
   ]
  },
  {
   "cell_type": "code",
   "execution_count": 5,
   "id": "9cef4a1c-181a-4508-bd22-11d0cf59f305",
   "metadata": {},
   "outputs": [
    {
     "data": {
      "text/plain": [
       "(1502575,)"
      ]
     },
     "execution_count": 5,
     "metadata": {},
     "output_type": "execute_result"
    }
   ],
   "source": [
    "reviews = df['text']\n",
    "reviews.shape"
   ]
  },
  {
   "cell_type": "markdown",
   "id": "e239d9a7-b071-4b9c-b235-a66f9f300b6c",
   "metadata": {},
   "source": [
    "#### Предобработка текста"
   ]
  },
  {
   "cell_type": "code",
   "execution_count": 6,
   "id": "e0cf44ae-116e-476b-a39d-7c26fc7412cf",
   "metadata": {},
   "outputs": [],
   "source": [
    "from typing import List\n",
    "from collections import Counter\n",
    "from itertools import chain\n",
    "\n",
    "def build_vocab(texts: List[str]) -> Counter:\n",
    "    words = list(chain.from_iterable([text.split() for text in texts]))\n",
    "    vocab = Counter(words)\n",
    "    return vocab"
   ]
  },
  {
   "cell_type": "code",
   "execution_count": 7,
   "id": "95cd1161-431f-45d1-8930-cedd11513156",
   "metadata": {},
   "outputs": [
    {
     "name": "stdout",
     "output_type": "stream",
     "text": [
      "342808\n"
     ]
    },
    {
     "data": {
      "text/plain": [
       "[('Looks', 23179),\n",
       " ('ok.', 15341),\n",
       " ('Not', 32351),\n",
       " ('like', 63581),\n",
       " ('so', 102367),\n",
       " ('durable.', 1222),\n",
       " ('Will', 84734),\n",
       " ('hv', 1257),\n",
       " ('to', 473417),\n",
       " ('use', 42793),\n",
       " ('a', 279962),\n",
       " ('while', 11381),\n",
       " ('recommend', 19793),\n",
       " ('others', 2664),\n",
       " ('of', 146949),\n",
       " ('its', 37505),\n",
       " ('worth.', 437),\n",
       " ('Tried,', 96),\n",
       " ('the', 715038),\n",
       " ('current', 5037),\n",
       " ('can', 48956),\n",
       " ('be', 63104),\n",
       " ('very', 154380),\n",
       " ('powerful', 684),\n",
       " ('depending', 160),\n",
       " ('on', 139660),\n",
       " ('setting,', 28),\n",
       " ('i', 54622),\n",
       " (\"don't\", 4288),\n",
       " ('dare', 159)]"
      ]
     },
     "execution_count": 7,
     "metadata": {},
     "output_type": "execute_result"
    }
   ],
   "source": [
    "vocab = build_vocab(reviews)\n",
    "print(len(vocab))\n",
    "# слова разного регистра\n",
    "list(vocab.items())[:30]"
   ]
  },
  {
   "cell_type": "code",
   "execution_count": 8,
   "id": "07b19573-2099-4573-a0e8-a606542dd776",
   "metadata": {},
   "outputs": [
    {
     "name": "stdout",
     "output_type": "stream",
     "text": [
      "Requirement already satisfied: nltk in c:\\python39\\lib\\site-packages (3.6.5)\n",
      "Requirement already satisfied: regex>=2021.8.3 in c:\\python39\\lib\\site-packages (from nltk) (2021.11.10)\n",
      "Requirement already satisfied: click in c:\\python39\\lib\\site-packages (from nltk) (8.0.3)\n",
      "Requirement already satisfied: tqdm in c:\\python39\\lib\\site-packages (from nltk) (4.62.3)\n",
      "Requirement already satisfied: joblib in c:\\python39\\lib\\site-packages (from nltk) (1.1.0)\n",
      "Requirement already satisfied: colorama in c:\\python39\\lib\\site-packages (from click->nltk) (0.4.4)\n"
     ]
    },
    {
     "name": "stderr",
     "output_type": "stream",
     "text": [
      "WARNING: Ignoring invalid distribution -f-nightly (c:\\python39\\lib\\site-packages)\n",
      "WARNING: Ignoring invalid distribution -f-nightly (c:\\python39\\lib\\site-packages)\n",
      "WARNING: Ignoring invalid distribution -f-nightly (c:\\python39\\lib\\site-packages)\n",
      "WARNING: Ignoring invalid distribution -f-nightly (c:\\python39\\lib\\site-packages)\n",
      "WARNING: Ignoring invalid distribution -f-nightly (c:\\python39\\lib\\site-packages)\n"
     ]
    }
   ],
   "source": [
    "!pip install nltk"
   ]
  },
  {
   "cell_type": "code",
   "execution_count": 10,
   "id": "b2f6209f-56b9-493a-bff0-6316491241b3",
   "metadata": {},
   "outputs": [
    {
     "name": "stdout",
     "output_type": "stream",
     "text": [
      "179\n"
     ]
    },
    {
     "name": "stderr",
     "output_type": "stream",
     "text": [
      "[nltk_data] Downloading package stopwords to\n",
      "[nltk_data]     C:\\Users\\Alex\\AppData\\Roaming\\nltk_data...\n",
      "[nltk_data]   Package stopwords is already up-to-date!\n"
     ]
    },
    {
     "data": {
      "text/plain": [
       "['i',\n",
       " 'me',\n",
       " 'my',\n",
       " 'myself',\n",
       " 'we',\n",
       " 'our',\n",
       " 'ours',\n",
       " 'ourselves',\n",
       " 'you',\n",
       " \"you're\",\n",
       " \"you've\",\n",
       " \"you'll\",\n",
       " \"you'd\",\n",
       " 'your',\n",
       " 'yours',\n",
       " 'yourself',\n",
       " 'yourselves',\n",
       " 'he',\n",
       " 'him',\n",
       " 'his',\n",
       " 'himself',\n",
       " 'she',\n",
       " \"she's\",\n",
       " 'her',\n",
       " 'hers',\n",
       " 'herself',\n",
       " 'it',\n",
       " \"it's\",\n",
       " 'its',\n",
       " 'itself']"
      ]
     },
     "execution_count": 10,
     "metadata": {},
     "output_type": "execute_result"
    }
   ],
   "source": [
    "# natural language toolkit\n",
    "from nltk.corpus import stopwords\n",
    "import nltk\n",
    "nltk.download('stopwords')\n",
    "\n",
    "eng_stopwords = stopwords.words('english')\n",
    "print(len(eng_stopwords))\n",
    "eng_stopwords[:30]"
   ]
  },
  {
   "cell_type": "code",
   "execution_count": 15,
   "id": "75eeeb5e-de08-44f3-b1b1-eca83c464a36",
   "metadata": {},
   "outputs": [
    {
     "name": "stdout",
     "output_type": "stream",
     "text": [
      "342808\n"
     ]
    },
    {
     "data": {
      "text/plain": [
       "[('the', 715038),\n",
       " ('and', 647294),\n",
       " ('to', 473417),\n",
       " ('is', 451407),\n",
       " ('good', 414298),\n",
       " ('in', 411443),\n",
       " ('for', 310487),\n",
       " ('it', 308621),\n",
       " ('a', 279962),\n",
       " ('but', 222233),\n",
       " ('received', 209135),\n",
       " ('as', 191776),\n",
       " ('with', 191289),\n",
       " ('was', 181966),\n",
       " ('delivery', 169304),\n",
       " ('I', 161974),\n",
       " ('my', 161371),\n",
       " ('very', 154380),\n",
       " ('fast', 147896),\n",
       " ('of', 146949),\n",
       " ('not', 143196),\n",
       " ('Item', 143161),\n",
       " ('Received', 142530),\n",
       " ('on', 139660),\n",
       " ('Fast', 130963),\n",
       " ('well', 122761),\n",
       " ('Good', 116713),\n",
       " ('this', 105019),\n",
       " ('quality', 105010),\n",
       " ('condition.', 104781)]"
      ]
     },
     "execution_count": 15,
     "metadata": {},
     "output_type": "execute_result"
    }
   ],
   "source": [
    "# удалим стоп-слова\n",
    "eng_stopwords = set(eng_stopwords)\n",
    "\n",
    "def preprocess_text(text: str) -> str:\n",
    "    text = text.lower()\n",
    "    is_allowed_char = lambda c: c.isalpha() or c == ' '\n",
    "    text = ''.join(list(filter(is_allowed_char, text)))\n",
    "    \n",
    "    is_stopword = lambda word: word not in eng_stopwords\n",
    "    text = ' '.join(list(filter(is_stopword, text.split())))\n",
    "    return text\n",
    "\n",
    "\n",
    "reviews = [preprocess_text(review) for review in reviews]\n",
    "vocab = build_vocab(texts)\n",
    "        \n",
    "print(len(vocab))\n",
    "# уже лучше. Но есть стоп-слова самого корпуса\n",
    "vocab.most_common(30)"
   ]
  },
  {
   "cell_type": "code",
   "execution_count": 16,
   "id": "cff2d25f-da86-4014-a091-5b1585bf23c1",
   "metadata": {},
   "outputs": [
    {
     "data": {
      "text/plain": [
       "155591"
      ]
     },
     "execution_count": 16,
     "metadata": {},
     "output_type": "execute_result"
    }
   ],
   "source": [
    "# Посмотрим сколько уникальных слов\n",
    "\n",
    "def merge_reviews(reviews: list[str]) -> str:\n",
    "    return ' '.join(reviews)\n",
    "    \n",
    "    \n",
    "unique_words =list(set(merge_reviews(reviews).split(' ')))\n",
    "len(unique_words)"
   ]
  },
  {
   "cell_type": "code",
   "execution_count": 17,
   "id": "d6c1e710-f285-4613-ba02-b9e920197969",
   "metadata": {},
   "outputs": [
    {
     "data": {
      "image/png": "[encoded data removed]",
      "text/plain": [
       "<Figure size 432x288 with 1 Axes>"
      ]
     },
     "metadata": {
      "needs_background": "light"
     },
     "output_type": "display_data"
    }
   ],
   "source": [
    "import matplotlib.pyplot as plt\n",
    "# Оставим частые слова\n",
    "\n",
    "from collections import Counter\n",
    "\n",
    "counts = Counter(merge_reviews(reviews).split(' '))\n",
    "freqs = list(counts.values())\n",
    "plt.hist(freqs, bins=100)\n",
    "plt.show()"
   ]
  },
  {
   "cell_type": "code",
   "execution_count": 3,
   "id": "dbedeba6-2eaf-4e69-b2dc-053cdd99aecf",
   "metadata": {},
   "outputs": [],
   "source": [
    "import numpy as np"
   ]
  },
  {
   "cell_type": "code",
   "execution_count": 18,
   "id": "951423ba-4670-4b4d-8dd8-a286ff64ba0d",
   "metadata": {},
   "outputs": [
    {
     "data": {
      "image/png": "[encoded data removed]",
      "text/plain": [
       "<Figure size 432x288 with 1 Axes>"
      ]
     },
     "metadata": {
      "needs_background": "light"
     },
     "output_type": "display_data"
    }
   ],
   "source": [
    "\n",
    "plt.hist(np.log2(freqs), bins=100)\n",
    "plt.show()"
   ]
  },
  {
   "cell_type": "markdown",
   "id": "fdb6376d-8bea-40f3-8b44-eeac20f3fd2c",
   "metadata": {},
   "source": [
    "###nltk.download('wordnet')\n",
    "from nltk.stem import WordNetLemmatizer\n",
    "\n",
    "lemmatizer = WordNetLemmatizer() Применим лемматизацию."
   ]
  },
  {
   "cell_type": "code",
   "execution_count": 36,
   "id": "e7f160a4-92d3-42f3-85ab-e89715424a13",
   "metadata": {},
   "outputs": [
    {
     "name": "stderr",
     "output_type": "stream",
     "text": [
      "[nltk_data] Downloading package wordnet to\n",
      "[nltk_data]     C:\\Users\\Alex\\AppData\\Roaming\\nltk_data...\n",
      "[nltk_data]   Package wordnet is already up-to-date!\n"
     ]
    }
   ],
   "source": [
    "nltk.download('wordnet')\n",
    "from nltk.stem import WordNetLemmatizer\n",
    "\n",
    "lemmatizer = WordNetLemmatizer()"
   ]
  },
  {
   "cell_type": "code",
   "execution_count": 34,
   "id": "0b5d6498-6197-44cc-86d7-d322d66a5445",
   "metadata": {},
   "outputs": [],
   "source": [
    "def lemmatizing(text):\n",
    "    text = ' '.join(list(map(lemmatizer.lemmatize, text.split())))\n",
    "    return text"
   ]
  },
  {
   "cell_type": "code",
   "execution_count": null,
   "id": "6f2c7474-0bd7-4917-82b8-81f59a6627fa",
   "metadata": {},
   "outputs": [],
   "source": [
    "from tqdm import tqdm\n",
    "reviews_lem = [lemmatizing(review) for review in tqdm(reviews, leave=True, position=0)]"
   ]
  },
  {
   "cell_type": "code",
   "execution_count": null,
   "id": "7197e083-463c-4d83-aa4d-b4906876701f",
   "metadata": {},
   "outputs": [],
   "source": [
    "reviews_lem[:10]"
   ]
  },
  {
   "cell_type": "code",
   "execution_count": 40,
   "id": "ea33ac13-da88-4497-867f-37a3da068d51",
   "metadata": {},
   "outputs": [
    {
     "data": {
      "text/plain": [
       "list"
      ]
     },
     "execution_count": 40,
     "metadata": {},
     "output_type": "execute_result"
    }
   ],
   "source": [
    "type(reviews_lem)"
   ]
  },
  {
   "cell_type": "code",
   "execution_count": 2,
   "id": "7b6d25c3-db89-4dbc-9a85-583adc305a1d",
   "metadata": {},
   "outputs": [],
   "source": [
    "import numpy as np"
   ]
  },
  {
   "cell_type": "code",
   "execution_count": 41,
   "id": "e4d56678-433a-4408-b2e2-a970b297afc6",
   "metadata": {},
   "outputs": [],
   "source": [
    "\n",
    "data = np.array(reviews_lem)\n",
    "np.savez(\"reviews_lem\", data)\n"
   ]
  },
  {
   "cell_type": "code",
   "execution_count": 3,
   "id": "1da6974a-ceba-4e99-9b27-eda4591dc44d",
   "metadata": {},
   "outputs": [],
   "source": [
    "data = np.load('reviews_lem.npz')\n",
    "reviews_lem = data['arr_0'].tolist()"
   ]
  },
  {
   "cell_type": "markdown",
   "id": "0dd0cc65-f2d0-49a4-9497-48c11fa21e9a",
   "metadata": {},
   "source": [
    "### gensim"
   ]
  },
  {
   "cell_type": "code",
   "execution_count": 43,
   "id": "72d6e6c3-e447-4d20-88ef-bc587b1d2ef7",
   "metadata": {},
   "outputs": [
    {
     "name": "stdout",
     "output_type": "stream",
     "text": [
      "размерность векторов слов в модели: (150387, 100)\n"
     ]
    }
   ],
   "source": [
    "# Для простоты реализации воспользуемся библиотекой gensim\n",
    "\n",
    "from gensim.models import Word2Vec\n",
    "\n",
    "sentences = [review.split() for review in reviews_lem]\n",
    "model = Word2Vec(sentences=sentences,\n",
    "                 sg=False,  # cbow model\n",
    "                 vector_size=100,\n",
    "                 window=5,\n",
    "                 seed=42,\n",
    "                 epochs=15, \n",
    "                 min_count=1\n",
    "                 )\n",
    "print('размерность векторов слов в модели:', model.wv.vectors.shape)"
   ]
  },
  {
   "cell_type": "code",
   "execution_count": 44,
   "id": "bc81eb2a-abbd-4185-aac5-750dffdbcce5",
   "metadata": {},
   "outputs": [],
   "source": [
    "model.save('tmp')"
   ]
  },
  {
   "cell_type": "code",
   "execution_count": 4,
   "id": "458ee1b5-9dfe-4c21-bcf6-43f37603de36",
   "metadata": {},
   "outputs": [],
   "source": [
    "import gensim\n",
    "new_model = gensim.models.Word2Vec.load('tmp')"
   ]
  },
  {
   "cell_type": "code",
   "execution_count": 45,
   "id": "896c64b8-6c9d-4e6e-9a8a-4cf1bfed6cf6",
   "metadata": {},
   "outputs": [],
   "source": [
    "import umap\n",
    "# Спроецируем в 2d пространство\n",
    "\n",
    "points = umap.UMAP(random_state=42).fit_transform(model.wv.vectors[:500])"
   ]
  },
  {
   "cell_type": "code",
   "execution_count": 46,
   "id": "85b97c46-8215-4f8a-9c40-1d371b9e97f2",
   "metadata": {},
   "outputs": [
    {
     "data": {
      "image/png": "[encoded data removed]",
      "text/plain": [
       "<Figure size 1008x792 with 1 Axes>"
      ]
     },
     "metadata": {
      "needs_background": "light"
     },
     "output_type": "display_data"
    }
   ],
   "source": [
    "fig, ax = plt.subplots(figsize=(14, 11))\n",
    "ax.scatter(points[:, 0], points[:, 1])\n",
    "\n",
    "for i, txt in enumerate(model.wv.index_to_key[:200]):\n",
    "    ax.annotate(txt, (points[i, 0], points[i, 1]))"
   ]
  },
  {
   "cell_type": "code",
   "execution_count": null,
   "id": "54dfd218-70de-4f95-869b-37244f2b63cb",
   "metadata": {},
   "outputs": [],
   "source": [
    "type(model)"
   ]
  },
  {
   "cell_type": "code",
   "execution_count": null,
   "id": "c652c2d2-715a-4d68-89f0-f782eae5c77a",
   "metadata": {},
   "outputs": [],
   "source": [
    "# dir(model.wv)"
   ]
  },
  {
   "cell_type": "code",
   "execution_count": null,
   "id": "cdd7b0c9-8c59-4fbd-8538-8d915cdb12a0",
   "metadata": {},
   "outputs": [],
   "source": [
    "type(model.wv.index_to_key)"
   ]
  },
  {
   "cell_type": "code",
   "execution_count": null,
   "id": "1c6e4340-a3b0-4f73-b665-9442f257c5c8",
   "metadata": {},
   "outputs": [],
   "source": [
    "from torch.utils.tensorboard import SummaryWriter\n",
    "\n",
    "writer = SummaryWriter()\n",
    "\n",
    "# log embeddings\n",
    "import tensorflow as tf\n",
    "import tensorboard as tb\n",
    "\n",
    "tf.io.gfile = tb.compat.tensorflow_stub.io.gfile\n",
    "\n",
    "writer.add_embedding(model.wv.vectors, metadata=model.wv.index_to_key)\n",
    "writer.close()"
   ]
  },
  {
   "cell_type": "code",
   "execution_count": null,
   "id": "45e1a213-e5d5-45f5-bc81-475e4fdca5b6",
   "metadata": {},
   "outputs": [],
   "source": [
    "%reload_ext tensorboard"
   ]
  },
  {
   "cell_type": "code",
   "execution_count": null,
   "id": "cf43a010-a9e8-4fa6-8913-f195aa05993a",
   "metadata": {},
   "outputs": [],
   "source": [
    "%tensorboard --logdir=runs --bind_all"
   ]
  },
  {
   "cell_type": "markdown",
   "id": "0aeca0cd-07ac-4983-896b-26141b36aa1a",
   "metadata": {},
   "source": [
    "### BERT"
   ]
  },
  {
   "cell_type": "code",
   "execution_count": null,
   "id": "1a37b559-d143-4296-b33c-2614585df83d",
   "metadata": {},
   "outputs": [],
   "source": [
    "!pip install transformers"
   ]
  },
  {
   "cell_type": "code",
   "execution_count": 12,
   "id": "fd473e1d-0260-45c8-9c75-d38d9b228dcd",
   "metadata": {},
   "outputs": [],
   "source": [
    "import torch\n",
    "from transformers import BertTokenizer, BertModel\n",
    "\n",
    "tokenizer = BertTokenizer.from_pretrained('bert-base-uncased')"
   ]
  },
  {
   "cell_type": "code",
   "execution_count": 13,
   "id": "dafcd8ff-faa7-418a-9a11-6aade18331bf",
   "metadata": {},
   "outputs": [
    {
     "name": "stderr",
     "output_type": "stream",
     "text": [
      "Some weights of the model checkpoint at bert-base-uncased were not used when initializing BertModel: ['cls.predictions.transform.LayerNorm.weight', 'cls.predictions.bias', 'cls.predictions.transform.LayerNorm.bias', 'cls.predictions.transform.dense.bias', 'cls.predictions.transform.dense.weight', 'cls.predictions.decoder.weight', 'cls.seq_relationship.bias', 'cls.seq_relationship.weight']\n",
      "- This IS expected if you are initializing BertModel from the checkpoint of a model trained on another task or with another architecture (e.g. initializing a BertForSequenceClassification model from a BertForPreTraining model).\n",
      "- This IS NOT expected if you are initializing BertModel from the checkpoint of a model that you expect to be exactly identical (initializing a BertForSequenceClassification model from a BertForSequenceClassification model).\n"
     ]
    },
    {
     "data": {
      "text/plain": [
       "BertModel(\n",
       "  (embeddings): BertEmbeddings(\n",
       "    (word_embeddings): Embedding(30522, 768, padding_idx=0)\n",
       "    (position_embeddings): Embedding(512, 768)\n",
       "    (token_type_embeddings): Embedding(2, 768)\n",
       "    (LayerNorm): LayerNorm((768,), eps=1e-12, elementwise_affine=True)\n",
       "    (dropout): Dropout(p=0.1, inplace=False)\n",
       "  )\n",
       "  (encoder): BertEncoder(\n",
       "    (layer): ModuleList(\n",
       "      (0): BertLayer(\n",
       "        (attention): BertAttention(\n",
       "          (self): BertSelfAttention(\n",
       "            (query): Linear(in_features=768, out_features=768, bias=True)\n",
       "            (key): Linear(in_features=768, out_features=768, bias=True)\n",
       "            (value): Linear(in_features=768, out_features=768, bias=True)\n",
       "            (dropout): Dropout(p=0.1, inplace=False)\n",
       "          )\n",
       "          (output): BertSelfOutput(\n",
       "            (dense): Linear(in_features=768, out_features=768, bias=True)\n",
       "            (LayerNorm): LayerNorm((768,), eps=1e-12, elementwise_affine=True)\n",
       "            (dropout): Dropout(p=0.1, inplace=False)\n",
       "          )\n",
       "        )\n",
       "        (intermediate): BertIntermediate(\n",
       "          (dense): Linear(in_features=768, out_features=3072, bias=True)\n",
       "        )\n",
       "        (output): BertOutput(\n",
       "          (dense): Linear(in_features=3072, out_features=768, bias=True)\n",
       "          (LayerNorm): LayerNorm((768,), eps=1e-12, elementwise_affine=True)\n",
       "          (dropout): Dropout(p=0.1, inplace=False)\n",
       "        )\n",
       "      )\n",
       "      (1): BertLayer(\n",
       "        (attention): BertAttention(\n",
       "          (self): BertSelfAttention(\n",
       "            (query): Linear(in_features=768, out_features=768, bias=True)\n",
       "            (key): Linear(in_features=768, out_features=768, bias=True)\n",
       "            (value): Linear(in_features=768, out_features=768, bias=True)\n",
       "            (dropout): Dropout(p=0.1, inplace=False)\n",
       "          )\n",
       "          (output): BertSelfOutput(\n",
       "            (dense): Linear(in_features=768, out_features=768, bias=True)\n",
       "            (LayerNorm): LayerNorm((768,), eps=1e-12, elementwise_affine=True)\n",
       "            (dropout): Dropout(p=0.1, inplace=False)\n",
       "          )\n",
       "        )\n",
       "        (intermediate): BertIntermediate(\n",
       "          (dense): Linear(in_features=768, out_features=3072, bias=True)\n",
       "        )\n",
       "        (output): BertOutput(\n",
       "          (dense): Linear(in_features=3072, out_features=768, bias=True)\n",
       "          (LayerNorm): LayerNorm((768,), eps=1e-12, elementwise_affine=True)\n",
       "          (dropout): Dropout(p=0.1, inplace=False)\n",
       "        )\n",
       "      )\n",
       "      (2): BertLayer(\n",
       "        (attention): BertAttention(\n",
       "          (self): BertSelfAttention(\n",
       "            (query): Linear(in_features=768, out_features=768, bias=True)\n",
       "            (key): Linear(in_features=768, out_features=768, bias=True)\n",
       "            (value): Linear(in_features=768, out_features=768, bias=True)\n",
       "            (dropout): Dropout(p=0.1, inplace=False)\n",
       "          )\n",
       "          (output): BertSelfOutput(\n",
       "            (dense): Linear(in_features=768, out_features=768, bias=True)\n",
       "            (LayerNorm): LayerNorm((768,), eps=1e-12, elementwise_affine=True)\n",
       "            (dropout): Dropout(p=0.1, inplace=False)\n",
       "          )\n",
       "        )\n",
       "        (intermediate): BertIntermediate(\n",
       "          (dense): Linear(in_features=768, out_features=3072, bias=True)\n",
       "        )\n",
       "        (output): BertOutput(\n",
       "          (dense): Linear(in_features=3072, out_features=768, bias=True)\n",
       "          (LayerNorm): LayerNorm((768,), eps=1e-12, elementwise_affine=True)\n",
       "          (dropout): Dropout(p=0.1, inplace=False)\n",
       "        )\n",
       "      )\n",
       "      (3): BertLayer(\n",
       "        (attention): BertAttention(\n",
       "          (self): BertSelfAttention(\n",
       "            (query): Linear(in_features=768, out_features=768, bias=True)\n",
       "            (key): Linear(in_features=768, out_features=768, bias=True)\n",
       "            (value): Linear(in_features=768, out_features=768, bias=True)\n",
       "            (dropout): Dropout(p=0.1, inplace=False)\n",
       "          )\n",
       "          (output): BertSelfOutput(\n",
       "            (dense): Linear(in_features=768, out_features=768, bias=True)\n",
       "            (LayerNorm): LayerNorm((768,), eps=1e-12, elementwise_affine=True)\n",
       "            (dropout): Dropout(p=0.1, inplace=False)\n",
       "          )\n",
       "        )\n",
       "        (intermediate): BertIntermediate(\n",
       "          (dense): Linear(in_features=768, out_features=3072, bias=True)\n",
       "        )\n",
       "        (output): BertOutput(\n",
       "          (dense): Linear(in_features=3072, out_features=768, bias=True)\n",
       "          (LayerNorm): LayerNorm((768,), eps=1e-12, elementwise_affine=True)\n",
       "          (dropout): Dropout(p=0.1, inplace=False)\n",
       "        )\n",
       "      )\n",
       "      (4): BertLayer(\n",
       "        (attention): BertAttention(\n",
       "          (self): BertSelfAttention(\n",
       "            (query): Linear(in_features=768, out_features=768, bias=True)\n",
       "            (key): Linear(in_features=768, out_features=768, bias=True)\n",
       "            (value): Linear(in_features=768, out_features=768, bias=True)\n",
       "            (dropout): Dropout(p=0.1, inplace=False)\n",
       "          )\n",
       "          (output): BertSelfOutput(\n",
       "            (dense): Linear(in_features=768, out_features=768, bias=True)\n",
       "            (LayerNorm): LayerNorm((768,), eps=1e-12, elementwise_affine=True)\n",
       "            (dropout): Dropout(p=0.1, inplace=False)\n",
       "          )\n",
       "        )\n",
       "        (intermediate): BertIntermediate(\n",
       "          (dense): Linear(in_features=768, out_features=3072, bias=True)\n",
       "        )\n",
       "        (output): BertOutput(\n",
       "          (dense): Linear(in_features=3072, out_features=768, bias=True)\n",
       "          (LayerNorm): LayerNorm((768,), eps=1e-12, elementwise_affine=True)\n",
       "          (dropout): Dropout(p=0.1, inplace=False)\n",
       "        )\n",
       "      )\n",
       "      (5): BertLayer(\n",
       "        (attention): BertAttention(\n",
       "          (self): BertSelfAttention(\n",
       "            (query): Linear(in_features=768, out_features=768, bias=True)\n",
       "            (key): Linear(in_features=768, out_features=768, bias=True)\n",
       "            (value): Linear(in_features=768, out_features=768, bias=True)\n",
       "            (dropout): Dropout(p=0.1, inplace=False)\n",
       "          )\n",
       "          (output): BertSelfOutput(\n",
       "            (dense): Linear(in_features=768, out_features=768, bias=True)\n",
       "            (LayerNorm): LayerNorm((768,), eps=1e-12, elementwise_affine=True)\n",
       "            (dropout): Dropout(p=0.1, inplace=False)\n",
       "          )\n",
       "        )\n",
       "        (intermediate): BertIntermediate(\n",
       "          (dense): Linear(in_features=768, out_features=3072, bias=True)\n",
       "        )\n",
       "        (output): BertOutput(\n",
       "          (dense): Linear(in_features=3072, out_features=768, bias=True)\n",
       "          (LayerNorm): LayerNorm((768,), eps=1e-12, elementwise_affine=True)\n",
       "          (dropout): Dropout(p=0.1, inplace=False)\n",
       "        )\n",
       "      )\n",
       "      (6): BertLayer(\n",
       "        (attention): BertAttention(\n",
       "          (self): BertSelfAttention(\n",
       "            (query): Linear(in_features=768, out_features=768, bias=True)\n",
       "            (key): Linear(in_features=768, out_features=768, bias=True)\n",
       "            (value): Linear(in_features=768, out_features=768, bias=True)\n",
       "            (dropout): Dropout(p=0.1, inplace=False)\n",
       "          )\n",
       "          (output): BertSelfOutput(\n",
       "            (dense): Linear(in_features=768, out_features=768, bias=True)\n",
       "            (LayerNorm): LayerNorm((768,), eps=1e-12, elementwise_affine=True)\n",
       "            (dropout): Dropout(p=0.1, inplace=False)\n",
       "          )\n",
       "        )\n",
       "        (intermediate): BertIntermediate(\n",
       "          (dense): Linear(in_features=768, out_features=3072, bias=True)\n",
       "        )\n",
       "        (output): BertOutput(\n",
       "          (dense): Linear(in_features=3072, out_features=768, bias=True)\n",
       "          (LayerNorm): LayerNorm((768,), eps=1e-12, elementwise_affine=True)\n",
       "          (dropout): Dropout(p=0.1, inplace=False)\n",
       "        )\n",
       "      )\n",
       "      (7): BertLayer(\n",
       "        (attention): BertAttention(\n",
       "          (self): BertSelfAttention(\n",
       "            (query): Linear(in_features=768, out_features=768, bias=True)\n",
       "            (key): Linear(in_features=768, out_features=768, bias=True)\n",
       "            (value): Linear(in_features=768, out_features=768, bias=True)\n",
       "            (dropout): Dropout(p=0.1, inplace=False)\n",
       "          )\n",
       "          (output): BertSelfOutput(\n",
       "            (dense): Linear(in_features=768, out_features=768, bias=True)\n",
       "            (LayerNorm): LayerNorm((768,), eps=1e-12, elementwise_affine=True)\n",
       "            (dropout): Dropout(p=0.1, inplace=False)\n",
       "          )\n",
       "        )\n",
       "        (intermediate): BertIntermediate(\n",
       "          (dense): Linear(in_features=768, out_features=3072, bias=True)\n",
       "        )\n",
       "        (output): BertOutput(\n",
       "          (dense): Linear(in_features=3072, out_features=768, bias=True)\n",
       "          (LayerNorm): LayerNorm((768,), eps=1e-12, elementwise_affine=True)\n",
       "          (dropout): Dropout(p=0.1, inplace=False)\n",
       "        )\n",
       "      )\n",
       "      (8): BertLayer(\n",
       "        (attention): BertAttention(\n",
       "          (self): BertSelfAttention(\n",
       "            (query): Linear(in_features=768, out_features=768, bias=True)\n",
       "            (key): Linear(in_features=768, out_features=768, bias=True)\n",
       "            (value): Linear(in_features=768, out_features=768, bias=True)\n",
       "            (dropout): Dropout(p=0.1, inplace=False)\n",
       "          )\n",
       "          (output): BertSelfOutput(\n",
       "            (dense): Linear(in_features=768, out_features=768, bias=True)\n",
       "            (LayerNorm): LayerNorm((768,), eps=1e-12, elementwise_affine=True)\n",
       "            (dropout): Dropout(p=0.1, inplace=False)\n",
       "          )\n",
       "        )\n",
       "        (intermediate): BertIntermediate(\n",
       "          (dense): Linear(in_features=768, out_features=3072, bias=True)\n",
       "        )\n",
       "        (output): BertOutput(\n",
       "          (dense): Linear(in_features=3072, out_features=768, bias=True)\n",
       "          (LayerNorm): LayerNorm((768,), eps=1e-12, elementwise_affine=True)\n",
       "          (dropout): Dropout(p=0.1, inplace=False)\n",
       "        )\n",
       "      )\n",
       "      (9): BertLayer(\n",
       "        (attention): BertAttention(\n",
       "          (self): BertSelfAttention(\n",
       "            (query): Linear(in_features=768, out_features=768, bias=True)\n",
       "            (key): Linear(in_features=768, out_features=768, bias=True)\n",
       "            (value): Linear(in_features=768, out_features=768, bias=True)\n",
       "            (dropout): Dropout(p=0.1, inplace=False)\n",
       "          )\n",
       "          (output): BertSelfOutput(\n",
       "            (dense): Linear(in_features=768, out_features=768, bias=True)\n",
       "            (LayerNorm): LayerNorm((768,), eps=1e-12, elementwise_affine=True)\n",
       "            (dropout): Dropout(p=0.1, inplace=False)\n",
       "          )\n",
       "        )\n",
       "        (intermediate): BertIntermediate(\n",
       "          (dense): Linear(in_features=768, out_features=3072, bias=True)\n",
       "        )\n",
       "        (output): BertOutput(\n",
       "          (dense): Linear(in_features=3072, out_features=768, bias=True)\n",
       "          (LayerNorm): LayerNorm((768,), eps=1e-12, elementwise_affine=True)\n",
       "          (dropout): Dropout(p=0.1, inplace=False)\n",
       "        )\n",
       "      )\n",
       "      (10): BertLayer(\n",
       "        (attention): BertAttention(\n",
       "          (self): BertSelfAttention(\n",
       "            (query): Linear(in_features=768, out_features=768, bias=True)\n",
       "            (key): Linear(in_features=768, out_features=768, bias=True)\n",
       "            (value): Linear(in_features=768, out_features=768, bias=True)\n",
       "            (dropout): Dropout(p=0.1, inplace=False)\n",
       "          )\n",
       "          (output): BertSelfOutput(\n",
       "            (dense): Linear(in_features=768, out_features=768, bias=True)\n",
       "            (LayerNorm): LayerNorm((768,), eps=1e-12, elementwise_affine=True)\n",
       "            (dropout): Dropout(p=0.1, inplace=False)\n",
       "          )\n",
       "        )\n",
       "        (intermediate): BertIntermediate(\n",
       "          (dense): Linear(in_features=768, out_features=3072, bias=True)\n",
       "        )\n",
       "        (output): BertOutput(\n",
       "          (dense): Linear(in_features=3072, out_features=768, bias=True)\n",
       "          (LayerNorm): LayerNorm((768,), eps=1e-12, elementwise_affine=True)\n",
       "          (dropout): Dropout(p=0.1, inplace=False)\n",
       "        )\n",
       "      )\n",
       "      (11): BertLayer(\n",
       "        (attention): BertAttention(\n",
       "          (self): BertSelfAttention(\n",
       "            (query): Linear(in_features=768, out_features=768, bias=True)\n",
       "            (key): Linear(in_features=768, out_features=768, bias=True)\n",
       "            (value): Linear(in_features=768, out_features=768, bias=True)\n",
       "            (dropout): Dropout(p=0.1, inplace=False)\n",
       "          )\n",
       "          (output): BertSelfOutput(\n",
       "            (dense): Linear(in_features=768, out_features=768, bias=True)\n",
       "            (LayerNorm): LayerNorm((768,), eps=1e-12, elementwise_affine=True)\n",
       "            (dropout): Dropout(p=0.1, inplace=False)\n",
       "          )\n",
       "        )\n",
       "        (intermediate): BertIntermediate(\n",
       "          (dense): Linear(in_features=768, out_features=3072, bias=True)\n",
       "        )\n",
       "        (output): BertOutput(\n",
       "          (dense): Linear(in_features=3072, out_features=768, bias=True)\n",
       "          (LayerNorm): LayerNorm((768,), eps=1e-12, elementwise_affine=True)\n",
       "          (dropout): Dropout(p=0.1, inplace=False)\n",
       "        )\n",
       "      )\n",
       "    )\n",
       "  )\n",
       "  (pooler): BertPooler(\n",
       "    (dense): Linear(in_features=768, out_features=768, bias=True)\n",
       "    (activation): Tanh()\n",
       "  )\n",
       ")"
      ]
     },
     "execution_count": 13,
     "metadata": {},
     "output_type": "execute_result"
    }
   ],
   "source": [
    "# Load pre-trained model (weights)\n",
    "model_bert = BertModel.from_pretrained('bert-base-uncased',\n",
    "                                  output_hidden_states = True, # возращать эмбеддинги каждого слова\n",
    "                                  )\n",
    "model_bert.eval()"
   ]
  },
  {
   "cell_type": "markdown",
   "id": "d37eaafa-d22f-4376-9410-1e3af5df43cd",
   "metadata": {},
   "source": [
    "# Tests"
   ]
  },
  {
   "cell_type": "markdown",
   "id": "19748724-1fa8-4a91-b39d-942b95a5a70c",
   "metadata": {},
   "source": [
    "## gensim"
   ]
  },
  {
   "cell_type": "code",
   "execution_count": 90,
   "id": "19f74740-9f65-4c51-90fc-81efbc617ac3",
   "metadata": {},
   "outputs": [],
   "source": [
    "#dir(model.wv)"
   ]
  },
  {
   "cell_type": "code",
   "execution_count": 79,
   "id": "b8aadd8b-7894-4f6e-8a34-f7a002328840",
   "metadata": {},
   "outputs": [],
   "source": [
    "def get_similar_gensim(w, topn=5):\n",
    "    return model.wv.most_similar(w, topn=topn)"
   ]
  },
  {
   "cell_type": "code",
   "execution_count": 80,
   "id": "52a9e7a0-cc42-40ba-b302-06807effef42",
   "metadata": {},
   "outputs": [],
   "source": [
    "def sum_words_gensim(w1, w2):\n",
    "    w1 = lemmatizing(w1)\n",
    "    w2 = lemmatizing(w2)\n",
    "    return model.wv.get_vector(w1) + model.wv.get_vector(w2)"
   ]
  },
  {
   "cell_type": "code",
   "execution_count": 81,
   "id": "195c10b3-b3ab-43ac-8a4c-ee63a8ac1e89",
   "metadata": {},
   "outputs": [],
   "source": [
    "def sub_words_gensim(w1, w2, topn=5):\n",
    "    w1 = lemmatizing(w1)\n",
    "    w2 = lemmatizing(w2)\n",
    "    return model.wv.get_vector(w1) - model.wv.get_vector(w2)"
   ]
  },
  {
   "cell_type": "code",
   "execution_count": 65,
   "id": "04d32485-8830-4493-97c5-c310d60dd827",
   "metadata": {},
   "outputs": [
    {
     "data": {
      "text/plain": [
       "[('delivery', 0.6124367713928223),\n",
       " ('fast', 0.6058216691017151),\n",
       " ('shipping', 0.5149460434913635),\n",
       " ('considered', 0.49853014945983887),\n",
       " ('efficient', 0.49817416071891785)]"
      ]
     },
     "execution_count": 65,
     "metadata": {},
     "output_type": "execute_result"
    }
   ],
   "source": [
    "get_similar_gensim(sum_words_gensim('fast', 'delivery'))"
   ]
  },
  {
   "cell_type": "code",
   "execution_count": 66,
   "id": "8e06abae-2495-4781-98c3-795433ab308d",
   "metadata": {},
   "outputs": [
    {
     "data": {
      "text/plain": [
       "[('exactly', 0.78537917137146),\n",
       " ('received', 0.7114383578300476),\n",
       " ('recieved', 0.6714805960655212),\n",
       " ('arrived', 0.6622987985610962),\n",
       " ('came', 0.6115758419036865)]"
      ]
     },
     "execution_count": 66,
     "metadata": {},
     "output_type": "execute_result"
    }
   ],
   "source": [
    "get_similar_gensim(sum_words_gensim('received', 'exactly'))"
   ]
  },
  {
   "cell_type": "code",
   "execution_count": 67,
   "id": "4e2e0ded-7110-4375-8606-ff9daa1d80b0",
   "metadata": {},
   "outputs": [
    {
     "data": {
      "text/plain": [
       "[('small', 0.7731467485427856),\n",
       " ('exactly', 0.7555182576179504),\n",
       " ('big', 0.6538877487182617),\n",
       " ('tiny', 0.6452298760414124),\n",
       " ('smaller', 0.6305045485496521)]"
      ]
     },
     "execution_count": 67,
     "metadata": {},
     "output_type": "execute_result"
    }
   ],
   "source": [
    "get_similar_gensim(sum_words_gensim('small', 'exactly'))"
   ]
  },
  {
   "cell_type": "code",
   "execution_count": 68,
   "id": "186b5a01-f135-4acf-927c-7cfb5ca19061",
   "metadata": {},
   "outputs": [
    {
     "data": {
      "text/plain": [
       "[('expensive', 0.7258939146995544),\n",
       " ('kid', 0.7087664604187012),\n",
       " ('child', 0.6453214287757874),\n",
       " ('boy', 0.6183884143829346),\n",
       " ('girl', 0.6158367991447449)]"
      ]
     },
     "execution_count": 68,
     "metadata": {},
     "output_type": "execute_result"
    }
   ],
   "source": [
    "get_similar_gensim(sum_words_gensim('expensive', 'kid'))"
   ]
  },
  {
   "cell_type": "code",
   "execution_count": 71,
   "id": "104d871d-c680-4581-afdd-582541311072",
   "metadata": {},
   "outputs": [
    {
     "data": {
      "text/plain": [
       "[('kid', 0.9030582904815674),\n",
       " ('child', 0.8681529760360718),\n",
       " ('boy', 0.7971563935279846),\n",
       " ('girl', 0.7898962497711182),\n",
       " ('toddler', 0.7737468481063843)]"
      ]
     },
     "execution_count": 71,
     "metadata": {},
     "output_type": "execute_result"
    }
   ],
   "source": [
    "get_similar_gensim(sum_words_gensim('male', 'kid'))"
   ]
  },
  {
   "cell_type": "code",
   "execution_count": 75,
   "id": "faccfdd3-babc-4106-a438-c01ff864615e",
   "metadata": {},
   "outputs": [
    {
     "data": {
      "text/plain": [
       "[('hanbok', 0.4610828757286072),\n",
       " ('sacramento', 0.43584465980529785),\n",
       " ('bodysuit', 0.413754940032959),\n",
       " ('troy', 0.41225942969322205),\n",
       " ('zigzag', 0.41130807995796204)]"
      ]
     },
     "execution_count": 75,
     "metadata": {},
     "output_type": "execute_result"
    }
   ],
   "source": [
    "get_similar_gensim(sub_words_gensim('boy', 'kid'))"
   ]
  },
  {
   "cell_type": "code",
   "execution_count": 76,
   "id": "d4e8e50c-06fc-4113-a666-3ab3a39c22b9",
   "metadata": {},
   "outputs": [
    {
     "data": {
      "text/plain": [
       "[('hanbok', 0.4610828757286072),\n",
       " ('sacramento', 0.43584465980529785),\n",
       " ('bodysuit', 0.413754940032959),\n",
       " ('troy', 0.41225942969322205),\n",
       " ('zigzag', 0.41130807995796204)]"
      ]
     },
     "execution_count": 76,
     "metadata": {},
     "output_type": "execute_result"
    }
   ],
   "source": [
    "get_similar_gensim(sub_words_gensim('boy', 'kid'))"
   ]
  },
  {
   "cell_type": "code",
   "execution_count": 77,
   "id": "ea2312ed-c184-46f4-93c9-699bfdde0fe4",
   "metadata": {},
   "outputs": [
    {
     "data": {
      "text/plain": [
       "[('wonderful', 0.5530006885528564),\n",
       " ('deliverygreat', 0.37149471044540405),\n",
       " ('lehs', 0.36560413241386414),\n",
       " ('admire', 0.3623937964439392),\n",
       " ('hapeestore', 0.35470083355903625)]"
      ]
     },
     "execution_count": 77,
     "metadata": {},
     "output_type": "execute_result"
    }
   ],
   "source": [
    "get_similar_gensim(sub_words_gensim('wonderful', 'fast'))"
   ]
  },
  {
   "cell_type": "code",
   "execution_count": 82,
   "id": "61398d90-4942-4d5c-a548-c1472e7ba380",
   "metadata": {},
   "outputs": [
    {
     "data": {
      "text/plain": [
       "[('quick', 0.8987053632736206),\n",
       " ('speedy', 0.8405648469924927),\n",
       " ('prompt', 0.7896718382835388),\n",
       " ('fastthe', 0.7099915742874146),\n",
       " ('swift', 0.6930599808692932)]"
      ]
     },
     "execution_count": 82,
     "metadata": {},
     "output_type": "execute_result"
    }
   ],
   "source": [
    "get_similar_gensim('fast')"
   ]
  },
  {
   "cell_type": "code",
   "execution_count": 83,
   "id": "4d85944f-2fa7-40bf-8aff-9c6f9091c95f",
   "metadata": {},
   "outputs": [
    {
     "data": {
      "text/plain": [
       "[('girl', 0.9461214542388916),\n",
       " ('son', 0.9209843277931213),\n",
       " ('daughter', 0.9176813364028931),\n",
       " ('gal', 0.9126652479171753),\n",
       " ('kid', 0.8462045192718506)]"
      ]
     },
     "execution_count": 83,
     "metadata": {},
     "output_type": "execute_result"
    }
   ],
   "source": [
    "get_similar_gensim('boy')"
   ]
  },
  {
   "cell_type": "code",
   "execution_count": 84,
   "id": "7c8ce6bd-f5d6-4995-8f0c-573921e98ea3",
   "metadata": {},
   "outputs": [
    {
     "data": {
      "text/plain": [
       "[('disappoints', 0.8548948168754578),\n",
       " ('dissapoint', 0.7984794974327087),\n",
       " ('fails', 0.7210639119148254),\n",
       " ('fail', 0.697834849357605),\n",
       " ('worksplease', 0.6574950218200684)]"
      ]
     },
     "execution_count": 84,
     "metadata": {},
     "output_type": "execute_result"
    }
   ],
   "source": [
    "get_similar_gensim('disappoint')"
   ]
  },
  {
   "cell_type": "code",
   "execution_count": 87,
   "id": "a09ac981-f3ab-49cc-87d5-84ee1d3406e1",
   "metadata": {},
   "outputs": [
    {
     "data": {
      "text/plain": [
       "[('conditoon', 0.42834076285362244),\n",
       " ('thkxssss', 0.4157364070415497),\n",
       " ('eeeetehwoncaslehhh', 0.4123115837574005),\n",
       " ('儿子很开心', 0.3960675001144409),\n",
       " ('conditions', 0.39594870805740356)]"
      ]
     },
     "execution_count": 87,
     "metadata": {},
     "output_type": "execute_result"
    }
   ],
   "source": [
    "model.wv.most_similar(negative = 'good', topn=5)"
   ]
  },
  {
   "cell_type": "code",
   "execution_count": 88,
   "id": "5ec5608c-3a84-4150-b09d-50cf857e1116",
   "metadata": {},
   "outputs": [
    {
     "data": {
      "text/plain": [
       "[('upyeah', 0.3697245121002197),\n",
       " ('deliverywill', 0.3693915605545044),\n",
       " ('deivery', 0.3682378828525543),\n",
       " ('delivety', 0.36283358931541443),\n",
       " ('delievery', 0.3573198914527893)]"
      ]
     },
     "execution_count": 88,
     "metadata": {},
     "output_type": "execute_result"
    }
   ],
   "source": [
    "model.wv.most_similar(negative = 'fast', topn=5)"
   ]
  },
  {
   "cell_type": "code",
   "execution_count": 89,
   "id": "d77ad516-85f4-4431-95dc-e54ec097c157",
   "metadata": {},
   "outputs": [
    {
     "data": {
      "text/plain": [
       "[('informed', 0.39557695388793945),\n",
       " ('conditionexpected', 0.3920026421546936),\n",
       " ('ordernicely', 0.3862084448337555),\n",
       " ('alhamdulillahreceived', 0.385600209236145),\n",
       " ('iftar', 0.3804769814014435)]"
      ]
     },
     "execution_count": 89,
     "metadata": {},
     "output_type": "execute_result"
    }
   ],
   "source": [
    "model.wv.most_similar(negative = 'cheap', topn=5)"
   ]
  },
  {
   "cell_type": "code",
   "execution_count": null,
   "id": "532f1460-3436-4d02-b69f-8230ec7ba241",
   "metadata": {},
   "outputs": [],
   "source": []
  },
  {
   "cell_type": "markdown",
   "id": "332d60b9-d7b9-43bd-b1c5-a7e7540697d3",
   "metadata": {
    "tags": []
   },
   "source": [
    "## Bert"
   ]
  },
  {
   "cell_type": "code",
   "execution_count": 19,
   "id": "726a2422-127c-42c1-b2d8-481dfc3ea348",
   "metadata": {},
   "outputs": [],
   "source": [
    "# incapsulate to function\n",
    "\n",
    "def get_word_embedding(word: str) -> torch.Tensor:\n",
    "    # Получим индексы токенов\n",
    "    tokenized_query = tokenizer.tokenize(text)\n",
    "    indexed_tokens = tokenizer.convert_tokens_to_ids(tokenized_query)\n",
    "    segments_ids = [1] * len(indexed_tokens)\n",
    "    \n",
    "    # to tensor \n",
    "    tokens_tensor = torch.tensor([indexed_tokens])\n",
    "    segments_tensors = torch.tensor([segments_ids])\n",
    "    \n",
    "    # calc embeddings\n",
    "    outputs = model_bert(tokens_tensor, segments_tensors)\n",
    "    embeddings = outputs[2]\n",
    "    #print(type(outputs))\n",
    "    last_layer_embs = embeddings[-1]\n",
    "    sentense_embedding = last_layer_embs.squeeze(0).sum(dim=0)\n",
    "    \n",
    "    return sentense_embedding"
   ]
  },
  {
   "cell_type": "code",
   "execution_count": 20,
   "id": "24723f0e-6879-4b5a-8289-9749273e5235",
   "metadata": {},
   "outputs": [],
   "source": [
    "from itertools import chain\n",
    "from tqdm import tqdm"
   ]
  },
  {
   "cell_type": "code",
   "execution_count": 21,
   "id": "46e1da22-9be4-40c4-a535-f246a5ab1ed4",
   "metadata": {},
   "outputs": [],
   "source": [
    "words = list(chain.from_iterable([text.split() for text in reviews_lem]))"
   ]
  },
  {
   "cell_type": "code",
   "execution_count": 22,
   "id": "02cd5581-9ba2-4f7a-badb-121c82c892be",
   "metadata": {},
   "outputs": [],
   "source": [
    "words = list(set(words))"
   ]
  },
  {
   "cell_type": "code",
   "execution_count": 23,
   "id": "bc6e8225-48fa-46f0-b8f2-92a80bf84bfe",
   "metadata": {},
   "outputs": [
    {
     "data": {
      "text/plain": [
       "150387"
      ]
     },
     "execution_count": 23,
     "metadata": {},
     "output_type": "execute_result"
    }
   ],
   "source": [
    "len(words)"
   ]
  },
  {
   "cell_type": "code",
   "execution_count": 24,
   "id": "a830d48d-7366-4a96-a008-02b210bbc8c2",
   "metadata": {},
   "outputs": [
    {
     "name": "stderr",
     "output_type": "stream",
     "text": [
      "100%|██████████| 1000/1000 [01:28<00:00, 11.33it/s]\n"
     ]
    }
   ],
   "source": [
    "texts_embs = []\n",
    "\n",
    "for text in tqdm(words[:1000], leave=True, position=0):\n",
    "    ##print(text\n",
    "    emb = get_word_embedding(text)\n",
    "    texts_embs.append(emb);"
   ]
  },
  {
   "cell_type": "code",
   "execution_count": 38,
   "id": "65ce4116-4ad7-4f17-bcca-153a8c0a3512",
   "metadata": {},
   "outputs": [
    {
     "data": {
      "text/plain": [
       "torch.Size([1000, 768])"
      ]
     },
     "execution_count": 38,
     "metadata": {},
     "output_type": "execute_result"
    }
   ],
   "source": [
    "texts_embs = torch.stack(texts_embs)\n",
    "\n",
    "texts_embs.size()"
   ]
  },
  {
   "cell_type": "code",
   "execution_count": null,
   "id": "4bfd90e9-eee6-461a-9efc-1c77093d36a7",
   "metadata": {},
   "outputs": [],
   "source": []
  },
  {
   "cell_type": "code",
   "execution_count": 25,
   "id": "633bbcfa-ab13-4d38-9963-b4e90c6b1d5a",
   "metadata": {},
   "outputs": [],
   "source": [
    "def sum_words_bert(w1, w2):\n",
    "    w1 = lemmatizing(w1)\n",
    "    w2 = lemmatizing(w2)\n",
    "    return texts_embs[words.index(w1)] + texts_embs[words.index(w2)]"
   ]
  },
  {
   "cell_type": "code",
   "execution_count": 57,
   "id": "f04c0d92-ea2d-4c78-bbf4-2a6e049ebf04",
   "metadata": {},
   "outputs": [],
   "source": [
    "def sub_words_bert(w1, w2):\n",
    "    w1 = lemmatizing(w1)\n",
    "    w2 = lemmatizing(w2)\n",
    "    return texts_embs[words.index(w1)] - texts_embs[words.index(w2)]"
   ]
  },
  {
   "cell_type": "code",
   "execution_count": 50,
   "id": "804dbd97-0b54-4b52-af5c-4a2c809ce7c0",
   "metadata": {},
   "outputs": [],
   "source": [
    "def get_similar_bert(text_emb, topn=5):\n",
    "    li = torch.nn.functional.cosine_similarity(text_emb, texts_embs).tolist();\n",
    "    inds = sorted(range(len(li)), key=lambda k: li[k])[:topn];\n",
    "    return [words[ind] for ind in inds];"
   ]
  },
  {
   "cell_type": "code",
   "execution_count": 64,
   "id": "89fc1a67-b76e-4abb-8baa-a888eb5ab5db",
   "metadata": {},
   "outputs": [],
   "source": [
    "def get_not_similar_bert(text_emb, topn=5):\n",
    "    li = torch.nn.functional.cosine_similarity(text_emb, texts_embs).tolist();\n",
    "    inds = sorted(range(len(li)), key=lambda k: li[k], reverse=True)[:topn];\n",
    "    return [words[ind] for ind in inds];"
   ]
  },
  {
   "cell_type": "code",
   "execution_count": 32,
   "id": "95b65c31-e5f8-4aa5-89f3-cc840f107a1a",
   "metadata": {},
   "outputs": [
    {
     "data": {
      "text/plain": [
       "['mefor',\n",
       " 'cheatedwont',\n",
       " 'sook',\n",
       " 'goodrocking',\n",
       " 'gudehh',\n",
       " 'packagingcorrect',\n",
       " 'newwell',\n",
       " 'cloudthe',\n",
       " 'greatsuperbcoolingi',\n",
       " 'enforce']"
      ]
     },
     "execution_count": 32,
     "metadata": {},
     "output_type": "execute_result"
    }
   ],
   "source": [
    "words[810:820]"
   ]
  },
  {
   "cell_type": "code",
   "execution_count": 59,
   "id": "1bbc7434-04be-4e80-8a10-41734e35f500",
   "metadata": {},
   "outputs": [
    {
     "data": {
      "text/plain": [
       "['sook', 'vanfast', 'funnyleft', 'soooon', 'knowthank']"
      ]
     },
     "execution_count": 59,
     "metadata": {},
     "output_type": "execute_result"
    }
   ],
   "source": [
    "get_similar_bert(sum_words_bert('fridaysound', 'sook'))"
   ]
  },
  {
   "cell_type": "code",
   "execution_count": 60,
   "id": "907c7d12-6a04-4068-a676-7f855c027807",
   "metadata": {},
   "outputs": [
    {
     "data": {
      "text/plain": [
       "['sook', 'vanfast', 'funnyleft', 'soooon', 'knowthank']"
      ]
     },
     "execution_count": 60,
     "metadata": {},
     "output_type": "execute_result"
    }
   ],
   "source": [
    "get_similar_bert(sub_words_bert('fridaysound', 'sook'))"
   ]
  },
  {
   "cell_type": "code",
   "execution_count": 63,
   "id": "d15f7121-0277-4779-a339-2f6b1b5471b0",
   "metadata": {},
   "outputs": [
    {
     "data": {
      "text/plain": [
       "['xhp', 'desugn', 'receptor', 'dominate', 'cabin']"
      ]
     },
     "execution_count": 63,
     "metadata": {},
     "output_type": "execute_result"
    }
   ],
   "source": [
    "get_similar_bert(texts_embs[words.index('sook')])"
   ]
  },
  {
   "cell_type": "code",
   "execution_count": 65,
   "id": "fe255d41-2095-4f99-bc6a-6a20503a47eb",
   "metadata": {},
   "outputs": [
    {
     "data": {
      "text/plain": [
       "['sook', 'knowthank', 'soooon', 'lighti', 'yrold']"
      ]
     },
     "execution_count": 65,
     "metadata": {},
     "output_type": "execute_result"
    }
   ],
   "source": [
    "get_not_similar_bert(texts_embs[words.index('sook')])"
   ]
  },
  {
   "cell_type": "markdown",
   "id": "31590c68-4b25-4aaf-8a80-5fc16c0f780d",
   "metadata": {},
   "source": [
    "# Projector\n",
    "\n",
    "Из прошлого задания вы выяснили наиболее хорошую для представления связей между словами модель. Спроецируйте ~2-3 тысячи наиболее популярных слов из выбранного корпуса в tensorflow projector."
   ]
  },
  {
   "cell_type": "markdown",
   "id": "f0551539-0155-4f62-83d7-49818d06489c",
   "metadata": {},
   "source": [
    "Сказать тружно. bert я не смог нормально рассмотреть. Пусть лечше ведет себя gensim."
   ]
  },
  {
   "cell_type": "code",
   "execution_count": null,
   "id": "fac09d96-882e-4630-b762-57f25dd42f25",
   "metadata": {},
   "outputs": [],
   "source": [
    "Сделано выше кек."
   ]
  },
  {
   "cell_type": "code",
   "execution_count": null,
   "id": "2c002092-8943-4615-8335-8a455326f92a",
   "metadata": {},
   "outputs": [],
   "source": []
  },
  {
   "cell_type": "code",
   "execution_count": null,
   "id": "699fdbb9-4a2b-4c48-8739-91a4115a1ac6",
   "metadata": {},
   "outputs": [],
   "source": []
  }
 ],
 "metadata": {
  "kernelspec": {
   "display_name": "Python 3 (ipykernel)",
   "language": "python",
   "name": "python3"
  },
  "language_info": {
   "codemirror_mode": {
    "name": "ipython",
    "version": 3
   },
   "file_extension": ".py",
   "mimetype": "text/x-python",
   "name": "python",
   "nbconvert_exporter": "python",
   "pygments_lexer": "ipython3",
   "version": "3.9.5"
  }
 },
 "nbformat": 4,
 "nbformat_minor": 5
}
