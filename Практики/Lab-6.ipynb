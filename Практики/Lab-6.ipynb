{
 "cells": [
  {
   "cell_type": "markdown",
   "id": "7d5bb45f-ec70-4416-9a40-bf940d9bb48d",
   "metadata": {},
   "source": [
    "# Анализ картинок\n",
    "\n",
    "Создайте эмбеддинги изображений и отобразите их в tensorboard projector'е\n",
    "\n",
    "1. Скачайте датасет [CelebA](https://pytorch.org/vision/stable/datasets.html#celeba) или любой другой не рассмотренный на лекции\n",
    "1. Выберите одну из предобученных [моделей torchvision](https://pytorch.org/vision/stable/models.html)\n",
    "1. Создайте эмбеддинги изображений из датасета\n",
    "1. Визуализируйте эмбеддинги в tensorboard projector"
   ]
  },
  {
   "cell_type": "markdown",
   "id": "04c22e22-c5ae-4ad9-b3c8-28aaaf87ccc2",
   "metadata": {},
   "source": [
    "# Лена\n",
    "\n",
    "Примените фильтр к изображению Лены\n",
    "\n",
    "1. Скачайте изображение [Лены](http://optipng.sourceforge.net/pngtech/img/lena.png)\n",
    "1. Найдите фильтр для выделения признака на изображении. В лекции показан пример фильтра Собеля. Использовать примеры с лекций нельзя. Начать поиск фильтра можно с [этой страницы](https://en.wikipedia.org/wiki/Feature_(computer_vision)#Extraction)\n",
    "1. Реализуйте процедуру свёртки изображения с фильтром\n",
    "1. Сверните Лену"
   ]
  },
  {
   "cell_type": "code",
   "execution_count": null,
   "id": "5ffed0cf-7579-43e3-a1eb-56a4b0e9f144",
   "metadata": {},
   "outputs": [],
   "source": []
  }
 ],
 "metadata": {
  "kernelspec": {
   "display_name": "Python 3 (ipykernel)",
   "language": "python",
   "name": "python3"
  },
  "language_info": {
   "codemirror_mode": {
    "name": "ipython",
    "version": 3
   },
   "file_extension": ".py",
   "mimetype": "text/x-python",
   "name": "python",
   "nbconvert_exporter": "python",
   "pygments_lexer": "ipython3",
   "version": "3.9.7"
  }
 },
 "nbformat": 4,
 "nbformat_minor": 5
}
